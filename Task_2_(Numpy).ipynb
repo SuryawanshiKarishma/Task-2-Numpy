{
  "cells": [
    {
      "cell_type": "markdown",
      "metadata": {
        "id": "view-in-github",
        "colab_type": "text"
      },
      "source": [
        "<a href=\"https://colab.research.google.com/github/SuryawanshiKarishma/Task-2-Numpy/blob/main/Task_2_(Numpy).ipynb\" target=\"_parent\"><img src=\"https://colab.research.google.com/assets/colab-badge.svg\" alt=\"Open In Colab\"/></a>"
      ]
    },
    {
      "cell_type": "markdown",
      "metadata": {
        "id": "vTJjPXrgCAwd"
      },
      "source": [
        "# Numpy\n",
        "\n"
      ]
    },
    {
      "cell_type": "markdown",
      "metadata": {
        "id": "owoo5xEBCAwk"
      },
      "source": [
        "#### 1. Import the numpy package under the name `np` (★☆☆) \n",
        "(**hint**: import … as …)"
      ]
    },
    {
      "cell_type": "code",
      "execution_count": null,
      "metadata": {
        "collapsed": true,
        "id": "FKAS1YncCAwl"
      },
      "outputs": [],
      "source": [
        "import numpy as np"
      ]
    },
    {
      "cell_type": "markdown",
      "metadata": {
        "id": "6ha8pQunCAwn"
      },
      "source": [
        "#### 2. Print the numpy version and the configuration (★☆☆) \n",
        "(**hint**: np.\\_\\_version\\_\\_, np.show\\_config)"
      ]
    },
    {
      "cell_type": "code",
      "execution_count": null,
      "metadata": {
        "colab": {
          "base_uri": "https://localhost:8080/"
        },
        "id": "LPMDt61NCAwo",
        "outputId": "ddefa89c-ab54-457b-c9e2-530a02fa9d6e"
      },
      "outputs": [
        {
          "output_type": "stream",
          "name": "stdout",
          "text": [
            "1.21.6\n"
          ]
        }
      ],
      "source": [
        "print(np.version.version)"
      ]
    },
    {
      "cell_type": "markdown",
      "metadata": {
        "id": "UgBcAkveCAwo"
      },
      "source": [
        "#### 3. Create a null vector of size 10 (★☆☆) \n",
        "(**hint**: np.zeros)"
      ]
    },
    {
      "cell_type": "code",
      "execution_count": null,
      "metadata": {
        "colab": {
          "base_uri": "https://localhost:8080/"
        },
        "id": "uU8DYJY2CAwp",
        "outputId": "35b6c3bd-7bb3-4386-cfa2-ffc273161db9"
      },
      "outputs": [
        {
          "output_type": "stream",
          "name": "stdout",
          "text": [
            "[0. 0. 0. 0. 0. 0. 0. 0. 0. 0.]\n"
          ]
        }
      ],
      "source": [
        "x = np.zeros(10)\n",
        "print(x)"
      ]
    },
    {
      "cell_type": "markdown",
      "metadata": {
        "id": "XMFK_wl6CAwq"
      },
      "source": [
        "#### 4.  How to find the memory size of any array (★☆☆) \n",
        "(**hint**: size, itemsize)"
      ]
    },
    {
      "cell_type": "code",
      "execution_count": null,
      "metadata": {
        "colab": {
          "base_uri": "https://localhost:8080/"
        },
        "id": "uGwOMeN4CAwr",
        "outputId": "b92ea05d-fa0c-49b4-a3a4-67da6bccc49c"
      },
      "outputs": [
        {
          "output_type": "stream",
          "name": "stdout",
          "text": [
            "7\n"
          ]
        }
      ],
      "source": [
        "x = np.array([1,2,4,57,68,8,10])\n",
        "print(x.size)"
      ]
    },
    {
      "cell_type": "markdown",
      "metadata": {
        "id": "BjQBbxltCAws"
      },
      "source": [
        "#### 5.  How to get the documentation of the numpy add function from the command line? (★☆☆) \n",
        "(**hint**: np.info)"
      ]
    },
    {
      "cell_type": "code",
      "execution_count": null,
      "metadata": {
        "collapsed": true,
        "colab": {
          "base_uri": "https://localhost:8080/"
        },
        "id": "kRrX9yU-CAwt",
        "outputId": "9cfc75ca-ae75-471b-93ff-2efea65f17f3"
      },
      "outputs": [
        {
          "output_type": "stream",
          "name": "stdout",
          "text": [
            "<function info at 0x7f4698c84950>\n"
          ]
        }
      ],
      "source": [
        "print(np.info)"
      ]
    },
    {
      "cell_type": "markdown",
      "metadata": {
        "id": "b6NvdG7tCAwt"
      },
      "source": [
        "#### 6.  Create a null vector of size 10 but the fifth value which is 1 (★☆☆) \n",
        "(**hint**: array\\[4\\])"
      ]
    },
    {
      "cell_type": "code",
      "execution_count": null,
      "metadata": {
        "colab": {
          "base_uri": "https://localhost:8080/"
        },
        "id": "aydBMLodCAwu",
        "outputId": "592a8a4d-93ae-4fc8-b5da-6f3fdb9dcb13"
      },
      "outputs": [
        {
          "output_type": "stream",
          "name": "stdout",
          "text": [
            "[0. 0. 0. 0. 1. 0. 0. 0. 0. 0.]\n"
          ]
        }
      ],
      "source": [
        "x = np.zeros(10)\n",
        "x[4] = 1\n",
        "print(x)"
      ]
    },
    {
      "cell_type": "markdown",
      "metadata": {
        "id": "nAeO_GrYCAwu"
      },
      "source": [
        "#### 7.  Create a vector with values ranging from 10 to 49 (★☆☆) \n",
        "(**hint**: np.arange)"
      ]
    },
    {
      "cell_type": "code",
      "execution_count": null,
      "metadata": {
        "colab": {
          "base_uri": "https://localhost:8080/"
        },
        "id": "FfkgXp6uCAwv",
        "outputId": "9ea1a907-1fe2-4f96-fa77-9dc418c256e5"
      },
      "outputs": [
        {
          "output_type": "stream",
          "name": "stdout",
          "text": [
            "[10 11 12 13 14 15 16 17 18 19 20 21 22 23 24 25 26 27 28 29 30 31 32 33\n",
            " 34 35 36 37 38 39 40 41 42 43 44 45 46 47 48 49]\n"
          ]
        }
      ],
      "source": [
        "x = np.arange(start = 10, stop = 50)\n",
        "print(x)"
      ]
    },
    {
      "cell_type": "markdown",
      "metadata": {
        "id": "lHaBqQeECAww"
      },
      "source": [
        "#### 8.  Reverse a vector (first element becomes last) (★☆☆) \n",
        "(**hint**: array\\[::-1\\])"
      ]
    },
    {
      "cell_type": "code",
      "execution_count": null,
      "metadata": {
        "colab": {
          "base_uri": "https://localhost:8080/"
        },
        "id": "zXeqFdqwCAww",
        "outputId": "5a964e0b-4a58-49ab-8bca-4f5ae3da183b"
      },
      "outputs": [
        {
          "output_type": "stream",
          "name": "stdout",
          "text": [
            "[10  8 68 57  4  2  1]\n"
          ]
        }
      ],
      "source": [
        "x = np.array([1,2,4,57,68,8,10])\n",
        "print(x[::-1])"
      ]
    },
    {
      "cell_type": "markdown",
      "metadata": {
        "id": "LGyC-ouQCAwx"
      },
      "source": [
        "#### 9.  Create a 3x3 matrix with values ranging from 0 to 8 (★☆☆) \n",
        "(**hint**: reshape)"
      ]
    },
    {
      "cell_type": "code",
      "execution_count": null,
      "metadata": {
        "colab": {
          "base_uri": "https://localhost:8080/"
        },
        "id": "peSrqNrwCAwx",
        "outputId": "8738ce4f-65c9-4cfd-8b4c-677395ccc2e6"
      },
      "outputs": [
        {
          "output_type": "stream",
          "name": "stdout",
          "text": [
            "[[0 1 2]\n",
            " [3 4 5]\n",
            " [6 7 8]]\n"
          ]
        }
      ],
      "source": [
        "x = np.arange(0,9).reshape(3,3)\n",
        "print(x)\n"
      ]
    },
    {
      "cell_type": "markdown",
      "metadata": {
        "id": "Qsi8vaFVCAwy"
      },
      "source": [
        "#### 10. Find indices of non-zero elements from \\[1,2,0,0,4,0\\] (★☆☆) \n",
        "(**hint**: np.nonzero)"
      ]
    },
    {
      "cell_type": "code",
      "execution_count": null,
      "metadata": {
        "colab": {
          "base_uri": "https://localhost:8080/"
        },
        "id": "eyklMsXKCAwz",
        "outputId": "4cb5610d-cb60-4797-bf61-77aacfddcb62"
      },
      "outputs": [
        {
          "output_type": "stream",
          "name": "stdout",
          "text": [
            "(array([0, 1, 4]),)\n"
          ]
        }
      ],
      "source": [
        "x = np.nonzero([1,2,0,0,4,0])\n",
        "print(x)"
      ]
    },
    {
      "cell_type": "markdown",
      "metadata": {
        "id": "x1Is-9E9CAwz"
      },
      "source": [
        "#### 11. Create a 3x3 identity matrix (★☆☆) \n",
        "(**hint**: np.eye)"
      ]
    },
    {
      "cell_type": "code",
      "execution_count": null,
      "metadata": {
        "colab": {
          "base_uri": "https://localhost:8080/"
        },
        "id": "JDtIg0qzCAw0",
        "outputId": "3c1241d2-e21d-4beb-f64f-48fd5ba13a05"
      },
      "outputs": [
        {
          "output_type": "stream",
          "name": "stdout",
          "text": [
            "[[1. 0. 0.]\n",
            " [0. 1. 0.]\n",
            " [0. 0. 1.]]\n"
          ]
        }
      ],
      "source": [
        "x = np.eye(3)\n",
        "print(x)"
      ]
    },
    {
      "cell_type": "markdown",
      "metadata": {
        "id": "4zCyf23LCAw0"
      },
      "source": [
        "#### 12. Create a 3x3x3 array with random values (★☆☆) \n",
        "(**hint**: np.random.random)"
      ]
    },
    {
      "cell_type": "code",
      "execution_count": null,
      "metadata": {
        "collapsed": true,
        "colab": {
          "base_uri": "https://localhost:8080/"
        },
        "id": "rWk0qmhtCAw1",
        "outputId": "24f36825-2680-4f35-a589-01afcdd8631f"
      },
      "outputs": [
        {
          "output_type": "stream",
          "name": "stdout",
          "text": [
            "[[0.14570976 0.07342661 0.23441131]\n",
            " [0.65171511 0.49820222 0.13254809]\n",
            " [0.6591892  0.08644836 0.12401624]]\n"
          ]
        }
      ],
      "source": [
        "x = np.random.random((3,3))\n",
        "print(x)"
      ]
    },
    {
      "cell_type": "markdown",
      "metadata": {
        "id": "w6Dxgy5lCAw1"
      },
      "source": [
        "#### 13. Create a 10x10 array with random values and find the minimum and maximum values (★☆☆) \n",
        "(**hint**: min, max)"
      ]
    },
    {
      "cell_type": "code",
      "execution_count": null,
      "metadata": {
        "colab": {
          "base_uri": "https://localhost:8080/"
        },
        "id": "jnfvHF9BCAw1",
        "outputId": "65992d58-47f0-49eb-de8c-152e0b6d4a9c"
      },
      "outputs": [
        {
          "output_type": "stream",
          "name": "stdout",
          "text": [
            "[[0.72620038 0.90772162 0.12923144 0.27239407 0.82883706 0.56721615\n",
            "  0.78510008 0.04429124 0.41245287 0.52758113]\n",
            " [0.60307531 0.34787977 0.13039418 0.13113905 0.63269479 0.3633899\n",
            "  0.55568708 0.23185632 0.84236355 0.00738461]\n",
            " [0.74117484 0.28301311 0.94165544 0.01165069 0.41047755 0.54438593\n",
            "  0.50273357 0.37548042 0.72792752 0.9055149 ]\n",
            " [0.2119568  0.05117942 0.21755102 0.49664683 0.42295462 0.70664053\n",
            "  0.01969759 0.31359063 0.8373691  0.63169908]\n",
            " [0.57317778 0.28870915 0.78926194 0.03434689 0.68148728 0.91059592\n",
            "  0.01544211 0.72865801 0.93672967 0.73108262]\n",
            " [0.66698131 0.29894533 0.17349767 0.49246593 0.78174326 0.02857367\n",
            "  0.73736608 0.79795377 0.48084978 0.70047297]\n",
            " [0.22565861 0.56522033 0.43539753 0.70445291 0.63249111 0.2437296\n",
            "  0.2261184  0.69984037 0.24856943 0.02933459]\n",
            " [0.26262797 0.06364371 0.94876134 0.82333604 0.36397799 0.84888435\n",
            "  0.19494332 0.08302093 0.40167021 0.76597981]\n",
            " [0.2460297  0.09887515 0.00849778 0.81735202 0.24377884 0.54714488\n",
            "  0.18395397 0.76839888 0.77204534 0.4695177 ]\n",
            " [0.11544797 0.32846778 0.40543418 0.3753977  0.68707634 0.6773846\n",
            "  0.02015333 0.17624488 0.61082614 0.29070184]]\n",
            "0.9487613402772782\n",
            "0.007384605471963401\n"
          ]
        }
      ],
      "source": [
        "x = np.random.random((10,10))\n",
        "print(x)\n",
        "print(np.max(x))\n",
        "print(np.min(x))"
      ]
    },
    {
      "cell_type": "markdown",
      "metadata": {
        "id": "qNdIATMlCAw2"
      },
      "source": [
        "#### 14. Create a random vector of size 30 and find the mean value (★☆☆) \n",
        "(**hint**: mean)"
      ]
    },
    {
      "cell_type": "code",
      "execution_count": null,
      "metadata": {
        "colab": {
          "base_uri": "https://localhost:8080/"
        },
        "id": "5nyOiOnQCAw2",
        "outputId": "ae6f604d-0817-4218-b763-4e3015445f7c"
      },
      "outputs": [
        {
          "output_type": "stream",
          "name": "stdout",
          "text": [
            "[[0.46141478 0.17888949 0.46392958 0.1568202  0.43315412 0.67251198\n",
            "  0.06454593 0.20746077 0.57922256 0.75609515 0.20694974 0.34409237\n",
            "  0.90913177 0.73090752 0.25130027 0.28790764 0.12378729 0.60185388\n",
            "  0.31936091 0.95022172 0.29177241 0.54185635 0.82732153 0.04964526\n",
            "  0.32024318 0.58370125 0.82842344 0.32874179 0.65610351 0.36384683]\n",
            " [0.41209258 0.7650809  0.58395565 0.31627555 0.44259831 0.42726038\n",
            "  0.38395798 0.27428811 0.56439383 0.9214324  0.75510919 0.64472746\n",
            "  0.79071204 0.97370232 0.25881638 0.70263562 0.64995656 0.38286986\n",
            "  0.43911924 0.27267769 0.23899148 0.69096782 0.38171596 0.28398064\n",
            "  0.02086435 0.99881568 0.12837762 0.40916224 0.32492393 0.88358866]\n",
            " [0.10977025 0.8996028  0.48872135 0.20242314 0.13959181 0.4727491\n",
            "  0.82358615 0.95424393 0.87361312 0.94001786 0.14312311 0.77880308\n",
            "  0.43148963 0.05995092 0.68005564 0.07342129 0.73275899 0.71984756\n",
            "  0.01609384 0.20262903 0.67177404 0.12340423 0.55232508 0.4987403\n",
            "  0.09970259 0.18311915 0.53005801 0.54671808 0.83120992 0.21916332]\n",
            " [0.48964933 0.1617529  0.1756122  0.75625901 0.627646   0.88180487\n",
            "  0.93715966 0.0348737  0.33231868 0.66398984 0.27817748 0.32202665\n",
            "  0.96609178 0.8455171  0.40808123 0.33810318 0.64305165 0.37670216\n",
            "  0.03436725 0.50523728 0.23391511 0.28298703 0.54924473 0.98508581\n",
            "  0.79473904 0.06662745 0.35670156 0.65055532 0.71896047 0.4625811 ]\n",
            " [0.40201498 0.12920184 0.51465532 0.47083624 0.90371074 0.35788909\n",
            "  0.75422571 0.03017691 0.66957747 0.16661056 0.21653583 0.02482738\n",
            "  0.08591467 0.46292644 0.38569134 0.55259695 0.35360885 0.83865973\n",
            "  0.50082385 0.90031846 0.18890491 0.58207066 0.16082635 0.59772546\n",
            "  0.56874189 0.89388387 0.00615508 0.47558804 0.02697008 0.29710999]\n",
            " [0.3625373  0.51507547 0.43111219 0.65929262 0.23584747 0.00225303\n",
            "  0.38642996 0.06066281 0.2953195  0.26947324 0.46287186 0.67364666\n",
            "  0.84727726 0.37218164 0.01578115 0.35390191 0.52835339 0.92448267\n",
            "  0.4825477  0.16706639 0.21340049 0.65088777 0.72626248 0.45367989\n",
            "  0.69008381 0.23421798 0.07813774 0.02291633 0.78676125 0.5355387 ]\n",
            " [0.71450879 0.48203823 0.43639504 0.39104222 0.62480467 0.28553855\n",
            "  0.36117274 0.1346258  0.15130102 0.45963589 0.16947652 0.33884736\n",
            "  0.83189546 0.05419118 0.95134306 0.97959875 0.77314316 0.13992935\n",
            "  0.55271028 0.88963308 0.51944813 0.59858515 0.80176608 0.15505717\n",
            "  0.29044405 0.50220055 0.13303943 0.98505952 0.23019495 0.66049481]\n",
            " [0.90414037 0.80595921 0.29772019 0.24231498 0.77192615 0.75244739\n",
            "  0.97282612 0.84875083 0.59606927 0.05143412 0.26530856 0.51551671\n",
            "  0.40713494 0.13904793 0.06517924 0.65772158 0.75046625 0.31005153\n",
            "  0.58153722 0.61265221 0.40607302 0.18890544 0.65339804 0.41619127\n",
            "  0.1743872  0.65983742 0.76820615 0.5009395  0.01495574 0.32702377]\n",
            " [0.03730628 0.01159587 0.82542259 0.60460643 0.2734348  0.03828951\n",
            "  0.17677385 0.23337142 0.11239661 0.2310484  0.57152323 0.71296911\n",
            "  0.32888319 0.85576729 0.23906442 0.32466955 0.66628285 0.4178658\n",
            "  0.59637088 0.85056435 0.59842031 0.73936212 0.81634972 0.58847558\n",
            "  0.29010291 0.59048496 0.43245435 0.1889776  0.80718314 0.33331812]\n",
            " [0.14908723 0.49055629 0.7669323  0.05843409 0.36051805 0.78181997\n",
            "  0.43925401 0.69031768 0.48101325 0.59281211 0.57839794 0.20059286\n",
            "  0.10768753 0.48506989 0.26740539 0.1974174  0.75558451 0.97020928\n",
            "  0.33024648 0.53104118 0.7357604  0.51394945 0.89313701 0.98631568\n",
            "  0.86297831 0.43890184 0.30230358 0.18325345 0.6154337  0.82343894]\n",
            " [0.7719769  0.99770432 0.53180219 0.93532176 0.245875   0.11360188\n",
            "  0.46528981 0.46270239 0.48534135 0.66720252 0.7988479  0.27583452\n",
            "  0.41574109 0.52911559 0.3399022  0.28913865 0.19819686 0.81590937\n",
            "  0.24216819 0.38158954 0.11525127 0.24191617 0.55341902 0.83172028\n",
            "  0.74331534 0.83338689 0.87937833 0.9125579  0.0459984  0.38247428]\n",
            " [0.24711089 0.93019066 0.81746339 0.1184013  0.15125891 0.0286184\n",
            "  0.64246581 0.73833354 0.84477661 0.91123075 0.10800754 0.47182472\n",
            "  0.70095191 0.47718722 0.709977   0.41347225 0.53051038 0.31686851\n",
            "  0.13642531 0.59341076 0.4905173  0.88976892 0.58307492 0.27770279\n",
            "  0.53371961 0.38500737 0.70171481 0.99954861 0.75588981 0.43772344]\n",
            " [0.61599142 0.36411728 0.69938726 0.1308732  0.67406804 0.71443614\n",
            "  0.94739405 0.1718331  0.29335904 0.9993152  0.55170818 0.75979356\n",
            "  0.2295951  0.97826814 0.31937033 0.28195145 0.5032222  0.83825951\n",
            "  0.76987174 0.30001275 0.24823692 0.52079332 0.90415703 0.42457401\n",
            "  0.22951212 0.46344054 0.66058931 0.5531926  0.71510783 0.83763515]\n",
            " [0.06034963 0.61778371 0.39462581 0.42023541 0.0610348  0.50894103\n",
            "  0.08244589 0.50500392 0.41655264 0.3764175  0.6703678  0.18500137\n",
            "  0.64016349 0.783132   0.87253292 0.80646307 0.13734221 0.33267438\n",
            "  0.30530448 0.16617849 0.83698507 0.7901193  0.32439091 0.08946191\n",
            "  0.55346082 0.47901584 0.22546633 0.11996496 0.2496004  0.42476429]\n",
            " [0.44100984 0.77318377 0.91978519 0.54108219 0.21849595 0.36269491\n",
            "  0.90652868 0.90368388 0.00368566 0.46599956 0.56060044 0.27846207\n",
            "  0.09598106 0.65691441 0.99814811 0.45960369 0.84964458 0.37491483\n",
            "  0.82776162 0.15617177 0.43312776 0.8685335  0.98724766 0.54613782\n",
            "  0.58838747 0.54865413 0.33792625 0.58754156 0.12937733 0.75345856]\n",
            " [0.95648372 0.06649888 0.24952783 0.20030453 0.18654761 0.84348857\n",
            "  0.46405817 0.01453176 0.37467466 0.549824   0.29301696 0.15267204\n",
            "  0.43721182 0.16245242 0.06562217 0.10784403 0.96706843 0.28450742\n",
            "  0.86481926 0.24915841 0.93133405 0.70451993 0.57398648 0.60416369\n",
            "  0.29588225 0.58300113 0.23762905 0.92384933 0.07981288 0.38030228]\n",
            " [0.25373898 0.15062277 0.44563116 0.03987764 0.41181622 0.73379459\n",
            "  0.75840891 0.89764521 0.46693057 0.52064725 0.28275327 0.26000816\n",
            "  0.47084762 0.71555821 0.54112118 0.90541923 0.54843393 0.12019435\n",
            "  0.16479369 0.61209493 0.29695874 0.41055872 0.3002605  0.02644557\n",
            "  0.76829879 0.58343156 0.11436002 0.10235182 0.4970682  0.01736173]\n",
            " [0.39992343 0.94174221 0.64812441 0.56192427 0.01104713 0.27844505\n",
            "  0.97787301 0.09349867 0.99550232 0.34089173 0.93840958 0.18968594\n",
            "  0.32534415 0.94632645 0.00459965 0.45760294 0.58071259 0.3146709\n",
            "  0.60214699 0.98744089 0.14862658 0.19469987 0.18199826 0.3610336\n",
            "  0.57986816 0.36044548 0.0580594  0.79292366 0.96573577 0.34157851]\n",
            " [0.81495646 0.26629027 0.0863694  0.18297397 0.15552869 0.19140167\n",
            "  0.61404919 0.69591348 0.17592017 0.9692886  0.53923518 0.39944125\n",
            "  0.70215814 0.34702194 0.97060248 0.96506345 0.17239538 0.50655286\n",
            "  0.13978579 0.639171   0.25729894 0.78923668 0.12298302 0.60566852\n",
            "  0.98394903 0.74042281 0.83716364 0.139332   0.79629144 0.51440508]\n",
            " [0.87768227 0.3565294  0.77764129 0.41855077 0.55182055 0.95208287\n",
            "  0.11095394 0.67278205 0.17428449 0.56671726 0.68525385 0.97938021\n",
            "  0.17402666 0.12588884 0.56764515 0.83720765 0.04016417 0.74368974\n",
            "  0.63426846 0.50715998 0.09571926 0.38639236 0.21263058 0.98474988\n",
            "  0.84288562 0.60455586 0.67953267 0.56228319 0.60935662 0.25455275]\n",
            " [0.71668214 0.86331208 0.61094328 0.53203981 0.58443498 0.29790989\n",
            "  0.35606089 0.6043945  0.90131906 0.86799093 0.68850704 0.30581219\n",
            "  0.42699123 0.16743841 0.90209613 0.94690535 0.42691749 0.51610072\n",
            "  0.19496438 0.21097341 0.69668153 0.96206724 0.66103332 0.24011847\n",
            "  0.04068726 0.62557362 0.53938413 0.4204648  0.96334038 0.03034911]\n",
            " [0.55141452 0.9410361  0.69990977 0.52524659 0.00202106 0.80454211\n",
            "  0.18899569 0.35535198 0.15262521 0.04244222 0.76770924 0.24184576\n",
            "  0.14892951 0.19791973 0.07679859 0.99904609 0.96549285 0.44600087\n",
            "  0.51576395 0.06308905 0.69223934 0.10129565 0.82479716 0.34165364\n",
            "  0.10116839 0.635219   0.58666706 0.11013329 0.80199573 0.61246995]\n",
            " [0.74222936 0.48217156 0.81203563 0.91658332 0.45692498 0.32086297\n",
            "  0.10349915 0.91859402 0.21718905 0.4461788  0.80791551 0.26120209\n",
            "  0.84944182 0.24384499 0.52472451 0.85732978 0.48823402 0.34023254\n",
            "  0.50225264 0.48706923 0.99759214 0.38755121 0.45065843 0.59950367\n",
            "  0.59511096 0.14522304 0.51718274 0.22308326 0.02209905 0.20406721]\n",
            " [0.28281603 0.95222757 0.27178042 0.48338108 0.52950226 0.02403172\n",
            "  0.71933035 0.7484206  0.65162015 0.62299014 0.94550371 0.8174001\n",
            "  0.03099012 0.50132733 0.68031549 0.64130007 0.69496331 0.71089779\n",
            "  0.72921356 0.0454217  0.52019331 0.9550424  0.03773169 0.27027979\n",
            "  0.88754615 0.87788459 0.31268082 0.05614142 0.2946526  0.28457025]\n",
            " [0.66449535 0.76295882 0.27959787 0.06327764 0.22765371 0.80809594\n",
            "  0.7263477  0.70475561 0.13251583 0.66817416 0.89291636 0.92613158\n",
            "  0.67385883 0.41198491 0.14175132 0.15480918 0.56239081 0.85639956\n",
            "  0.99667438 0.18309747 0.45896272 0.96251231 0.92885941 0.52779244\n",
            "  0.90626095 0.10191824 0.9917253  0.45663839 0.49839004 0.59001222]\n",
            " [0.39665821 0.78343376 0.22367985 0.01444289 0.77842555 0.29754405\n",
            "  0.74605003 0.72472313 0.88658991 0.00641599 0.79742126 0.60599589\n",
            "  0.35983981 0.94951753 0.6413066  0.32348177 0.41951901 0.17320798\n",
            "  0.16911937 0.69524363 0.63405375 0.26789181 0.9632876  0.295371\n",
            "  0.81258902 0.37285005 0.65442002 0.14230331 0.26535796 0.1631062 ]\n",
            " [0.17609797 0.39359468 0.52022423 0.11122845 0.64282501 0.16879755\n",
            "  0.40450315 0.54906715 0.08377092 0.23463535 0.74977484 0.21734591\n",
            "  0.52158632 0.94733906 0.89596667 0.70995718 0.66014121 0.82466583\n",
            "  0.93678432 0.74429825 0.32853109 0.11582872 0.79834355 0.44490297\n",
            "  0.96429575 0.31974158 0.76278288 0.61673818 0.59131949 0.62266605]\n",
            " [0.35720313 0.48169141 0.17506788 0.54001861 0.01897373 0.49958575\n",
            "  0.73883385 0.65547127 0.75613971 0.13392753 0.9554829  0.92652179\n",
            "  0.03163724 0.19433976 0.72753462 0.5330578  0.31391716 0.12274492\n",
            "  0.50665064 0.02512124 0.21225497 0.4196811  0.60766927 0.97833362\n",
            "  0.52807418 0.99922197 0.97670629 0.56242759 0.31870897 0.58846228]\n",
            " [0.64665442 0.56031673 0.62648819 0.26788581 0.69817786 0.54500462\n",
            "  0.6090368  0.67503446 0.90029662 0.06761497 0.68905225 0.17437546\n",
            "  0.76334973 0.09821989 0.61458096 0.46735521 0.52488933 0.44446581\n",
            "  0.31487777 0.0580426  0.709781   0.70821763 0.71344503 0.17133522\n",
            "  0.1343068  0.71183592 0.3107938  0.47537018 0.42872329 0.23978005]\n",
            " [0.43714705 0.61375687 0.75298819 0.85280403 0.99283071 0.28594665\n",
            "  0.70520176 0.72104343 0.64881618 0.59822251 0.03314655 0.43261782\n",
            "  0.33336569 0.62705635 0.38263489 0.6469235  0.8240402  0.11251834\n",
            "  0.60896554 0.50305583 0.76081515 0.7630016  0.27462107 0.83975054\n",
            "  0.50748347 0.87925543 0.96287576 0.37303319 0.06067116 0.31818488]]\n",
            "0.4928021919547887\n"
          ]
        }
      ],
      "source": [
        "x = np.random.random((30,30))\n",
        "print(x)\n",
        "print(np.mean(x))"
      ]
    },
    {
      "cell_type": "markdown",
      "metadata": {
        "id": "oRC-dq05CAw2"
      },
      "source": [
        "#### 15. Create a 2d array with 1 on the border and 0 inside (★☆☆) \n",
        "(**hint**: array\\[1:-1, 1:-1\\])"
      ]
    },
    {
      "cell_type": "code",
      "execution_count": null,
      "metadata": {
        "colab": {
          "base_uri": "https://localhost:8080/"
        },
        "id": "Z6OO4mOuCAw3",
        "outputId": "3776ef09-a0d3-451b-e540-9764537e689b"
      },
      "outputs": [
        {
          "output_type": "stream",
          "name": "stdout",
          "text": [
            "[[1. 1. 1.]\n",
            " [1. 0. 1.]\n",
            " [1. 1. 1.]]\n"
          ]
        }
      ],
      "source": [
        "x = np.ones((3,3))\n",
        "x[1:-1,1:-1]=0\n",
        "print(x)"
      ]
    },
    {
      "cell_type": "markdown",
      "metadata": {
        "id": "aJD0FS9hCAw3"
      },
      "source": [
        "#### 16. How to add a border (filled with 0's) around an existing array? (★☆☆) \n",
        "(**hint**: np.pad)"
      ]
    },
    {
      "cell_type": "code",
      "execution_count": null,
      "metadata": {
        "colab": {
          "base_uri": "https://localhost:8080/"
        },
        "id": "9reVnxfVCAw4",
        "outputId": "5c960883-066d-423a-c2b7-fa3bfee688c3"
      },
      "outputs": [
        {
          "output_type": "stream",
          "name": "stdout",
          "text": [
            "[[0. 0. 0. 0. 0. 0.]\n",
            " [0. 1. 1. 1. 1. 0.]\n",
            " [0. 1. 1. 1. 1. 0.]\n",
            " [0. 1. 1. 1. 1. 0.]\n",
            " [0. 0. 0. 0. 0. 0.]]\n"
          ]
        }
      ],
      "source": [
        "x = np.zeros((5,6))\n",
        "x[1:-1,1:-1]=1\n",
        "print(x)"
      ]
    },
    {
      "cell_type": "markdown",
      "metadata": {
        "id": "S57pFBGsCAw4"
      },
      "source": [
        "#### 17. What is the result of the following expression? (★☆☆) \n",
        "(**hint**: NaN = not a number, inf = infinity)"
      ]
    },
    {
      "cell_type": "markdown",
      "metadata": {
        "id": "fNkFgaNPCAw4"
      },
      "source": [
        "```python\n",
        "0 * np.nan\n",
        "np.nan == np.nan\n",
        "np.inf > np.nan\n",
        "np.nan - np.nan\n",
        "0.3 == 3 * 0.1\n",
        "```"
      ]
    },
    {
      "cell_type": "code",
      "execution_count": null,
      "metadata": {
        "id": "RxdB5NKCCAw5",
        "colab": {
          "base_uri": "https://localhost:8080/"
        },
        "outputId": "9d032225-dee8-447b-b50c-2e2c2c5471fa"
      },
      "outputs": [
        {
          "output_type": "execute_result",
          "data": {
            "text/plain": [
              "False"
            ]
          },
          "metadata": {},
          "execution_count": 1
        }
      ],
      "source": [
        "False"
      ]
    },
    {
      "cell_type": "markdown",
      "metadata": {
        "id": "umbRf7G2CAw5"
      },
      "source": [
        "#### 18. Create a 5x5 matrix with values 1,2,3,4 just below the diagonal (★☆☆) \n",
        "(**hint**: np.diag)"
      ]
    },
    {
      "cell_type": "code",
      "execution_count": null,
      "metadata": {
        "colab": {
          "base_uri": "https://localhost:8080/"
        },
        "id": "tGrotHGNCAw6",
        "outputId": "a87c7b02-c564-441b-f68c-7a78863166d5"
      },
      "outputs": [
        {
          "output_type": "stream",
          "name": "stdout",
          "text": [
            "[[0 0 0 0 0]\n",
            " [0 1 0 0 0]\n",
            " [0 0 2 0 0]\n",
            " [0 0 0 3 0]\n",
            " [0 0 0 0 4]]\n"
          ]
        }
      ],
      "source": [
        "x = np.diag([0,1,2,3,4])\n",
        "print(x)"
      ]
    },
    {
      "cell_type": "markdown",
      "metadata": {
        "id": "GpIJu6tsCAw6"
      },
      "source": [
        "#### 19. Create a 8x8 matrix and fill it with a checkerboard pattern (★☆☆) \n",
        "(**hint**: array\\[::2\\])"
      ]
    },
    {
      "cell_type": "code",
      "execution_count": null,
      "metadata": {
        "colab": {
          "base_uri": "https://localhost:8080/"
        },
        "id": "L70E9p8ZCAw6",
        "outputId": "d7435211-c154-4d78-8fad-66a4b181ef4f"
      },
      "outputs": [
        {
          "output_type": "stream",
          "name": "stdout",
          "text": [
            "[[1. 1. 0. 1. 0. 1. 0. 1.]\n",
            " [1. 1. 1. 0. 1. 0. 1. 0.]\n",
            " [0. 1. 1. 1. 0. 1. 0. 1.]\n",
            " [1. 0. 1. 1. 1. 0. 1. 0.]\n",
            " [0. 1. 0. 1. 1. 1. 0. 1.]\n",
            " [1. 0. 1. 0. 1. 1. 1. 0.]\n",
            " [0. 1. 0. 1. 0. 1. 1. 1.]\n",
            " [1. 0. 1. 0. 1. 0. 1. 1.]]\n"
          ]
        }
      ],
      "source": [
        "x = np.eye(8)\n",
        "x[1::2, ::2] = 1\n",
        "x[::2, 1::2] = 1\n",
        "print(x)"
      ]
    },
    {
      "cell_type": "markdown",
      "metadata": {
        "id": "sSt0wpJ_CAw6"
      },
      "source": [
        "#### 20. Consider a (6,7,8) shape array, what is the index (x,y,z) of the 100th element? \n",
        "(**hint**: np.unravel_index)"
      ]
    },
    {
      "cell_type": "code",
      "execution_count": null,
      "metadata": {
        "colab": {
          "base_uri": "https://localhost:8080/"
        },
        "id": "k3lq_vIYCAw7",
        "outputId": "66c99eee-cbf4-4e72-c130-5ac41354f27e"
      },
      "outputs": [
        {
          "output_type": "stream",
          "name": "stdout",
          "text": [
            "(1, 5, 4)\n"
          ]
        }
      ],
      "source": [
        "x = np.unravel_index(100, (6,7,8))\n",
        "print(x)"
      ]
    },
    {
      "cell_type": "code",
      "source": [
        "import numpy as np"
      ],
      "metadata": {
        "id": "AFSef1wTNs90"
      },
      "execution_count": null,
      "outputs": []
    },
    {
      "cell_type": "markdown",
      "metadata": {
        "id": "N2yd0EonCAw7"
      },
      "source": [
        "#### 21. Create a checkerboard 8x8 matrix using the tile function (★☆☆) \n",
        "(**hint**: np.tile)"
      ]
    },
    {
      "cell_type": "code",
      "execution_count": null,
      "metadata": {
        "id": "SCxq264iCAw8",
        "colab": {
          "base_uri": "https://localhost:8080/"
        },
        "outputId": "6a2f02ac-36fe-4205-f561-2da1acbc85dd"
      },
      "outputs": [
        {
          "output_type": "stream",
          "name": "stdout",
          "text": [
            "[[0 1 0 1 0 1 0 1]\n",
            " [1 0 1 0 1 0 1 0]\n",
            " [0 1 0 1 0 1 0 1]\n",
            " [1 0 1 0 1 0 1 0]\n",
            " [0 1 0 1 0 1 0 1]\n",
            " [1 0 1 0 1 0 1 0]\n",
            " [0 1 0 1 0 1 0 1]\n",
            " [1 0 1 0 1 0 1 0]]\n"
          ]
        }
      ],
      "source": [
        "x = np.tile( np.array([[0,1],[1,0]]), (4,4))\n",
        "print(x)"
      ]
    },
    {
      "cell_type": "markdown",
      "metadata": {
        "id": "KzJEXegpCAw8"
      },
      "source": [
        "#### 22. Normalize a 5x5 random matrix (★☆☆) \n",
        "(**hint**: (x - min) / (max - min))"
      ]
    },
    {
      "cell_type": "code",
      "execution_count": null,
      "metadata": {
        "colab": {
          "base_uri": "https://localhost:8080/"
        },
        "id": "VDlpa9AeCAw8",
        "outputId": "c0ba3abb-0940-40d8-e7b8-1b6ffd5ab0f9"
      },
      "outputs": [
        {
          "output_type": "stream",
          "name": "stdout",
          "text": [
            "[[0.81784722 0.91401669 0.58097521 0.02602398 0.81527744]\n",
            " [0.3973882  0.63576526 0.03256672 0.52482611 0.19848082]\n",
            " [0.68342176 0.65542481 0.13287597 0.44612763 0.35303571]\n",
            " [0.38033072 0.95587364 0.01828253 0.4914163  0.95557536]\n",
            " [0.13032087 0.48853816 0.93612825 0.98759105 0.99551877]]\n",
            "[[0.81818977 0.91659941 0.57580006 0.00792178 0.81556012]\n",
            " [0.38793656 0.63186639 0.01461693 0.51834302 0.18439583]\n",
            " [0.680633   0.65198388 0.11726279 0.43781133 0.34255093]\n",
            " [0.37048175 0.95943138 0.         0.48415496 0.95912615]\n",
            " [0.11464817 0.48120978 0.93922604 0.99188761 1.        ]]\n"
          ]
        }
      ],
      "source": [
        "x = np.random.random((5,5))\n",
        "print(x)\n",
        "xmax, xmin = x.max(), x.min()\n",
        "x = (x - xmin)/(xmax - xmin)\n",
        "print(x)"
      ]
    },
    {
      "cell_type": "markdown",
      "metadata": {
        "id": "bjIPREP-CAw9"
      },
      "source": [
        "#### 23. Create a custom dtype that describes a color as four unsigned bytes (RGBA) (★☆☆) \n",
        "(**hint**: np.dtype)"
      ]
    },
    {
      "cell_type": "code",
      "execution_count": null,
      "metadata": {
        "collapsed": true,
        "colab": {
          "base_uri": "https://localhost:8080/"
        },
        "id": "F5dU9pGUCAw9",
        "outputId": "2b960c58-10be-430b-9a8e-5c78b7be9a0b"
      },
      "outputs": [
        {
          "output_type": "stream",
          "name": "stdout",
          "text": [
            "1\n"
          ]
        },
        {
          "output_type": "execute_result",
          "data": {
            "text/plain": [
              "numpy.ndarray"
            ]
          },
          "metadata": {},
          "execution_count": 85
        }
      ],
      "source": [
        "RGBA = np.dtype([('red',np.uint8),('green',np.uint8),('blue',np.uint8),('alpha',np.uint8)])\n",
        "color = np.array((1,2,4,3),dtype = RGBA)\n",
        "print(color['red'])\n",
        "type(color)"
      ]
    },
    {
      "cell_type": "markdown",
      "metadata": {
        "id": "5WlJqNgcCAw9"
      },
      "source": [
        "#### 24. Multiply a 5x3 matrix by a 3x2 matrix (real matrix product) (★☆☆) \n",
        "(**hint**: np.dot | @)"
      ]
    },
    {
      "cell_type": "code",
      "execution_count": null,
      "metadata": {
        "id": "vaLw8Ka8CAw-",
        "colab": {
          "base_uri": "https://localhost:8080/"
        },
        "outputId": "a91d70f9-1cbd-4314-beac-ace469372931"
      },
      "outputs": [
        {
          "output_type": "stream",
          "name": "stdout",
          "text": [
            "[[0.83126348 0.9437186 ]\n",
            " [1.17735876 1.25153729]\n",
            " [1.03964583 1.18413093]\n",
            " [1.05219254 1.1794555 ]\n",
            " [0.69504802 0.72773063]]\n"
          ]
        }
      ],
      "source": [
        "a = np.random.random((5,3))\n",
        "b = np.random.random((3,2))\n",
        "#res = np.dot(a,b)\n",
        "#print(res)\n",
        "print(a @ b)"
      ]
    },
    {
      "cell_type": "markdown",
      "metadata": {
        "id": "nXZBfhdKCAw-"
      },
      "source": [
        "#### 25. Given a 1D array, negate all elements which are between 3 and 8, in place. (★☆☆) \n",
        "(**hint**: >, <=)"
      ]
    },
    {
      "cell_type": "code",
      "execution_count": null,
      "metadata": {
        "id": "nYmQnGUUCAw-",
        "colab": {
          "base_uri": "https://localhost:8080/"
        },
        "outputId": "64552a74-3cc7-42bf-8d70-c1e19062b8c3"
      },
      "outputs": [
        {
          "output_type": "stream",
          "name": "stdout",
          "text": [
            "[ 0  1  2 -3 -4 -5 -6 -7 -8  9 10 11 12 13 14]\n"
          ]
        }
      ],
      "source": [
        "x = np.arange(15)\n",
        "x[(x>=3) & (x<=8)]*=(-1)\n",
        "print(x)"
      ]
    },
    {
      "cell_type": "markdown",
      "metadata": {
        "id": "sbQq7HjSCAw_"
      },
      "source": [
        "#### 26. What is the output of the following script? (★☆☆) \n",
        "(**hint**: np.sum)"
      ]
    },
    {
      "cell_type": "markdown",
      "metadata": {
        "id": "BAbsNDG1CAw_"
      },
      "source": [
        "```python\n",
        "# Author: Jake VanderPlas\n",
        "\n",
        "print(sum(range(5),-1))\n",
        "from numpy import *\n",
        "print(sum(range(5),-1))\n",
        "```"
      ]
    },
    {
      "cell_type": "code",
      "execution_count": null,
      "metadata": {
        "id": "Fp4oDbxBCAw_"
      },
      "outputs": [],
      "source": [
        "10\n",
        "10"
      ]
    },
    {
      "cell_type": "markdown",
      "metadata": {
        "id": "KkWPO4TGCAxA"
      },
      "source": [
        "#### 27. Consider an integer vector Z, which of these expressions are legal? (★☆☆)"
      ]
    },
    {
      "cell_type": "markdown",
      "metadata": {
        "id": "EKaIaBbhCAxA"
      },
      "source": [
        "```python\n",
        "Z**Z\n",
        "2 << Z >> 2\n",
        "Z <- Z\n",
        "1j*Z\n",
        "Z/1/1\n",
        "Z<Z>Z\n",
        "```"
      ]
    },
    {
      "cell_type": "code",
      "execution_count": null,
      "metadata": {
        "id": "rDVODcLfCAxA"
      },
      "outputs": [],
      "source": [
        "Z**Z\n",
        "2 << Z >> 2\n",
        "Z <- Z\n",
        "1j*Z\n",
        "Z/1/1\n"
      ]
    },
    {
      "cell_type": "markdown",
      "metadata": {
        "id": "qBVKoiiqCAxB"
      },
      "source": [
        "#### 28. What are the result of the following expressions?"
      ]
    },
    {
      "cell_type": "markdown",
      "metadata": {
        "id": "8oGK9td3CAxB"
      },
      "source": [
        "```python\n",
        "np.array(0) / np.array(0)\n",
        "np.array(0) // np.array(0)\n",
        "np.array([np.nan]).astype(int).astype(float)\n",
        "```"
      ]
    },
    {
      "cell_type": "code",
      "execution_count": null,
      "metadata": {
        "id": "nKMjBPLACAxB",
        "colab": {
          "base_uri": "https://localhost:8080/"
        },
        "outputId": "383d954d-bc69-4b87-bc0b-d57f7992944e"
      },
      "outputs": [
        {
          "output_type": "stream",
          "name": "stderr",
          "text": [
            "/usr/local/lib/python3.7/dist-packages/ipykernel_launcher.py:1: RuntimeWarning: invalid value encountered in true_divide\n",
            "  \"\"\"Entry point for launching an IPython kernel.\n",
            "/usr/local/lib/python3.7/dist-packages/ipykernel_launcher.py:2: RuntimeWarning: divide by zero encountered in floor_divide\n",
            "  \n"
          ]
        },
        {
          "output_type": "execute_result",
          "data": {
            "text/plain": [
              "array([-9.22337204e+18])"
            ]
          },
          "metadata": {},
          "execution_count": 18
        }
      ],
      "source": [
        "np.array(0) / np.array(0)\n",
        "np.array(0) // np.array(0)\n",
        "np.array([np.nan]).astype(int).astype(float)"
      ]
    },
    {
      "cell_type": "markdown",
      "metadata": {
        "id": "5dkv-TydCAxC"
      },
      "source": [
        "#### 29. How to round away from zero a float array ? (★☆☆) \n",
        "(**hint**: np.uniform, np.copysign, np.ceil, np.abs)"
      ]
    },
    {
      "cell_type": "code",
      "execution_count": null,
      "metadata": {
        "id": "1GER73ozCAxC",
        "colab": {
          "base_uri": "https://localhost:8080/"
        },
        "outputId": "c2a67994-65b9-4b4b-bc56-c5c254258ab2"
      },
      "outputs": [
        {
          "output_type": "stream",
          "name": "stdout",
          "text": [
            "[[0.21007829 0.97328436 0.3080697  0.4497555  0.38821968]\n",
            " [0.87552129 0.04456875 0.99110233 0.90467427 0.61057342]\n",
            " [0.9339612  0.98072153 0.09143745 0.55050392 0.67718457]\n",
            " [0.25399123 0.12290732 0.00910106 0.25420169 0.11497595]\n",
            " [0.813574   0.97367123 0.88672923 0.23759334 0.03561925]]\n",
            "[[0.21 0.97 0.31 0.45 0.39]\n",
            " [0.88 0.04 0.99 0.9  0.61]\n",
            " [0.93 0.98 0.09 0.55 0.68]\n",
            " [0.25 0.12 0.01 0.25 0.11]\n",
            " [0.81 0.97 0.89 0.24 0.04]]\n"
          ]
        }
      ],
      "source": [
        "x = np.random.random((5,5))\n",
        "print(x)\n",
        "print(np.round(x,2))\n"
      ]
    },
    {
      "cell_type": "markdown",
      "metadata": {
        "id": "_1YC9JbGCAxC"
      },
      "source": [
        "#### 30. How to find common values between two arrays? (★☆☆) \n",
        "(**hint**: np.intersect1d)"
      ]
    },
    {
      "cell_type": "code",
      "execution_count": null,
      "metadata": {
        "id": "gA9N8NT1CAxD",
        "colab": {
          "base_uri": "https://localhost:8080/"
        },
        "outputId": "9b34d72a-27b9-4f0b-8d87-9abd90673a8f"
      },
      "outputs": [
        {
          "output_type": "stream",
          "name": "stdout",
          "text": [
            "[ 6 12]\n"
          ]
        }
      ],
      "source": [
        "x = np.array([3,6,9,12,15,18])\n",
        "y = np.array([2,4,6,8,10,12])\n",
        "print(np.intersect1d(x,y))"
      ]
    },
    {
      "cell_type": "markdown",
      "metadata": {
        "id": "1QaZG24fCAxD"
      },
      "source": [
        "#### 31. How to ignore all numpy warnings (not recommended)? (★☆☆) \n",
        "(**hint**: np.seterr, np.errstate)"
      ]
    },
    {
      "cell_type": "code",
      "execution_count": null,
      "metadata": {
        "id": "XgZIO5CDCAxD"
      },
      "outputs": [],
      "source": [
        "np.seterr(all=\"ignore\")"
      ]
    },
    {
      "cell_type": "markdown",
      "metadata": {
        "id": "Olxrfw4eCAxD"
      },
      "source": [
        "#### 32. Is the following expressions true? (★☆☆) \n",
        "(**hint**: imaginary number)"
      ]
    },
    {
      "cell_type": "markdown",
      "metadata": {
        "id": "ANHEQT91CAxE"
      },
      "source": [
        "```python\n",
        "np.sqrt(-1) == np.emath.sqrt(-1)\n",
        "```"
      ]
    },
    {
      "cell_type": "code",
      "execution_count": null,
      "metadata": {
        "id": "-JDIhIMdCAxE"
      },
      "outputs": [],
      "source": [
        "not true"
      ]
    },
    {
      "cell_type": "markdown",
      "metadata": {
        "id": "TqwrkOf1CAxF"
      },
      "source": [
        "#### 33. How to get the dates of yesterday, today and tomorrow? (★☆☆) \n",
        "(**hint**: np.datetime64, np.timedelta64)"
      ]
    },
    {
      "cell_type": "code",
      "execution_count": null,
      "metadata": {
        "collapsed": true,
        "id": "r1EivaifCAxF",
        "colab": {
          "base_uri": "https://localhost:8080/"
        },
        "outputId": "8c4de72a-3748-4d34-c731-c4fac2d0af70"
      },
      "outputs": [
        {
          "output_type": "stream",
          "name": "stdout",
          "text": [
            "Today: 2022-09-18\n",
            "Yesterday: 2022-09-17\n",
            "Tomorrow: 2022-09-19\n"
          ]
        }
      ],
      "source": [
        "today = np.datetime64('today', 'D')\n",
        "yest = np.datetime64('today', 'D') - np.timedelta64(1, 'D')\n",
        "tomm = np.datetime64('today', 'D') + np.timedelta64(1, 'D')\n",
        "print(\"Today:\", today)\n",
        "print(\"Yesterday:\", yest)\n",
        "print(\"Tomorrow:\", tomm)"
      ]
    },
    {
      "cell_type": "markdown",
      "metadata": {
        "id": "7Wf9snxECAxF"
      },
      "source": [
        "#### 34. How to get all the dates corresponding to the month of July 2016? (★★☆) \n",
        "(**hint**: np.arange(dtype=datetime64\\['D'\\]))"
      ]
    },
    {
      "cell_type": "code",
      "execution_count": null,
      "metadata": {
        "id": "eRQmIOgxCAxG",
        "colab": {
          "base_uri": "https://localhost:8080/"
        },
        "outputId": "e6d739c0-6fdb-4734-dd12-2f7d4f0d0a15"
      },
      "outputs": [
        {
          "output_type": "stream",
          "name": "stdout",
          "text": [
            "['2016-07-01' '2016-07-02' '2016-07-03' '2016-07-04' '2016-07-05'\n",
            " '2016-07-06' '2016-07-07' '2016-07-08' '2016-07-09' '2016-07-10'\n",
            " '2016-07-11' '2016-07-12' '2016-07-13' '2016-07-14' '2016-07-15'\n",
            " '2016-07-16' '2016-07-17' '2016-07-18' '2016-07-19' '2016-07-20'\n",
            " '2016-07-21' '2016-07-22' '2016-07-23' '2016-07-24' '2016-07-25'\n",
            " '2016-07-26' '2016-07-27' '2016-07-28' '2016-07-29' '2016-07-30'\n",
            " '2016-07-31']\n"
          ]
        }
      ],
      "source": [
        "print(np.arange('2016-07', '2016-08', dtype='datetime64[D]'))"
      ]
    },
    {
      "cell_type": "markdown",
      "metadata": {
        "id": "Ul1Bu_ILCAxG"
      },
      "source": [
        "#### 35. How to compute ((A+B)\\*(-A/2)) in place (without copy)? (★★☆) \n",
        "(**hint**: np.add(out=), np.negative(out=), np.multiply(out=), np.divide(out=))"
      ]
    },
    {
      "cell_type": "code",
      "execution_count": null,
      "metadata": {
        "id": "KM9eDQr5CAxG",
        "colab": {
          "base_uri": "https://localhost:8080/"
        },
        "outputId": "aa9243f4-c3bd-4639-a7b4-7085983bb0e5"
      },
      "outputs": [
        {
          "output_type": "execute_result",
          "data": {
            "text/plain": [
              "array([-1.5, -1.5, -1.5])"
            ]
          },
          "metadata": {},
          "execution_count": 6
        }
      ],
      "source": [
        "A = np.ones(3)*1\n",
        "B = np.ones(3)*2\n",
        "np.add(A,B,out=B)\n",
        "np.divide(A,2,out=A)\n",
        "np.negative(A,out=A)\n",
        "np.multiply(A,B,out=A)"
      ]
    },
    {
      "cell_type": "markdown",
      "metadata": {
        "id": "gzJjhALHCAxG"
      },
      "source": [
        "#### 36. Extract the integer part of a random array using 5 different methods (★★☆) \n",
        "(**hint**: %, np.floor, np.ceil, astype, np.trunc)"
      ]
    },
    {
      "cell_type": "code",
      "execution_count": null,
      "metadata": {
        "id": "CNjxb_qaCAxH",
        "colab": {
          "base_uri": "https://localhost:8080/"
        },
        "outputId": "10d99942-2b82-4e2e-adfa-56eb0ad5903f"
      },
      "outputs": [
        {
          "output_type": "stream",
          "name": "stdout",
          "text": [
            "[3. 2. 5. 3. 1. 2. 9. 5. 8. 1.]\n",
            "[3. 2. 5. 3. 1. 2. 9. 5. 8. 1.]\n",
            "[3. 2. 5. 3. 1. 2. 9. 5. 8. 1.]\n",
            "[3 2 5 3 1 2 9 5 8 1]\n"
          ]
        }
      ],
      "source": [
        "x = np.random.uniform(0,10,10)\n",
        "\n",
        "print (x - x%1)\n",
        "print (np.floor(x))\n",
        "print (np.ceil(x)-1)\n",
        "print (x.astype(int))"
      ]
    },
    {
      "cell_type": "markdown",
      "metadata": {
        "id": "ySUmb--MCAxH"
      },
      "source": [
        "#### 37. Create a 5x5 matrix with row values ranging from 0 to 4 (★★☆) \n",
        "(**hint**: np.arange)"
      ]
    },
    {
      "cell_type": "code",
      "execution_count": null,
      "metadata": {
        "id": "UTL6ehnBCAxH",
        "colab": {
          "base_uri": "https://localhost:8080/"
        },
        "outputId": "21c17afd-ef1b-433f-a64f-b333342532cd"
      },
      "outputs": [
        {
          "output_type": "stream",
          "name": "stdout",
          "text": [
            "[[0. 1. 2. 3. 4.]\n",
            " [0. 1. 2. 3. 4.]\n",
            " [0. 1. 2. 3. 4.]\n",
            " [0. 1. 2. 3. 4.]\n",
            " [0. 1. 2. 3. 4.]]\n"
          ]
        }
      ],
      "source": [
        "x = np.zeros((5,5))\n",
        "x = x + np.arange(5)\n",
        "print(x)"
      ]
    },
    {
      "cell_type": "markdown",
      "metadata": {
        "id": "S8ynMd-DCAxI"
      },
      "source": [
        "#### 38. Consider a generator function that generates 10 integers and use it to build an array (★☆☆) \n",
        "(**hint**: np.fromiter)"
      ]
    },
    {
      "cell_type": "code",
      "execution_count": null,
      "metadata": {
        "id": "BEDIsq2kCAxI",
        "colab": {
          "base_uri": "https://localhost:8080/"
        },
        "outputId": "1af17508-33d6-49f9-ee86-1905610faa31"
      },
      "outputs": [
        {
          "output_type": "stream",
          "name": "stdout",
          "text": [
            "[0. 1. 2. 3. 4. 5. 6. 7. 8. 9.]\n"
          ]
        }
      ],
      "source": [
        "def generate():\n",
        "    for i in range(10):\n",
        "        yield i\n",
        "x = np.fromiter(generate(),dtype=float,count=-1)\n",
        "print(x)"
      ]
    },
    {
      "cell_type": "markdown",
      "metadata": {
        "id": "i-z4HvTuCAxI"
      },
      "source": [
        "#### 39. Create a vector of size 10 with values ranging from 0 to 1, both excluded (★★☆) \n",
        "(**hint**: np.linspace)"
      ]
    },
    {
      "cell_type": "code",
      "execution_count": null,
      "metadata": {
        "id": "UPz4Z6fOCAxJ",
        "colab": {
          "base_uri": "https://localhost:8080/"
        },
        "outputId": "3ee51938-ba07-4b2c-eb5f-e699a7d39f03"
      },
      "outputs": [
        {
          "output_type": "stream",
          "name": "stdout",
          "text": [
            "[0.09090909 0.18181818 0.27272727 0.36363636 0.45454545 0.54545455\n",
            " 0.63636364 0.72727273 0.81818182 0.90909091]\n"
          ]
        }
      ],
      "source": [
        "print(np.linspace(0,1,11,endpoint=False)[1:])"
      ]
    },
    {
      "cell_type": "markdown",
      "metadata": {
        "id": "kcWZYUo_CAxJ"
      },
      "source": [
        "#### 40. Create a random vector of size 10 and sort it (★★☆) \n",
        "(**hint**: sort)"
      ]
    },
    {
      "cell_type": "code",
      "execution_count": null,
      "metadata": {
        "id": "3mtAxe6gCAxJ",
        "colab": {
          "base_uri": "https://localhost:8080/"
        },
        "outputId": "117f3b69-22a3-4cfd-dc1d-416a9da4de1e"
      },
      "outputs": [
        {
          "output_type": "stream",
          "name": "stdout",
          "text": [
            "[0.2118811  0.26617836 0.30550238 0.44499574 0.62302684 0.64090985\n",
            " 0.89233374 0.91707194 0.92325592 0.92842194]\n"
          ]
        }
      ],
      "source": [
        "x = np.random.random(10)\n",
        "x.sort()\n",
        "print(x)"
      ]
    },
    {
      "cell_type": "markdown",
      "metadata": {
        "id": "RH9wArtECAxK"
      },
      "source": [
        "#### 41. How to sum a small array faster than np.sum? (★★☆) \n",
        "(**hint**: np.add.reduce)"
      ]
    },
    {
      "cell_type": "code",
      "execution_count": null,
      "metadata": {
        "id": "3EwB-FxLCAxK",
        "colab": {
          "base_uri": "https://localhost:8080/"
        },
        "outputId": "40679213-c337-4ccb-e087-b4ed22d7ccb1"
      },
      "outputs": [
        {
          "output_type": "execute_result",
          "data": {
            "text/plain": [
              "45"
            ]
          },
          "metadata": {},
          "execution_count": 9
        }
      ],
      "source": [
        "x = np.arange(10)\n",
        "np.add.reduce(x)"
      ]
    },
    {
      "cell_type": "markdown",
      "metadata": {
        "id": "zqbVVIa5CAxK"
      },
      "source": [
        "#### 42. Consider two random array A and B, check if they are equal (★★☆) \n",
        "(**hint**: np.allclose, np.array\\_equal)"
      ]
    },
    {
      "cell_type": "code",
      "execution_count": null,
      "metadata": {
        "id": "_9LoxSuLCAxK",
        "colab": {
          "base_uri": "https://localhost:8080/"
        },
        "outputId": "03cb08b9-9c2e-4219-d440-fcc18d417f24"
      },
      "outputs": [
        {
          "output_type": "stream",
          "name": "stdout",
          "text": [
            "False\n"
          ]
        }
      ],
      "source": [
        "A = np.random.randint(0,4,7)\n",
        "B = np.random.randint(0,4,7)\n",
        "res = np.allclose(A,B)\n",
        "print(res)\n"
      ]
    },
    {
      "cell_type": "markdown",
      "metadata": {
        "id": "E4PrVk6ICAxL"
      },
      "source": [
        "#### 43. Make an array immutable (read-only) (★★☆) \n",
        "(**hint**: flags.writeable)"
      ]
    },
    {
      "cell_type": "code",
      "execution_count": null,
      "metadata": {
        "id": "MjyZHPoRCAxL",
        "colab": {
          "base_uri": "https://localhost:8080/",
          "height": 200
        },
        "outputId": "e70eaacd-7144-477d-d6d0-0a75598bf96e"
      },
      "outputs": [
        {
          "output_type": "error",
          "ename": "ValueError",
          "evalue": "ignored",
          "traceback": [
            "\u001b[0;31m---------------------------------------------------------------------------\u001b[0m",
            "\u001b[0;31mValueError\u001b[0m                                Traceback (most recent call last)",
            "\u001b[0;32m<ipython-input-7-50d3306bb5ff>\u001b[0m in \u001b[0;36m<module>\u001b[0;34m\u001b[0m\n\u001b[1;32m      1\u001b[0m \u001b[0mx\u001b[0m \u001b[0;34m=\u001b[0m \u001b[0mnp\u001b[0m\u001b[0;34m.\u001b[0m\u001b[0mzeros\u001b[0m\u001b[0;34m(\u001b[0m\u001b[0;36m10\u001b[0m\u001b[0;34m)\u001b[0m\u001b[0;34m\u001b[0m\u001b[0;34m\u001b[0m\u001b[0m\n\u001b[1;32m      2\u001b[0m \u001b[0mx\u001b[0m\u001b[0;34m.\u001b[0m\u001b[0mflags\u001b[0m\u001b[0;34m.\u001b[0m\u001b[0mwriteable\u001b[0m \u001b[0;34m=\u001b[0m \u001b[0;32mFalse\u001b[0m\u001b[0;34m\u001b[0m\u001b[0;34m\u001b[0m\u001b[0m\n\u001b[0;32m----> 3\u001b[0;31m \u001b[0mx\u001b[0m\u001b[0;34m[\u001b[0m\u001b[0;36m0\u001b[0m\u001b[0;34m]\u001b[0m \u001b[0;34m=\u001b[0m \u001b[0;36m1\u001b[0m\u001b[0;34m\u001b[0m\u001b[0;34m\u001b[0m\u001b[0m\n\u001b[0m",
            "\u001b[0;31mValueError\u001b[0m: assignment destination is read-only"
          ]
        }
      ],
      "source": [
        "x = np.zeros(10)\n",
        "x.flags.writeable = False\n",
        "x[0] = 1"
      ]
    },
    {
      "cell_type": "markdown",
      "metadata": {
        "id": "6zCR2lXyCAxL"
      },
      "source": [
        "#### 44. Consider a random 10x2 matrix representing cartesian coordinates, convert them to polar coordinates (★★☆) \n",
        "(**hint**: np.sqrt, np.arctan2)"
      ]
    },
    {
      "cell_type": "code",
      "execution_count": null,
      "metadata": {
        "id": "RflN3mfRCAxM"
      },
      "outputs": [],
      "source": [
        "a= np.random.random((10,2))\n",
        "x,y = a[:,0], a[:,1]\n",
        "r = np.sqrt(x**2+y**2)\n",
        "t = np.arctan2(y,x)\n",
        "print(r)\n",
        "print(t)"
      ]
    },
    {
      "cell_type": "markdown",
      "metadata": {
        "id": "LESdmBsECAxM"
      },
      "source": [
        "#### 45. Create random vector of size 10 and replace the maximum value by 0 (★★☆) \n",
        "(**hint**: argmax)"
      ]
    },
    {
      "cell_type": "code",
      "execution_count": null,
      "metadata": {
        "id": "VheyMgq6CAxM",
        "colab": {
          "base_uri": "https://localhost:8080/"
        },
        "outputId": "1b40aa83-8c2c-4143-9d80-212d9cbc97e9"
      },
      "outputs": [
        {
          "output_type": "stream",
          "name": "stdout",
          "text": [
            "[0.01544875 0.69230856 0.13655814 0.01951935 0.07092222 0.49584731\n",
            " 0.62937953 0.1193683  0.36656371 0.05747191]\n",
            "[0.01544875 0.         0.13655814 0.01951935 0.07092222 0.49584731\n",
            " 0.62937953 0.1193683  0.36656371 0.05747191]\n"
          ]
        }
      ],
      "source": [
        "x = np.random.random(10)\n",
        "print(x)\n",
        "x[x.argmax()] = 0\n",
        "print(x)"
      ]
    },
    {
      "cell_type": "markdown",
      "metadata": {
        "id": "83sc1SN2CAxN"
      },
      "source": [
        "#### 46. Create a structured array with `x` and `y` coordinates covering the \\[0,1\\]x\\[0,1\\] area (★★☆) \n",
        "(**hint**: np.meshgrid)"
      ]
    },
    {
      "cell_type": "code",
      "execution_count": null,
      "metadata": {
        "id": "2D9wRXTgCAxN",
        "colab": {
          "base_uri": "https://localhost:8080/"
        },
        "outputId": "216fff23-6d44-4d23-da42-f2c55fe5b7ee"
      },
      "outputs": [
        {
          "output_type": "stream",
          "name": "stdout",
          "text": [
            "[[(0. , 0. ) (0.5, 0. ) (1. , 0. )]\n",
            " [(0. , 0.5) (0.5, 0.5) (1. , 0.5)]\n",
            " [(0. , 1. ) (0.5, 1. ) (1. , 1. )]]\n"
          ]
        }
      ],
      "source": [
        "Z = np.zeros((3,3), [('x',float),('y',float)])\n",
        "Z['x'], Z['y'] = np.meshgrid(np.linspace(0,1,3),\n",
        "                             np.linspace(0,1,3))\n",
        "print(Z)"
      ]
    },
    {
      "cell_type": "markdown",
      "metadata": {
        "id": "Yj5rYfZQCAxN"
      },
      "source": [
        "####  47. Given two arrays, X and Y, construct the Cauchy matrix C (Cij =1/(xi - yj)) \n",
        "(**hint**: np.subtract.outer)"
      ]
    },
    {
      "cell_type": "code",
      "execution_count": null,
      "metadata": {
        "id": "kskXS81TCAxO",
        "colab": {
          "base_uri": "https://localhost:8080/"
        },
        "outputId": "56abeb46-bcf9-4301-e434-dfe3c4260667"
      },
      "outputs": [
        {
          "output_type": "stream",
          "name": "stdout",
          "text": [
            "33961.93294480236\n"
          ]
        }
      ],
      "source": [
        "x = np.arange(10)\n",
        "y = x + 0.5\n",
        "z = 1.0 / np.subtract.outer(x, y)\n",
        "print(np.linalg.det(z))"
      ]
    },
    {
      "cell_type": "markdown",
      "metadata": {
        "id": "ZhTBZOtbCAxO"
      },
      "source": [
        "#### 48. Print the minimum and maximum representable value for each numpy scalar type (★★☆) \n",
        "(**hint**: np.iinfo, np.finfo, eps)"
      ]
    },
    {
      "cell_type": "code",
      "execution_count": null,
      "metadata": {
        "id": "ZvxXLfYOCAxO",
        "colab": {
          "base_uri": "https://localhost:8080/"
        },
        "outputId": "71b62633-36cc-4e55-aa96-699535679bb5"
      },
      "outputs": [
        {
          "output_type": "stream",
          "name": "stdout",
          "text": [
            "-128\n",
            "127\n",
            "-2147483648\n",
            "2147483647\n",
            "-9223372036854775808\n",
            "9223372036854775807\n",
            "-3.4028235e+38\n",
            "3.4028235e+38\n",
            "1.1920929e-07\n",
            "-1.7976931348623157e+308\n",
            "1.7976931348623157e+308\n",
            "2.220446049250313e-16\n"
          ]
        }
      ],
      "source": [
        "for dtype in [np.int8, np.int32, np.int64]:\n",
        "    print(np.iinfo(dtype).min)\n",
        "    print(np.iinfo(dtype).max)\n",
        "for dtype in [np.float32, np.float64]:\n",
        "    print(np.finfo(dtype).min)\n",
        "    print(np.finfo(dtype).max)\n",
        "    print(np.finfo(dtype).eps)"
      ]
    },
    {
      "cell_type": "markdown",
      "metadata": {
        "id": "JpGYSX3xCAxO"
      },
      "source": [
        "#### 49. How to print all the values of an array? (★★☆) \n",
        "(**hint**: np.set\\_printoptions)"
      ]
    },
    {
      "cell_type": "code",
      "execution_count": null,
      "metadata": {
        "id": "_HsV7VTyCAxP",
        "colab": {
          "base_uri": "https://localhost:8080/"
        },
        "outputId": "eb56520e-75b3-4c34-a609-e1e8a9a84387"
      },
      "outputs": [
        {
          "output_type": "stream",
          "name": "stdout",
          "text": [
            "[   0    1    2    3    4    5    6    7    8    9   10   11   12   13\n",
            "   14   15   16   17   18   19   20   21   22   23   24   25   26   27\n",
            "   28   29   30   31   32   33   34   35   36   37   38   39   40   41\n",
            "   42   43   44   45   46   47   48   49   50   51   52   53   54   55\n",
            "   56   57   58   59   60   61   62   63   64   65   66   67   68   69\n",
            "   70   71   72   73   74   75   76   77   78   79   80   81   82   83\n",
            "   84   85   86   87   88   89   90   91   92   93   94   95   96   97\n",
            "   98   99  100  101  102  103  104  105  106  107  108  109  110  111\n",
            "  112  113  114  115  116  117  118  119  120  121  122  123  124  125\n",
            "  126  127  128  129  130  131  132  133  134  135  136  137  138  139\n",
            "  140  141  142  143  144  145  146  147  148  149  150  151  152  153\n",
            "  154  155  156  157  158  159  160  161  162  163  164  165  166  167\n",
            "  168  169  170  171  172  173  174  175  176  177  178  179  180  181\n",
            "  182  183  184  185  186  187  188  189  190  191  192  193  194  195\n",
            "  196  197  198  199  200  201  202  203  204  205  206  207  208  209\n",
            "  210  211  212  213  214  215  216  217  218  219  220  221  222  223\n",
            "  224  225  226  227  228  229  230  231  232  233  234  235  236  237\n",
            "  238  239  240  241  242  243  244  245  246  247  248  249  250  251\n",
            "  252  253  254  255  256  257  258  259  260  261  262  263  264  265\n",
            "  266  267  268  269  270  271  272  273  274  275  276  277  278  279\n",
            "  280  281  282  283  284  285  286  287  288  289  290  291  292  293\n",
            "  294  295  296  297  298  299  300  301  302  303  304  305  306  307\n",
            "  308  309  310  311  312  313  314  315  316  317  318  319  320  321\n",
            "  322  323  324  325  326  327  328  329  330  331  332  333  334  335\n",
            "  336  337  338  339  340  341  342  343  344  345  346  347  348  349\n",
            "  350  351  352  353  354  355  356  357  358  359  360  361  362  363\n",
            "  364  365  366  367  368  369  370  371  372  373  374  375  376  377\n",
            "  378  379  380  381  382  383  384  385  386  387  388  389  390  391\n",
            "  392  393  394  395  396  397  398  399  400  401  402  403  404  405\n",
            "  406  407  408  409  410  411  412  413  414  415  416  417  418  419\n",
            "  420  421  422  423  424  425  426  427  428  429  430  431  432  433\n",
            "  434  435  436  437  438  439  440  441  442  443  444  445  446  447\n",
            "  448  449  450  451  452  453  454  455  456  457  458  459  460  461\n",
            "  462  463  464  465  466  467  468  469  470  471  472  473  474  475\n",
            "  476  477  478  479  480  481  482  483  484  485  486  487  488  489\n",
            "  490  491  492  493  494  495  496  497  498  499  500  501  502  503\n",
            "  504  505  506  507  508  509  510  511  512  513  514  515  516  517\n",
            "  518  519  520  521  522  523  524  525  526  527  528  529  530  531\n",
            "  532  533  534  535  536  537  538  539  540  541  542  543  544  545\n",
            "  546  547  548  549  550  551  552  553  554  555  556  557  558  559\n",
            "  560  561  562  563  564  565  566  567  568  569  570  571  572  573\n",
            "  574  575  576  577  578  579  580  581  582  583  584  585  586  587\n",
            "  588  589  590  591  592  593  594  595  596  597  598  599  600  601\n",
            "  602  603  604  605  606  607  608  609  610  611  612  613  614  615\n",
            "  616  617  618  619  620  621  622  623  624  625  626  627  628  629\n",
            "  630  631  632  633  634  635  636  637  638  639  640  641  642  643\n",
            "  644  645  646  647  648  649  650  651  652  653  654  655  656  657\n",
            "  658  659  660  661  662  663  664  665  666  667  668  669  670  671\n",
            "  672  673  674  675  676  677  678  679  680  681  682  683  684  685\n",
            "  686  687  688  689  690  691  692  693  694  695  696  697  698  699\n",
            "  700  701  702  703  704  705  706  707  708  709  710  711  712  713\n",
            "  714  715  716  717  718  719  720  721  722  723  724  725  726  727\n",
            "  728  729  730  731  732  733  734  735  736  737  738  739  740  741\n",
            "  742  743  744  745  746  747  748  749  750  751  752  753  754  755\n",
            "  756  757  758  759  760  761  762  763  764  765  766  767  768  769\n",
            "  770  771  772  773  774  775  776  777  778  779  780  781  782  783\n",
            "  784  785  786  787  788  789  790  791  792  793  794  795  796  797\n",
            "  798  799  800  801  802  803  804  805  806  807  808  809  810  811\n",
            "  812  813  814  815  816  817  818  819  820  821  822  823  824  825\n",
            "  826  827  828  829  830  831  832  833  834  835  836  837  838  839\n",
            "  840  841  842  843  844  845  846  847  848  849  850  851  852  853\n",
            "  854  855  856  857  858  859  860  861  862  863  864  865  866  867\n",
            "  868  869  870  871  872  873  874  875  876  877  878  879  880  881\n",
            "  882  883  884  885  886  887  888  889  890  891  892  893  894  895\n",
            "  896  897  898  899  900  901  902  903  904  905  906  907  908  909\n",
            "  910  911  912  913  914  915  916  917  918  919  920  921  922  923\n",
            "  924  925  926  927  928  929  930  931  932  933  934  935  936  937\n",
            "  938  939  940  941  942  943  944  945  946  947  948  949  950  951\n",
            "  952  953  954  955  956  957  958  959  960  961  962  963  964  965\n",
            "  966  967  968  969  970  971  972  973  974  975  976  977  978  979\n",
            "  980  981  982  983  984  985  986  987  988  989  990  991  992  993\n",
            "  994  995  996  997  998  999 1000]\n"
          ]
        }
      ],
      "source": [
        "x = np. arange(1001)\n",
        "np.set_printoptions(threshold=np.inf)\n",
        "print(x)"
      ]
    },
    {
      "cell_type": "markdown",
      "metadata": {
        "id": "6OwCkONxCAxP"
      },
      "source": [
        "#### 50. How to find the closest value (to a given scalar) in a vector? (★★☆) \n",
        "(**hint**: argmin)"
      ]
    },
    {
      "cell_type": "code",
      "execution_count": null,
      "metadata": {
        "id": "8Ej6ELN6CAxP",
        "colab": {
          "base_uri": "https://localhost:8080/"
        },
        "outputId": "ad9b9c3f-f6ca-4ec8-e6a5-6c066728db36"
      },
      "outputs": [
        {
          "output_type": "stream",
          "name": "stdout",
          "text": [
            "[0.06115045 0.31529932 0.81217242 0.6514061  0.28118211 0.12815264\n",
            " 0.07106037 0.3033914  0.90816168 0.4935503 ]\n",
            "0\n"
          ]
        }
      ],
      "source": [
        "x = np.random.random(10)\n",
        "print(x)\n",
        "print(x.argmin())\n"
      ]
    },
    {
      "cell_type": "markdown",
      "metadata": {
        "id": "ksY18MwKCAxQ"
      },
      "source": [
        "#### 51. Create a structured array representing a position (x,y) and a color (r,g,b) (★★☆) \n",
        "(**hint**: dtype)"
      ]
    },
    {
      "cell_type": "code",
      "execution_count": null,
      "metadata": {
        "id": "I98imjmQCAxQ",
        "colab": {
          "base_uri": "https://localhost:8080/"
        },
        "outputId": "62e8121f-77d9-4a56-fa15-a43e6ce54eb3"
      },
      "outputs": [
        {
          "output_type": "stream",
          "name": "stdout",
          "text": [
            "[((0., 0.), (0., 0., 0.)) ((0., 0.), (0., 0., 0.))\n",
            " ((0., 0.), (0., 0., 0.)) ((0., 0.), (0., 0., 0.))\n",
            " ((0., 0.), (0., 0., 0.)) ((0., 0.), (0., 0., 0.))\n",
            " ((0., 0.), (0., 0., 0.)) ((0., 0.), (0., 0., 0.))\n",
            " ((0., 0.), (0., 0., 0.)) ((0., 0.), (0., 0., 0.))]\n"
          ]
        }
      ],
      "source": [
        "x = np.zeros(10, [ ('position', [ ('x', float),\n",
        "                                  ('y', float)]),\n",
        "                   ('color',    [ ('r', float),\n",
        "                                  ('g', float),\n",
        "                                  ('b', float)])])\n",
        "print(x)"
      ]
    },
    {
      "cell_type": "markdown",
      "metadata": {
        "id": "K1gzsA7dCAxQ"
      },
      "source": [
        "#### 52. Consider a random vector with shape (100,2) representing coordinates, find point by point distances (★★☆) \n",
        "(**hint**: np.atleast\\_2d, T, np.sqrt)"
      ]
    },
    {
      "cell_type": "code",
      "execution_count": null,
      "metadata": {
        "id": "sW6SGUSxCAxR",
        "colab": {
          "base_uri": "https://localhost:8080/"
        },
        "outputId": "90936b50-8409-4dad-d4c9-eca31476b42c"
      },
      "outputs": [
        {
          "output_type": "stream",
          "name": "stdout",
          "text": [
            "[[0.         0.23580391 0.25010638 1.07416605 0.71248394 0.69287167\n",
            "  0.80684186 0.77424027 0.28332772 0.57015878 0.92708803 0.93142693\n",
            "  0.54590057 0.88667743 0.43711012 0.93173198 0.70314089 1.08848091\n",
            "  0.29592229 0.19485022 0.48508068 1.00623204 0.28138457 0.25677125\n",
            "  0.21444358 0.14340237 0.67362027 0.82615469 0.21369616 0.24850899\n",
            "  0.56885042 0.75598971 0.98182457 0.49163513 0.66033657 0.83304746\n",
            "  0.22341683 0.51851927 0.6714229  1.08012008 0.52068852 0.39259391\n",
            "  0.57552084 0.673236   0.25543098 0.60116503 0.36732833 0.70854656\n",
            "  0.41369726 0.56736721 0.77399568 0.21825654 0.00915788 0.37107907\n",
            "  0.85592288 0.70740829 0.27105525 0.76798257 0.40350957 0.78235225\n",
            "  0.71320242 1.06526889 0.63493079 0.38696254 0.42590635 0.75320596\n",
            "  0.72080342 0.7205253  1.04289812 0.75578918 0.76583587 0.83849567\n",
            "  0.5308913  0.50456596 0.61098766 0.54454304 0.90159876 0.63318467\n",
            "  0.96773867 0.31256477 0.21074407 0.22422692 0.60564239 0.24416803\n",
            "  0.191092   1.03412034 0.93626736 0.34680386 0.04903045 0.34895558\n",
            "  0.43896045 0.67777531 0.75575405 0.43468063 0.62619015 0.52482779\n",
            "  0.33278397 0.81999485 0.96005215 0.22604403]\n",
            " [0.23580391 0.         0.45743127 0.84491794 0.54544405 0.46928422\n",
            "  0.72908762 0.65623775 0.15222805 0.34035429 0.69443885 0.71006217\n",
            "  0.4414898  0.68850651 0.20171665 0.69634455 0.57861952 0.85383521\n",
            "  0.37288905 0.10685291 0.32729559 0.77518741 0.08568606 0.36625947\n",
            "  0.0262253  0.14698255 0.44982628 0.64632157 0.42331956 0.04921585\n",
            "  0.35298153 0.52140195 0.74793134 0.49011675 0.49749739 0.75916498\n",
            "  0.0436206  0.33050169 0.50386507 0.84474864 0.35139801 0.40656039\n",
            "  0.3928993  0.62286009 0.04547101 0.40855528 0.24676592 0.57759208\n",
            "  0.2997083  0.34306425 0.59331437 0.41742472 0.22842291 0.14554255\n",
            "  0.66198077 0.47453889 0.21631184 0.56660494 0.31294567 0.68872558\n",
            "  0.5942541  0.82973492 0.40752343 0.18959787 0.27536643 0.65886834\n",
            "  0.5769799  0.53161599 0.80756077 0.67956626 0.53038542 0.65164526\n",
            "  0.46308916 0.29877359 0.41302276 0.35965271 0.80625484 0.42995674\n",
            "  0.7325084  0.30265918 0.049398   0.37401642 0.45999792 0.2272377\n",
            "  0.13750041 0.80533722 0.73159999 0.42623225 0.26146184 0.16768472\n",
            "  0.25423404 0.48661896 0.66221608 0.20590342 0.41972386 0.28989567\n",
            "  0.09771852 0.61432264 0.72496367 0.31235167]\n",
            " [0.25010638 0.45743127 0.         1.24555712 0.9625081  0.86229358\n",
            "  0.79323866 0.80727919 0.43217251 0.75712493 1.11131533 1.08827277\n",
            "  0.59492599 1.00789305 0.64557466 1.1291176  0.7504832  1.2790068\n",
            "  0.24392527 0.44221552 0.59715071 1.18390561 0.47029148 0.19234363\n",
            "  0.44248596 0.39336395 0.84427479 0.9263521  0.03641215 0.45057186\n",
            "  0.80725653 0.95122354 1.16998378 0.44675507 0.91041129 0.81289662\n",
            "  0.42947967 0.7654584  0.7690723  1.2757226  0.63817384 0.36326878\n",
            "  0.82377021 0.64574178 0.48847518 0.84781581 0.61733407 0.76224114\n",
            "  0.50218583 0.80023353 0.87863511 0.04259269 0.25261977 0.60212214\n",
            "  0.97277678 0.9289286  0.51898398 0.89968251 0.47413453 0.78817323\n",
            "  0.75345214 1.26261077 0.8649158  0.55253148 0.54331042 0.76273925\n",
            "  0.7872961  0.96847707 1.23858302 0.7456691  0.9775808  0.94689385\n",
            "  0.54606388 0.66220674 0.85643078 0.79223906 0.89917648 0.87722961\n",
            "  1.16342212 0.34723192 0.41732148 0.13229423 0.85550797 0.33099344\n",
            "  0.44096323 1.20498471 1.06488915 0.26063594 0.20626066 0.59438349\n",
            "  0.68559835 0.80230641 0.76416288 0.62781194 0.86908205 0.74226764\n",
            "  0.54516325 0.95506701 1.17255731 0.22261757]\n",
            " [1.07416605 0.84491794 1.24555712 0.         0.8196517  0.38421766\n",
            "  0.83987016 0.69349319 0.81486772 0.50476689 0.16179682 0.17204989\n",
            "  0.74361731 0.33622008 0.64747644 0.2124506  0.67132162 0.13188967\n",
            "  1.04455604 0.92986774 0.6643435  0.07601414 0.79381043 1.07799413\n",
            "  0.86986039 0.98439794 0.402859   0.44606775 1.21915263 0.8256818\n",
            "  0.65028582 0.33743894 0.13656684 0.96364846 0.82750384 0.86161627\n",
            "  0.85084925 0.75719896 0.54652048 0.16748431 0.62367284 0.96951457\n",
            "  0.76269106 0.88923127 0.8418726  0.72603107 0.90539108 0.65047641\n",
            "  0.76380756 0.6151924  0.45965725 1.20307971 1.0657837  0.74462176\n",
            "  0.36968146 0.46968667 0.97629339 0.38191527 0.80028505 0.77924054\n",
            "  0.68854925 0.17852811 0.5592024  0.69607883 0.70970006 0.77152464\n",
            "  0.6069334  0.73162538 0.16555546 0.83125383 0.3848808  0.41020399\n",
            "  0.82544966 0.58339945 0.70480835 0.76054779 0.80521166 0.67928571\n",
            "  0.1848925  0.92195544 0.86346377 1.12292634 0.87378318 0.91614756\n",
            "  0.95592675 0.04057242 0.28049609 1.07022148 1.08757892 0.82223049\n",
            "  0.78643202 0.47404265 0.77458911 0.64013928 0.66757371 0.58610737\n",
            "  0.74800447 0.33105253 0.30253795 1.0313976 ]\n",
            " [0.71248394 0.54544405 0.9625081  0.8196517  0.         0.62578096\n",
            "  1.16842442 1.05049837 0.67181601 0.53463186 0.66849587 0.78621765\n",
            "  0.89516806 0.88495493 0.47093828 0.60737621 0.97690676 0.74415129\n",
            "  0.91832136 0.52264294 0.7454604  0.74679867 0.59222821 0.90907729\n",
            "  0.54760266 0.56914492 0.61537195 0.91352764 0.9261148  0.58061356\n",
            "  0.25784551 0.53458826 0.68333581 1.01414212 0.05270216 1.19988773\n",
            "  0.58763782 0.21804505 0.84160277 0.71363857 0.74025494 0.94231429\n",
            "  0.15584953 1.10223742 0.50194791 0.15643111 0.34683191 0.96584617\n",
            "  0.78014465 0.30069247 0.87229787 0.92883945 0.70991715 0.41898526\n",
            "  0.88083582 0.37159773 0.45119375 0.78765127 0.80928351 1.11305063\n",
            "  0.99801334 0.69445635 0.30714782 0.61494223 0.72496835 1.08636766\n",
            "  0.94304314 0.08815886 0.6871308  1.12642152 0.44898951 0.89661684\n",
            "  0.94808623 0.63072613 0.16611194 0.18862267 1.21374956 0.17364969\n",
            "  0.6378077  0.83992745 0.59483355 0.90793155 0.11963632 0.76997232\n",
            "  0.52156194 0.79452131 0.89066146 0.97161247 0.75697704 0.38020315\n",
            "  0.29121471 0.77034755 1.09027876 0.52580094 0.19035251 0.40452346\n",
            "  0.50609079 0.80251302 0.54156818 0.85633876]\n",
            " [0.69287167 0.46928422 0.86229358 0.38421766 0.62578096 0.\n",
            "  0.61284109 0.47134786 0.4308443  0.13517186 0.25391342 0.24084308\n",
            "  0.41534898 0.26554253 0.28378085 0.29345426 0.41305903 0.42408983\n",
            "  0.67007085 0.562645   0.29937316 0.32178722 0.41156965 0.69960574\n",
            "  0.49506006 0.61358929 0.01945963 0.28949545 0.83534593 0.44523675\n",
            "  0.38249166 0.14435946 0.31520986 0.62253914 0.60974356 0.64212015\n",
            "  0.47054738 0.47685003 0.26097467 0.4277447  0.26274062 0.60856506\n",
            "  0.50923759 0.60442242 0.47303815 0.48421984 0.57909846 0.3956872\n",
            "  0.3953173  0.33767894 0.25339752 0.81974872 0.68430174 0.39216095\n",
            "  0.25637348 0.27379499 0.62859629 0.16204692 0.4338204  0.55029911\n",
            "  0.43489872 0.41811029 0.31872844 0.31186697 0.33525737 0.53023414\n",
            "  0.3600567  0.5509806  0.39223226 0.58397329 0.23611775 0.27088695\n",
            "  0.49582966 0.20053745 0.46743568 0.49254329 0.62744047 0.45325344\n",
            "  0.32118598 0.54784088 0.48292686 0.74165575 0.62979468 0.53453713\n",
            "  0.59092904 0.3437248  0.28709864 0.70106123 0.70427122 0.48126173\n",
            "  0.47438794 0.17224824 0.53410577 0.26363688 0.43691484 0.2587833\n",
            "  0.37535758 0.18127312 0.37931119 0.65102288]\n",
            " [0.80684186 0.72908762 0.79323866 0.83987016 1.16842442 0.61284109\n",
            "  0.         0.14873835 0.57949299 0.64654427 0.80115416 0.6768607\n",
            "  0.2886508  0.5036588  0.70198552 0.87171047 0.20047767 0.94563574\n",
            "  0.55519826 0.82749858 0.42796278 0.82177419 0.64588005 0.60898526\n",
            "  0.7476288  0.84087878 0.6112242  0.39459768 0.79067155 0.67988858\n",
            "  0.91147658 0.75639637 0.85716282 0.34654991 1.13584764 0.03149387\n",
            "  0.69263108 0.96630769 0.35206053 0.96654959 0.42838511 0.43485503\n",
            "  1.02080836 0.14829709 0.76827298 1.01220392 0.96488092 0.2171659\n",
            "  0.42938286 0.87081775 0.39207436 0.76418233 0.79869165 0.78352422\n",
            "  0.47086095 0.87246944 0.9445528  0.49058165 0.42031495 0.06335751\n",
            "  0.17845892 0.96506532 0.88651365 0.57258602 0.46318251 0.08370239\n",
            "  0.25443943 1.11248353 0.93970093 0.05111935 0.84830121 0.43048103\n",
            "  0.27693016 0.53783553 1.00279572 0.99248308 0.10832263 1.00050259\n",
            "  0.88680608 0.49481945 0.69601139 0.6712535  1.1276234  0.56467284\n",
            "  0.85553332 0.80869402 0.56155292 0.53271987 0.7790253  0.86514688\n",
            "  0.91917425 0.44070641 0.0797424  0.64682298 0.98405462 0.76529078\n",
            "  0.7032401  0.5251726  0.977115   0.60416737]\n",
            " [0.77424027 0.65623775 0.80727919 0.69349319 1.05049837 0.47134786\n",
            "  0.14873835 0.         0.51612533 0.51933704 0.65249717 0.52887541\n",
            "  0.22834478 0.3577992  0.59454533 0.72360644 0.07828715 0.79737399\n",
            "  0.56335446 0.76045083 0.33323231 0.67352018 0.57062624 0.61553027\n",
            "  0.67789328 0.78320043 0.47148348 0.24745042 0.79802736 0.60822307\n",
            "  0.79266419 0.61344035 0.70842488 0.37932312 1.02156068 0.17468626\n",
            "  0.62510324 0.85710952 0.21417268 0.81795385 0.32168306 0.44536674\n",
            "  0.90802905 0.21979344 0.69063086 0.8956202  0.87772803 0.08505069\n",
            "  0.36647306 0.75017396 0.24337965 0.7728794  0.76546151 0.68685506\n",
            "  0.3238558  0.73723901 0.87193437 0.34251264 0.37096888 0.0861893\n",
            "  0.06229149 0.81636382 0.75897708 0.48116186 0.38097097 0.08022053\n",
            "  0.111717   0.98924537 0.79097788 0.13913802 0.70746511 0.28334473\n",
            "  0.26123415 0.42337127 0.88439874 0.88166067 0.16325367 0.8793731\n",
            "  0.73825376 0.47527802 0.63089437 0.67749313 1.01982518 0.53112423\n",
            "  0.79015225 0.66150251 0.4173524  0.55502501 0.75445041 0.77434085\n",
            "  0.81791819 0.29950318 0.08271115 0.54067205 0.86269747 0.64604668\n",
            "  0.61350814 0.37643943 0.83001351 0.597498  ]\n",
            " [0.28332772 0.15222805 0.43217251 0.81486772 0.67181601 0.4308443\n",
            "  0.57949299 0.51612533 0.         0.32702444 0.67917674 0.66183889\n",
            "  0.29428625 0.60439815 0.23928552 0.69935079 0.44016017 0.84721433\n",
            "  0.27134008 0.24810659 0.20345205 0.75204693 0.08007152 0.2850498\n",
            "  0.16856459 0.26707592 0.41256289 0.54314139 0.40456731 0.10372724\n",
            "  0.44767983 0.52188676 0.73806607 0.34507377 0.62742865 0.60916522\n",
            "  0.11330384 0.45378468 0.38968133 0.84487859 0.23761846 0.27084307\n",
            "  0.51608592 0.47064685 0.19516121 0.52385323 0.39747122 0.4418625\n",
            "  0.15148146 0.42444324 0.49082097 0.38958049 0.27418406 0.25289247\n",
            "  0.5730335  0.52261345 0.36536972 0.4871667  0.16097962 0.54183157\n",
            "  0.45383593 0.83227541 0.47715643 0.12049081 0.14477846 0.51189739\n",
            "  0.44765698 0.64448871 0.80786666 0.52947309 0.55833492 0.5551691\n",
            "  0.31098567 0.23216424 0.52362081 0.48319335 0.6605462  0.5346889\n",
            "  0.73296644 0.17039896 0.11663283 0.31684477 0.59817969 0.11613557\n",
            "  0.2766024  0.77432314 0.65556217 0.31768837 0.28253952 0.30907063\n",
            "  0.38534925 0.39510719 0.51509406 0.20586554 0.52162999 0.33997134\n",
            "  0.16665339 0.54039031 0.75094915 0.23142874]\n",
            " [0.57015878 0.34035429 0.75712493 0.50476689 0.53463186 0.13517186\n",
            "  0.64654427 0.51933704 0.32702444 0.         0.35769637 0.3737334\n",
            "  0.4005157  0.39020021 0.14882351 0.37239541 0.44889899 0.52272367\n",
            "  0.58695482 0.42965986 0.25642958 0.43607761 0.29204571 0.60885738\n",
            "  0.36554658 0.48207906 0.11639157 0.38974448 0.727757   0.32176628\n",
            "  0.27871314 0.1948765  0.41432418 0.58042102 0.51038448 0.67756194\n",
            "  0.34675598 0.36037418 0.30761861 0.51859787 0.23360583 0.54611888\n",
            "  0.40157447 0.60638349 0.34033885 0.38303456 0.44642595 0.43584064\n",
            "  0.33473223 0.23443999 0.34363074 0.71461058 0.56191928 0.25708427\n",
            "  0.37431516 0.23568136 0.49343661 0.27394802 0.37334753 0.58768361\n",
            "  0.47063844 0.50559152 0.24019576 0.2074163  0.26932645 0.56300232\n",
            "  0.40990813 0.47013038 0.48146204 0.60931656 0.24331926 0.37970305\n",
            "  0.47207392 0.12874769 0.36951946 0.38005859 0.68210665 0.36172482\n",
            "  0.40634239 0.4689211  0.359466   0.64381419 0.51998895 0.43948062\n",
            "  0.45738541 0.46505744 0.41890325 0.62517428 0.58609205 0.34694441\n",
            "  0.34686809 0.23696067 0.56696497 0.13552245 0.34496995 0.1373656\n",
            "  0.24412017 0.30707673 0.42867941 0.55680011]\n",
            " [0.92708803 0.69443885 1.11131533 0.16179682 0.66849587 0.25391342\n",
            "  0.80115416 0.65249717 0.67917674 0.35769637 0.         0.15196276\n",
            "  0.65373997 0.32230679 0.49421337 0.08388649 0.6134541  0.17018261\n",
            "  0.92392359 0.77493927 0.55127412 0.08597499 0.64970547 0.95274218\n",
            "  0.71870128 0.83056437 0.27013022 0.4146977  1.08307191 0.6790961\n",
            "  0.48888415 0.17767322 0.06196082 0.86853033 0.67265992 0.82680487\n",
            "  0.70391788 0.59579392 0.47056114 0.17653031 0.51294199 0.86079118\n",
            "  0.60301474 0.82423353 0.68813752 0.56705669 0.74400941 0.59333263\n",
            "  0.64854521 0.45342345 0.40912429 1.06872308 0.91897632 0.58719056\n",
            "  0.343946   0.30984004 0.81666679 0.3121127  0.68676652 0.73808469\n",
            "  0.6333918  0.16977738 0.39825847 0.55878551 0.58913409 0.724586\n",
            "  0.55124262 0.58119052 0.14348363 0.78308729 0.22534823 0.38081929\n",
            "  0.73597108 0.45293017 0.54601712 0.59978367 0.78729839 0.52131981\n",
            "  0.08667915 0.80174749 0.71668099 0.99328018 0.71599414 0.78637023\n",
            "  0.80011496 0.1291116  0.28941745 0.95482104 0.9437872  0.66239236\n",
            "  0.62475737 0.38572521 0.72810192 0.4926681  0.50894631 0.42692958\n",
            "  0.59682635 0.27701824 0.19975883 0.90339677]\n",
            " [0.93142693 0.71006217 1.08827277 0.17204989 0.78621765 0.24084308\n",
            "  0.6768607  0.52887541 0.66183889 0.3737334  0.15196276 0.\n",
            "  0.57190573 0.17890028 0.52230027 0.23579904 0.50173994 0.26905843\n",
            "  0.87978221 0.80304391 0.49877312 0.14539691 0.65014494 0.91545728\n",
            "  0.73587518 0.85438485 0.26030048 0.28260161 1.06347537 0.68490597\n",
            "  0.57646389 0.25492206 0.19203949 0.79212159 0.78309417 0.70025228\n",
            "  0.71021646 0.68064881 0.37447154 0.29235006 0.45760643 0.8005834\n",
            "  0.69949223 0.71895395 0.71351654 0.66728532 0.80650065 0.4809492\n",
            "  0.59823946 0.53528163 0.29016797 1.04606695 0.92272895 0.62796482\n",
            "  0.2070889  0.41534471 0.86436643 0.20993312 0.63373711 0.61504193\n",
            "  0.51966505 0.29346794 0.49319155 0.54637219 0.54724037 0.60532964\n",
            "  0.4374854  0.70145028 0.26969716 0.66492996 0.33804629 0.24691229\n",
            "  0.65359708 0.42998419 0.64742088 0.69020205 0.65155161 0.62619916\n",
            "  0.23437657 0.75757589 0.7224463  0.96286999 0.81784416 0.75741613\n",
            "  0.83102933 0.13536194 0.13826242 0.90315084 0.94044361 0.71364324\n",
            "  0.69405211 0.30336328 0.60855188 0.50447994 0.61185466 0.48077921\n",
            "  0.61610752 0.15934623 0.35171954 0.87073408]\n",
            " [0.54590057 0.4414898  0.59492599 0.74361731 0.89516806 0.41534898\n",
            "  0.2886508  0.22834478 0.29428625 0.4005157  0.65373997 0.57190573\n",
            "  0.         0.44336415 0.42435778 0.7062296  0.15938581 0.8191616\n",
            "  0.35410916 0.54202822 0.15069443 0.70148598 0.35757904 0.4029745\n",
            "  0.46094333 0.55995078 0.40604227 0.34523269 0.58171436 0.39240446\n",
            "  0.6422031  0.55480764 0.71533623 0.22043227 0.85910956 0.31932325\n",
            "  0.40645238 0.68652128 0.20050497 0.83010231 0.16691303 0.24712149\n",
            "  0.74358721 0.20867764 0.47991533 0.73890948 0.67631534 0.16846693\n",
            "  0.14281501 0.60477469 0.30525255 0.55778507 0.53711753 0.49774817\n",
            "  0.40562933 0.63608415 0.65756292 0.36216067 0.14274599 0.24763566\n",
            "  0.16754263 0.82331614 0.6316155  0.28679385 0.17576202 0.21771159\n",
            "  0.19271224 0.84653748 0.79701763 0.24044231 0.6321559  0.37227141\n",
            "  0.08240501 0.27597731 0.73171007 0.71379138 0.36627917 0.73297328\n",
            "  0.73073519 0.25222014 0.41077298 0.46291039 0.84575114 0.30311442\n",
            "  0.57082357 0.7053952  0.50560572 0.35859773 0.52678199 0.57720026\n",
            "  0.63463623 0.27094874 0.22096792 0.36937264 0.71707475 0.49975787\n",
            "  0.41563035 0.41546577 0.79428523 0.37742548]\n",
            " [0.88667743 0.68850651 1.00789305 0.33622008 0.88495493 0.26554253\n",
            "  0.5036588  0.3577992  0.60439815 0.39020021 0.32230679 0.17890028\n",
            "  0.44336415 0.         0.53039243 0.40339009 0.34260755 0.44652733\n",
            "  0.78131309 0.79131372 0.41220645 0.32364405 0.61457593 0.82357754\n",
            "  0.71466285 0.83536392 0.28032477 0.11131307 0.9875238  0.65334133\n",
            "  0.647443   0.35933961 0.36944257 0.6609836  0.87228018 0.52552011\n",
            "  0.67766988 0.74231101 0.24491614 0.47107625 0.37221466 0.6867832\n",
            "  0.77424785 0.56053282 0.70323748 0.74806674 0.83550371 0.32192188\n",
            "  0.50575435 0.60281359 0.13846812 0.96709239 0.8775927  0.64134134\n",
            "  0.03793881 0.51904356 0.87329634 0.12214952 0.53566847 0.4432574\n",
            "  0.35783569 0.4723633  0.57865083 0.50422076 0.46910849 0.43658504\n",
            "  0.27894965 0.8061313  0.448466   0.49625743 0.45715084 0.07634052\n",
            "  0.52056271 0.38982267 0.73056709 0.75804926 0.47307687 0.71457608\n",
            "  0.40825578 0.66351861 0.68855903 0.87734096 0.89486769 0.68096779\n",
            "  0.82137098 0.30586267 0.0630779  0.79567675 0.88647659 0.73379879\n",
            "  0.73656351 0.20941679 0.43952243 0.49569904 0.69859993 0.52255619\n",
            "  0.60529992 0.08428396 0.51849686 0.78548529]\n",
            " [0.43711012 0.20171665 0.64557466 0.64747644 0.47093828 0.28378085\n",
            "  0.70198552 0.59454533 0.23928552 0.14882351 0.49421337 0.52230027\n",
            "  0.42435778 0.53039243 0.         0.49467458 0.51780918 0.65220172\n",
            "  0.51052296 0.28270952 0.27540205 0.57623869 0.17734497 0.52097337\n",
            "  0.22509414 0.33694533 0.26475691 0.51349937 0.61345715 0.19552827\n",
            "  0.22217948 0.31989274 0.5466976  0.55707759 0.43503551 0.73346834\n",
            "  0.21827069 0.26435802 0.39993373 0.64307683 0.27478437 0.4995341\n",
            "  0.3195787  0.63134009 0.1944021  0.31491067 0.30725446 0.50965255\n",
            "  0.31349545 0.19101124 0.46304349 0.60388991 0.42948858 0.11094891\n",
            "  0.51037498 0.28616235 0.3455323  0.41001747 0.34609076 0.6493917\n",
            "  0.53780781 0.62816051 0.23838067 0.14834665 0.25501939 0.621546\n",
            "  0.49417484 0.42660592 0.60587597 0.65817233 0.33243556 0.50962612\n",
            "  0.47843697 0.17288276 0.3088409  0.29058568 0.75648447 0.31307114\n",
            "  0.53079799 0.40564171 0.2309616  0.54488278 0.42628025 0.35465932\n",
            "  0.30963902 0.60849412 0.56395733 0.55672337 0.45947098 0.20378808\n",
            "  0.22511439 0.35142278 0.6253818  0.05524896 0.29804237 0.10084783\n",
            "  0.1043314  0.44938879 0.52757541 0.46621235]\n",
            " [0.93173198 0.69634455 1.1291176  0.2124506  0.60737621 0.29345426\n",
            "  0.87171047 0.72360644 0.69935079 0.37239541 0.08388649 0.23579904\n",
            "  0.7062296  0.40339009 0.49467458 0.         0.67977913 0.16097824\n",
            "  0.95451587 0.76828718 0.59207692 0.14199462 0.66099037 0.97947982\n",
            "  0.71925747 0.82552002 0.30624398 0.4912539  1.09924569 0.68678763\n",
            "  0.45189397 0.17790354 0.07596331 0.91593133 0.61642986 0.89828654\n",
            "  0.71083247 0.55785967 0.5325921  0.14840423 0.55612417 0.90022723\n",
            "  0.55720975 0.88585078 0.68463214 0.51939111 0.71749625 0.6601613\n",
            "  0.68611456 0.42160959 0.48114159 1.08665831 0.92403774 0.57709751\n",
            "  0.42288317 0.26782968 0.79796548 0.38114228 0.72498059 0.80840034\n",
            "  0.70038447 0.13384775 0.3594858  0.57934104 0.62385418 0.79328874\n",
            "  0.61913669 0.51929814 0.11123518 0.85093155 0.18499151 0.45838145\n",
            "  0.78762822 0.4826838  0.49797338 0.55808999 0.86313768 0.47137798\n",
            "  0.0370748  0.83378091 0.72364286 1.016011   0.66495737 0.81077177\n",
            "  0.79145338 0.19055884 0.37287947 0.98899269 0.95246735 0.6441958\n",
            "  0.59622104 0.44476445 0.79691332 0.50244117 0.46068937 0.41479993\n",
            "  0.59896703 0.35198709 0.11605292 0.92823312]\n",
            " [0.70314089 0.57861952 0.7504832  0.67132162 0.97690676 0.41305903\n",
            "  0.20047767 0.07828715 0.44016017 0.44889899 0.6134541  0.50173994\n",
            "  0.15938581 0.34260755 0.51780918 0.67977913 0.         0.7664913\n",
            "  0.5074676  0.68322544 0.25495005 0.64340778 0.49295853 0.55813961\n",
            "  0.60053386 0.70712439 0.41094723 0.23229575 0.73885872 0.53081304\n",
            "  0.71911939 0.55703939 0.67184408 0.3403267  0.9468712  0.23060074\n",
            "  0.5481122  0.7810677  0.15208985 0.78410911 0.24403976 0.39341854\n",
            "  0.83285051 0.21831949 0.61261629 0.82147712 0.79945925 0.02085192\n",
            "  0.29201204 0.67722254 0.21173023 0.71441827 0.69425477 0.60892177\n",
            "  0.30568602 0.67232454 0.7940875  0.30150655 0.29983284 0.13934503\n",
            "  0.02203369 0.78084814 0.68908442 0.40287688 0.30325714 0.1172592\n",
            "  0.06439262 0.91755844 0.7549521  0.17189679 0.64807699 0.26629077\n",
            "  0.20854782 0.34769692 0.81081791 0.80599253 0.2386821  0.80675348\n",
            "  0.69752276 0.41109066 0.55419154 0.61914524 0.94364253 0.46171233\n",
            "  0.71306033 0.63673614 0.40513354 0.50506414 0.6855264  0.69613948\n",
            "  0.74054921 0.24141411 0.12115865 0.46361583 0.79014744 0.57242967\n",
            "  0.53523222 0.34368414 0.78190751 0.53560249]\n",
            " [1.08848091 0.85383521 1.2790068  0.13188967 0.74415129 0.42408983\n",
            "  0.94563574 0.79737399 0.84721433 0.52272367 0.17018261 0.26905843\n",
            "  0.8191616  0.44652733 0.65220172 0.16097824 0.7664913  0.\n",
            "  1.09404304 0.92825639 0.72102363 0.12386219 0.81424481 1.12248498\n",
            "  0.87725187 0.98520327 0.44017112 0.55164038 1.25017552 0.8418793\n",
            "  0.60982835 0.33250602 0.10934528 1.03586756 0.75923031 0.96925645\n",
            "  0.86632261 0.71478659 0.63014343 0.03803447 0.68233786 1.03045009\n",
            "  0.70979785 0.98148789 0.84378208 0.67102749 0.87755421 0.74588765\n",
            "  0.8185832  0.5812738  0.5564235  1.23643238 1.08060859 0.73745264\n",
            "  0.47609016 0.42578693 0.95889974 0.46677608 0.85671724 0.88356314\n",
            "  0.78529322 0.05426338 0.51749546 0.72672365 0.75931649 0.87299839\n",
            "  0.70277149 0.65636853 0.05719573 0.93241093 0.34481809 0.5159705\n",
            "  0.90155893 0.62267922 0.64955986 0.71317025 0.91957052 0.62185351\n",
            "  0.12390371 0.97190961 0.87913351 1.16229146 0.81254673 0.95560377\n",
            "  0.95179755 0.1457103  0.39724196 1.1249782  1.10744849 0.80517064\n",
            "  0.75607149 0.54889924 0.87630364 0.65605305 0.61255126 0.57516769\n",
            "  0.75618146 0.42306185 0.20420862 1.07279802]\n",
            " [0.29592229 0.37288905 0.24392527 1.04455604 0.91832136 0.67007085\n",
            "  0.55519826 0.56335446 0.27134008 0.58695482 0.92392359 0.87978221\n",
            "  0.35410916 0.78131309 0.51052296 0.95451587 0.5074676  1.09404304\n",
            "  0.         0.41729589 0.3810091  0.98910496 0.33999411 0.05378919\n",
            "  0.3720082  0.39526106 0.6538896  0.69290904 0.23657399 0.34106341\n",
            "  0.71259179 0.77989679 0.98492437 0.21276195 0.87009493 0.57687953\n",
            "  0.33114261 0.70288411 0.53793515 1.09596707 0.42221377 0.12077914\n",
            "  0.76545906 0.40994543 0.41662098 0.77924472 0.60152231 0.51988938\n",
            "  0.28158481 0.69287442 0.64762914 0.21062358 0.29046065 0.50849414\n",
            "  0.74491612 0.79347126 0.52981421 0.68057312 0.24728637 0.54614044\n",
            "  0.50984433 1.0849586  0.74785254 0.38191671 0.33559223 0.5200556\n",
            "  0.54680537 0.90198907 1.05964467 0.50630745 0.82542056 0.71607384\n",
            "  0.30214789 0.47229076 0.7819413  0.73217587 0.65934356 0.79619395\n",
            "  0.98613451 0.12265356 0.32351614 0.11621869 0.82963876 0.15620448\n",
            "  0.43276782 1.00429029 0.84076185 0.05498006 0.25381781 0.53922559\n",
            "  0.6271205  0.58235656 0.52162639 0.47573854 0.78435069 0.6112808\n",
            "  0.42903488 0.73638247 1.0153417  0.07137496]\n",
            " [0.19485022 0.10685291 0.44221552 0.92986774 0.52264294 0.562645\n",
            "  0.82749858 0.76045083 0.24810659 0.42965986 0.77493927 0.80304391\n",
            "  0.54202822 0.79131372 0.28270952 0.76828718 0.68322544 0.92825639\n",
            "  0.41729589 0.         0.43351955 0.85799459 0.19157759 0.39724698\n",
            "  0.08295087 0.05855608 0.5432639  0.75225231 0.40603222 0.15263133\n",
            "  0.37705167 0.59846334 0.82522718 0.56629934 0.4712478  0.85703469\n",
            "  0.1357057  0.32380934 0.61069581 0.91594504 0.45822378 0.47519688\n",
            "  0.38156177 0.71456386 0.08964357 0.40641162 0.1859656  0.6828633\n",
            "  0.39927421 0.37980661 0.6992937  0.40699683 0.19075859 0.19183754\n",
            "  0.76582266 0.5273378  0.12013129 0.6691885  0.40781432 0.78966312\n",
            "  0.69828641 0.89989713 0.44883735 0.29614838 0.3803666  0.75973662\n",
            "  0.68326741 0.52635587 0.87914475 0.77734119 0.59316553 0.75672722\n",
            "  0.55649916 0.40259271 0.41614191 0.35016932 0.90804481 0.43852156\n",
            "  0.80510819 0.37369952 0.13149675 0.38786453 0.42152552 0.29352593\n",
            "  0.03067909 0.89105719 0.8324088  0.47227057 0.23595519 0.15430062\n",
            "  0.24415003 0.59171768 0.76297424 0.30029075 0.43185986 0.35367769\n",
            "  0.18805551 0.71538157 0.78397623 0.34876603]\n",
            " [0.48508068 0.32729559 0.59715071 0.6643435  0.7454604  0.29937316\n",
            "  0.42796278 0.33323231 0.20345205 0.25642958 0.55127412 0.49877312\n",
            "  0.15069443 0.41220645 0.27540205 0.59207692 0.25495005 0.72102363\n",
            "  0.3810091  0.43351955 0.         0.61135357 0.24194587 0.41778187\n",
            "  0.35059007 0.46329312 0.28583408 0.3416976  0.5757405  0.28115214\n",
            "  0.49165516 0.42769057 0.61309549 0.32767757 0.71041761 0.45936901\n",
            "  0.30092778 0.53912009 0.18642544 0.72658398 0.04139032 0.30953088\n",
            "  0.59497899 0.35932302 0.35891981 0.58907544 0.54474479 0.25176541\n",
            "  0.09953518 0.45408053 0.29020567 0.55587357 0.47592398 0.35679829\n",
            "  0.37832994 0.49151146 0.54095159 0.30272542 0.13624922 0.37802978\n",
            "  0.27258149 0.71735335 0.48202463 0.14807855 0.0591788  0.34929131\n",
            "  0.2497479  0.69587953 0.69139106 0.38313676 0.49567118 0.35647653\n",
            "  0.21618239 0.12838795 0.5814528  0.56581925 0.49021001 0.58235243\n",
            "  0.62052664 0.25892143 0.30873114 0.46810656 0.69985817 0.26876432\n",
            "  0.46389476 0.62425729 0.46797511 0.40611433 0.47905446 0.44196582\n",
            "  0.49143244 0.2051559  0.35302442 0.22017368 0.56642054 0.34912197\n",
            "  0.28051477 0.35830888 0.66930591 0.37575521]\n",
            " [1.00623204 0.77518741 1.18390561 0.07601414 0.74679867 0.32178722\n",
            "  0.82177419 0.67352018 0.75204693 0.43607761 0.08597499 0.14539691\n",
            "  0.70148598 0.32364405 0.57623869 0.14199462 0.64340778 0.12386219\n",
            "  0.98910496 0.85799459 0.61135357 0.         0.72704959 1.02042901\n",
            "  0.79981856 0.91309611 0.33963611 0.4278661  1.15660366 0.75779193\n",
            "  0.57427499 0.26277881 0.06924668 0.91987072 0.7533714  0.8454378\n",
            "  0.78282068 0.68118896 0.50933719 0.14769297 0.57152739 0.91945939\n",
            "  0.68703487 0.85914277 0.77055425 0.65056036 0.82994184 0.62274504\n",
            "  0.71020896 0.53923411 0.43286928 1.14134107 0.99797617 0.67140585\n",
            "  0.35248499 0.39392173 0.90194834 0.3449976  0.74759509 0.75970948\n",
            "  0.66199905 0.15074878 0.48324153 0.63228295 0.65351573 0.74926822\n",
            "  0.57951886 0.65895576 0.1291392  0.80872429 0.3091396  0.39224478\n",
            "  0.78384138 0.52229977 0.62938437 0.68463297 0.79666666 0.60409353\n",
            "  0.12035151 0.86649023 0.79551777 1.06334702 0.79869979 0.85623777\n",
            "  0.88361396 0.0485727  0.27696225 1.01725028 1.02124169 0.74774588\n",
            "  0.71073217 0.43054885 0.75255841 0.57158615 0.59218583 0.51192428\n",
            "  0.67785763 0.29975254 0.2436329  0.97248425]\n",
            " [0.28138457 0.08568606 0.47029148 0.79381043 0.59222821 0.41156965\n",
            "  0.64588005 0.57062624 0.08007152 0.29204571 0.64970547 0.65014494\n",
            "  0.35757904 0.61457593 0.17734497 0.66099037 0.49295853 0.81424481\n",
            "  0.33999411 0.19157759 0.24194587 0.72704959 0.         0.3456617\n",
            "  0.10867315 0.22474491 0.39236155 0.56636265 0.43918357 0.03995304\n",
            "  0.3730269  0.48330869 0.7062041  0.42505715 0.54751932 0.67622342\n",
            "  0.06316793 0.37418699 0.42074123 0.80861314 0.26744558 0.35009444\n",
            "  0.43662473 0.54422824 0.12239499 0.44545877 0.32215448 0.49191547\n",
            "  0.21716931 0.35303176 0.51333425 0.42823151 0.27276575 0.17367097\n",
            "  0.58632794 0.46342708 0.3015119  0.4936032  0.23432027 0.60425289\n",
            "  0.50868724 0.79480382 0.40988504 0.11047016 0.18970143 0.57445321\n",
            "  0.49169322 0.56683417 0.77135879 0.5967931  0.5076363  0.57361107\n",
            "  0.38405944 0.22621543 0.44602805 0.40363322 0.72134605 0.45830186\n",
            "  0.69601683 0.24823509 0.07405907 0.36756624 0.51820447 0.18434206\n",
            "  0.22199418 0.75361107 0.66070108 0.38948793 0.29422325 0.23016735\n",
            "  0.30527774 0.40911831 0.57785105 0.15855363 0.44579416 0.2771595\n",
            "  0.08944999 0.54359061 0.70242606 0.29061853]\n",
            " [0.25677125 0.36625947 0.19234363 1.07799413 0.90907729 0.69960574\n",
            "  0.60898526 0.61553027 0.2850498  0.60885738 0.95274218 0.91545728\n",
            "  0.4029745  0.82357754 0.52097337 0.97947982 0.55813961 1.12248498\n",
            "  0.05378919 0.39724698 0.41778187 1.02042901 0.3456617  0.\n",
            "  0.36161656 0.36872298 0.68273897 0.73804358 0.18317345 0.34045885\n",
            "  0.71412531 0.80325571 1.01316367 0.26597089 0.85967237 0.63060768\n",
            "  0.32694012 0.69635344 0.58179841 1.12282708 0.45917215 0.17448792\n",
            "  0.75845965 0.46361099 0.40788966 0.77481162 0.58310175 0.56996759\n",
            "  0.31950469 0.6975515  0.69160432 0.15751119 0.25236578 0.50735771\n",
            "  0.78766283 0.80646927 0.50465956 0.71971124 0.28791384 0.59966251\n",
            "  0.5612131  1.11116218 0.75554001 0.40169054 0.36849476 0.57342027\n",
            "  0.59556343 0.89787014 1.08618047 0.56008813 0.84330693 0.76005085\n",
            "  0.35432647 0.49982589 0.77896887 0.72531197 0.71309338 0.7949376\n",
            "  1.01199524 0.16012032 0.31772492 0.06254898 0.8156949  0.16966826\n",
            "  0.40946527 1.03755963 0.88211879 0.09234797 0.21158967 0.5288742\n",
            "  0.61879653 0.62157578 0.57503466 0.49086532 0.78392891 0.62168816\n",
            "  0.43264797 0.77547458 1.03538566 0.05510096]\n",
            " [0.21444358 0.0262253  0.44248596 0.86986039 0.54760266 0.49506006\n",
            "  0.7476288  0.67789328 0.16856459 0.36554658 0.71870128 0.73587518\n",
            "  0.46094333 0.71466285 0.22509414 0.71925747 0.60053386 0.87725187\n",
            "  0.3720082  0.08295087 0.35059007 0.79981856 0.10867315 0.36161656\n",
            "  0.         0.12077016 0.47560052 0.6718916  0.40778724 0.0697463\n",
            "  0.36519988 0.54498658 0.77174117 0.49970739 0.49861911 0.77746548\n",
            "  0.05534357 0.33529213 0.52859441 0.8676382  0.37572888 0.41333483\n",
            "  0.39708538 0.63843179 0.04715328 0.41504355 0.23711342 0.6000022\n",
            "  0.31850155 0.3580755  0.6188699  0.40327298 0.20745991 0.15990469\n",
            "  0.68804207 0.49354478 0.19693177 0.59278293 0.3294559  0.70849643\n",
            "  0.61578172 0.85244366 0.42389124 0.21494763 0.29751679 0.67859442\n",
            "  0.60033569 0.53795668 0.83049248 0.69779187 0.55146511 0.67749086\n",
            "  0.47921106 0.32489614 0.42078154 0.36403371 0.82650219 0.43908472\n",
            "  0.75555805 0.30973454 0.05501529 0.3650716  0.45789035 0.2319823\n",
            "  0.11332104 0.83036629 0.75782427 0.42611176 0.24301601 0.16753601\n",
            "  0.25721783 0.51248508 0.68188624 0.23152665 0.42962333 0.31038683\n",
            "  0.12196168 0.64054602 0.74560858 0.30874668]\n",
            " [0.14340237 0.14698255 0.39336395 0.98439794 0.56914492 0.61358929\n",
            "  0.84087878 0.78320043 0.26707592 0.48207906 0.83056437 0.85438485\n",
            "  0.55995078 0.83536392 0.33694533 0.82552002 0.70712439 0.98520327\n",
            "  0.39526106 0.05855608 0.46329312 0.91309611 0.22474491 0.36872298\n",
            "  0.12077016 0.         0.59414507 0.79091275 0.3569699  0.18481786\n",
            "  0.43457165 0.65464714 0.88158933 0.56124713 0.51706424 0.86961296\n",
            "  0.16281875 0.37698301 0.64506309 0.97336827 0.4914056  0.4663355\n",
            "  0.43288449 0.72109613 0.14255083 0.45964267 0.22494352 0.70835418\n",
            "  0.41769091 0.43818574 0.73787516 0.36029687 0.14081833 0.24989149\n",
            "  0.80852241 0.58585797 0.13606121 0.71352393 0.42093949 0.80665427\n",
            "  0.72091151 0.95744669 0.50729776 0.33404084 0.40736904 0.77675471\n",
            "  0.71199918 0.57794741 0.93649667 0.79015006 0.65125385 0.79736295\n",
            "  0.56605383 0.44555502 0.47037631 0.40234576 0.92592812 0.49360966\n",
            "  0.86227001 0.3689046  0.1545623  0.35143207 0.46334428 0.28892759\n",
            "  0.04771568 0.94532432 0.87855938 0.44990077 0.18835454 0.21022043\n",
            "  0.29801657 0.63247009 0.77981732 0.35007318 0.48758334 0.41126295\n",
            "  0.23830354 0.76128989 0.84238874 0.32456106]\n",
            " [0.67362027 0.44982628 0.84427479 0.402859   0.61537195 0.01945963\n",
            "  0.6112242  0.47148348 0.41256289 0.11639157 0.27013022 0.26030048\n",
            "  0.40604227 0.28032477 0.26475691 0.30624398 0.41094723 0.44017112\n",
            "  0.6538896  0.5432639  0.28583408 0.33963611 0.39236155 0.68273897\n",
            "  0.47560052 0.59414507 0.         0.29838293 0.81712142 0.42589319\n",
            "  0.3694666  0.1497484  0.33103912 0.61068472 0.59802773 0.64084849\n",
            "  0.45120105 0.46214468 0.25920534 0.44280765 0.25027008 0.59439051\n",
            "  0.49601552 0.59816068 0.45364894 0.47193997 0.56133947 0.39414924\n",
            "  0.38064908 0.32450386 0.25983278 0.8017138  0.66506415 0.37347452\n",
            "  0.26929339 0.26890082 0.60979759 0.1726267  0.41933943 0.54905621\n",
            "  0.43289754 0.43269112 0.30882443 0.29327271 0.31972749 0.52820569\n",
            "  0.35985627 0.54195321 0.40697176 0.5810063  0.23713468 0.28161664\n",
            "  0.48580019 0.18313441 0.45560012 0.47851802 0.62918415 0.44231831\n",
            "  0.33505873 0.53186695 0.46359576 0.72419031 0.61643026 0.51709262\n",
            "  0.57158863 0.36240814 0.30417221 0.68563598 0.68526218 0.46296764\n",
            "  0.45773    0.17202066 0.53210571 0.24418005 0.42585411 0.24259598\n",
            "  0.35592501 0.19609886 0.38830538 0.63379501]\n",
            " [0.82615469 0.64632157 0.9263521  0.44606775 0.91352764 0.28949545\n",
            "  0.39459768 0.24745042 0.54314139 0.38974448 0.4146977  0.28260161\n",
            "  0.34523269 0.11131307 0.51349937 0.4912539  0.23229575 0.55164038\n",
            "  0.69290904 0.75225231 0.3416976  0.4278661  0.56636265 0.73804358\n",
            "  0.6718916  0.79091275 0.29838293 0.         0.9084789  0.60619052\n",
            "  0.66419968 0.41306853 0.46725269 0.55835959 0.89473923 0.41766142\n",
            "  0.6291256  0.75010759 0.15791425 0.57384455 0.30552828 0.59187297\n",
            "  0.78951117 0.4496688  0.66749215 0.76788178 0.8203755  0.21179452\n",
            "  0.42674812 0.61918439 0.0530381  0.88667057 0.81699809 0.62240922\n",
            "  0.07640561 0.56158285 0.84495591 0.12863725 0.45230027 0.33334513\n",
            "  0.2468625  0.57348455 0.60720642 0.45703024 0.400762   0.32565023\n",
            "  0.16948436 0.84020462 0.54866524 0.38536723 0.51216539 0.03590865\n",
            "  0.41865087 0.35265077 0.7523787  0.76932908 0.37260484 0.74019865\n",
            "  0.50135664 0.57930195 0.63886666 0.79446929 0.9089305  0.6062752\n",
            "  0.78285854 0.41418011 0.17309021 0.70261501 0.82070333 0.71587495\n",
            "  0.73248205 0.16302481 0.32865384 0.47032287 0.7236423  0.52706979\n",
            "  0.57282198 0.13961866 0.60313747 0.7039702 ]\n",
            " [0.21369616 0.42331956 0.03641215 1.21915263 0.9261148  0.83534593\n",
            "  0.79067155 0.79802736 0.40456731 0.727757   1.08307191 1.06347537\n",
            "  0.58171436 0.9875238  0.61345715 1.09924569 0.73885872 1.25017552\n",
            "  0.23657399 0.40603222 0.5757405  1.15660366 0.43918357 0.18317345\n",
            "  0.40778724 0.3569699  0.81712142 0.9084789  0.         0.41809451\n",
            "  0.77218077 0.92135118 1.14132624 0.44525085 0.87400921 0.81142444\n",
            "  0.39649004 0.72942221 0.75077659 1.24623748 0.61644959 0.35728906\n",
            "  0.78759382 0.6441478  0.45351639 0.81182731 0.58092488 0.74981572\n",
            "  0.48259346 0.76576766 0.85997501 0.02687866 0.2162498  0.56759237\n",
            "  0.95286878 0.89588907 0.48271556 0.87758695 0.45637536 0.78271429\n",
            "  0.7428384  1.23289065 0.83083271 0.52449979 0.5206976  0.75657346\n",
            "  0.77327356 0.9323493  1.20904975 0.7422705  0.94575837 0.92801068\n",
            "  0.53701766 0.63581953 0.82058266 0.75612244 0.89553868 0.84154724\n",
            "  1.13380536 0.33116252 0.38418841 0.12072433 0.81911012 0.30769132\n",
            "  0.40457979 1.17858943 1.04370784 0.26067244 0.17009722 0.55845026\n",
            "  0.64957637 0.78071746 0.75817011 0.59726126 0.83352948 0.70942449\n",
            "  0.5122807  0.93272689 1.14084214 0.20525731]\n",
            " [0.24850899 0.04921585 0.45057186 0.8256818  0.58061356 0.44523675\n",
            "  0.67988858 0.60822307 0.10372724 0.32176628 0.6790961  0.68490597\n",
            "  0.39240446 0.65334133 0.19552827 0.68678763 0.53081304 0.8418793\n",
            "  0.34106341 0.15263133 0.28115214 0.75779193 0.03995304 0.34045885\n",
            "  0.0697463  0.18481786 0.42589319 0.60619052 0.41809451 0.\n",
            "  0.3736673  0.50981203 0.734534   0.44515133 0.53412698 0.70995337\n",
            "  0.02531615 0.36342056 0.46066007 0.8349072  0.30728551 0.36459217\n",
            "  0.42613129 0.57408438 0.09148    0.43839834 0.29388477 0.53025932\n",
            "  0.25050608 0.35819956 0.5531572  0.40917909 0.24019611 0.16756567\n",
            "  0.62545879 0.478632   0.26520957 0.53208507 0.26401284 0.63974458\n",
            "  0.54613998 0.82061194 0.41887356 0.14977195 0.22777094 0.60987247\n",
            "  0.53085372 0.56099773 0.79763773 0.6303518  0.52796372 0.61317937\n",
            "  0.41419069 0.26418681 0.44087798 0.39286892 0.75744419 0.45545642\n",
            "  0.72231298 0.26097406 0.03778577 0.35574658 0.50037951 0.18941986\n",
            "  0.18283503 0.78566766 0.69874231 0.39287438 0.26571387 0.20867486\n",
            "  0.29035648 0.44853809 0.61320488 0.18643188 0.44398372 0.29182178\n",
            "  0.09517296 0.58152207 0.72310317 0.28553551]\n",
            " [0.56885042 0.35298153 0.80725653 0.65028582 0.25784551 0.38249166\n",
            "  0.91147658 0.79266419 0.44767983 0.27871314 0.48888415 0.57646389\n",
            "  0.6422031  0.647443   0.22217948 0.45189397 0.71911939 0.60982835\n",
            "  0.71259179 0.37705167 0.49165516 0.57427499 0.3730269  0.71412531\n",
            "  0.36519988 0.43457165 0.3694666  0.66419968 0.77218077 0.3736673\n",
            "  0.         0.3234185  0.52255257 0.77811429 0.23169137 0.94290522\n",
            "  0.38836294 0.1069161  0.58439062 0.58859939 0.48394886 0.71599434\n",
            "  0.12680486 0.85047189 0.31881362 0.10432867 0.2726629  0.70800065\n",
            "  0.53567416 0.04504745 0.62043757 0.76840735 0.56351695 0.20779722\n",
            "  0.63863847 0.18417855 0.3664583  0.54160591 0.56795032 0.85557091\n",
            "  0.74027323 0.57040899 0.09242669 0.37032206 0.4765963  0.82911099\n",
            "  0.68546534 0.20479559 0.5546375  0.870215   0.26752396 0.65027168\n",
            "  0.69976594 0.37365281 0.09173571 0.11374794 0.95591713 0.09106797\n",
            "  0.48806567 0.61792849 0.39871998 0.72654244 0.24742696 0.55735105\n",
            "  0.3905539  0.61761935 0.66212782 0.76251354 0.60450198 0.22569402\n",
            "  0.15221783 0.51556275 0.83303328 0.27495496 0.07586634 0.14669357\n",
            "  0.28366209 0.56337397 0.43336681 0.65919284]\n",
            " [0.75598971 0.52140195 0.95122354 0.33743894 0.53458826 0.14435946\n",
            "  0.75639637 0.61344035 0.52188676 0.1948765  0.17767322 0.25492206\n",
            "  0.55480764 0.35933961 0.31989274 0.17790354 0.55703939 0.33250602\n",
            "  0.77989679 0.59846334 0.42769057 0.26277881 0.48330869 0.80325571\n",
            "  0.54498658 0.65464714 0.1497484  0.41306853 0.92135118 0.50981203\n",
            "  0.3234185  0.         0.22700971 0.75508543 0.52897863 0.7853928\n",
            "  0.53409717 0.42910618 0.40497321 0.32532001 0.39516001 0.73153478\n",
            "  0.44493067 0.74785006 0.51256506 0.41237641 0.56861783 0.5393749\n",
            "  0.51741496 0.28405147 0.38553101 0.90877142 0.7481382  0.40975941\n",
            "  0.36295715 0.16317972 0.63917256 0.28565536 0.55646541 0.69362015\n",
            "  0.57880875 0.31157715 0.23833331 0.40220974 0.45350209 0.67409583\n",
            "  0.50276604 0.45193678 0.28805894 0.72820585 0.09924756 0.38772133\n",
            "  0.6336811  0.31058935 0.39250293 0.43685628 0.76686107 0.3715598\n",
            "  0.21271198 0.66027915 0.54691207 0.83869027 0.56294696 0.63410368\n",
            "  0.62316718 0.30124334 0.35744315 0.81619836 0.77551377 0.48496979\n",
            "  0.45088292 0.31574615 0.67794956 0.32476503 0.35704092 0.24926534\n",
            "  0.4237176  0.28250561 0.24161887 0.75149993]\n",
            " [0.98182457 0.74793134 1.16998378 0.13656684 0.68333581 0.31520986\n",
            "  0.85716282 0.70842488 0.73806607 0.41432418 0.06196082 0.19203949\n",
            "  0.71533623 0.36944257 0.5466976  0.07596331 0.67184408 0.10934528\n",
            "  0.98492437 0.82522718 0.61309549 0.06924668 0.7062041  1.01316367\n",
            "  0.77174117 0.88158933 0.33103912 0.46725269 1.14132624 0.734534\n",
            "  0.52255257 0.22700971 0.         0.93042516 0.69208585 0.88221124\n",
            "  0.75914392 0.62910176 0.53066889 0.11476713 0.57485542 0.92262413\n",
            "  0.63083859 0.8839845  0.73956927 0.59343167 0.78453387 0.65155216\n",
            "  0.71018804 0.49018208 0.46525102 1.12740172 0.97384595 0.63563905\n",
            "  0.39429215 0.33938772 0.86146074 0.37035817 0.74847596 0.79432643\n",
            "  0.69146676 0.10918474 0.43044358 0.61758198 0.65045997 0.78171478\n",
            "  0.60908623 0.59526098 0.08312967 0.84055304 0.25508095 0.43253861\n",
            "  0.79761207 0.51337624 0.57207177 0.63055428 0.83937734 0.54586609\n",
            "  0.05111267 0.86288379 0.77194167 1.05297633 0.73987054 0.84626428\n",
            "  0.84958364 0.11725275 0.32964267 1.01626302 0.99984423 0.70719418\n",
            "  0.66392087 0.44669621 0.78517055 0.5483514  0.53477525 0.4738991\n",
            "  0.65021283 0.33200675 0.17470589 0.96345294]\n",
            " [0.49163513 0.49011675 0.44675507 0.96364846 1.01414212 0.62253914\n",
            "  0.34654991 0.37932312 0.34507377 0.58042102 0.86853033 0.79212159\n",
            "  0.22043227 0.6609836  0.55707759 0.91593133 0.3403267  1.03586756\n",
            "  0.21276195 0.56629934 0.32767757 0.91987072 0.42505715 0.26597089\n",
            "  0.49970739 0.56124713 0.61068472 0.55835959 0.44525085 0.44515133\n",
            "  0.77811429 0.75508543 0.93042516 0.         0.97111791 0.36632533\n",
            "  0.44697538 0.79662848 0.42051876 1.04504041 0.36053326 0.09908118\n",
            "  0.85832358 0.19906074 0.5352647  0.86289789 0.73639315 0.35737608\n",
            "  0.24839611 0.74798583 0.52251796 0.41857926 0.4846673  0.59578995\n",
            "  0.62306855 0.81183086 0.68601455 0.58251995 0.21218167 0.34568535\n",
            "  0.33595421 1.03727874 0.78902109 0.40900672 0.3132628  0.32262794\n",
            "  0.39369823 0.9805963  1.01105351 0.29962436 0.82232274 0.58788526\n",
            "  0.1404496  0.45190653 0.8604444  0.82583801 0.4530672  0.86814431\n",
            "  0.9425548  0.1928743  0.44479767 0.32727156 0.94324893 0.27327448\n",
            "  0.5889168  0.92518494 0.72371758 0.18617347 0.45568256 0.65340452\n",
            "  0.73017375 0.49003117 0.32347766 0.50803489 0.85378761 0.64981385\n",
            "  0.50830775 0.63589084 0.99667727 0.27108073]\n",
            " [0.66033657 0.49749739 0.91041129 0.82750384 0.05270216 0.60974356\n",
            "  1.13584764 1.02156068 0.62742865 0.51038448 0.67265992 0.78309417\n",
            "  0.85910956 0.87228018 0.43503551 0.61642986 0.9468712  0.75923031\n",
            "  0.87009493 0.4712478  0.71041761 0.7533714  0.54751932 0.85967237\n",
            "  0.49861911 0.51706424 0.59802773 0.89473923 0.87400921 0.53412698\n",
            "  0.23169137 0.52897863 0.69208585 0.97111791 0.         1.16734035\n",
            "  0.54011128 0.17490775 0.81519678 0.73033659 0.70750196 0.897258\n",
            "  0.11552326 1.06501794 0.45347511 0.1273642  0.29427864 0.93662742\n",
            "  0.74041014 0.27630184 0.85172568 0.87699129 0.65787219 0.37532882\n",
            "  0.86597871 0.36805899 0.39849626 0.77064738 0.7683817  1.08165906\n",
            "  0.96767599 0.71115994 0.29422949 0.57612269 0.68701225 1.05446872\n",
            "  0.9156028  0.11008315 0.70203658 1.0928155  0.44927823 0.879606\n",
            "  0.90938445 0.59942119 0.14244152 0.14624169 1.18472015 0.15821207\n",
            "  0.64850385 0.79437138 0.54688389 0.85735223 0.07069779 0.7231657\n",
            "  0.46954406 0.8003729  0.8816471  0.92368863 0.70507027 0.33108472\n",
            "  0.24382334 0.74725398 1.05835164 0.49024566 0.17381832 0.37648555\n",
            "  0.46284634 0.7889226  0.55926261 0.80729699]\n",
            " [0.83304746 0.75916498 0.81289662 0.86161627 1.19988773 0.64212015\n",
            "  0.03149387 0.17468626 0.60916522 0.67756194 0.82680487 0.70025228\n",
            "  0.31932325 0.52552011 0.73346834 0.89828654 0.23060074 0.96925645\n",
            "  0.57687953 0.85703469 0.45936901 0.8454378  0.67622342 0.63060768\n",
            "  0.77746548 0.86961296 0.64084849 0.41766142 0.81142444 0.70995337\n",
            "  0.94290522 0.7853928  0.88221124 0.36632533 1.16734035 0.\n",
            "  0.72238727 0.99778559 0.38164576 0.99083655 0.45987346 0.45711803\n",
            "  1.0523022  0.16728613 0.79861625 1.04367668 0.99563532 0.24670861\n",
            "  0.45947594 0.902196   0.41774022 0.78480984 0.82498817 0.81476814\n",
            "  0.49360598 0.90288023 0.97439643 0.51719843 0.44949645 0.09182315\n",
            "  0.20856784 0.98974018 0.91759677 0.60378119 0.4941774  0.11455981\n",
            "  0.28282698 1.14381057 0.9645216  0.0796954  0.87782271 0.4534301\n",
            "  0.304513   0.56927362 1.03424113 1.02397172 0.09926011 1.03188477\n",
            "  0.91271887 0.52063672 0.72558281 0.69262734 1.15907364 0.59171211\n",
            "  0.88490478 0.83114884 0.58229073 0.55226775 0.8043301  0.89612812\n",
            "  0.95051353 0.46988971 0.11059702 0.67830179 1.01542823 0.79668771\n",
            "  0.73426976 0.55025774 1.00451633 0.62773959]\n",
            " [0.22341683 0.0436206  0.42947967 0.85084925 0.58763782 0.47054738\n",
            "  0.69263108 0.62510324 0.11330384 0.34675598 0.70391788 0.71021646\n",
            "  0.40645238 0.67766988 0.21827069 0.71083247 0.5481122  0.86632261\n",
            "  0.33114261 0.1357057  0.30092778 0.78282068 0.06316793 0.32694012\n",
            "  0.05534357 0.16281875 0.45120105 0.6291256  0.39649004 0.02531615\n",
            "  0.38836294 0.53409717 0.75914392 0.44697538 0.54011128 0.72238727\n",
            "  0.         0.37174153 0.48227091 0.85903748 0.32858838 0.36295191\n",
            "  0.43432659 0.58313131 0.08908841 0.44862338 0.28950079 0.54826007\n",
            "  0.26379403 0.37515102 0.57611387 0.38845297 0.21516423 0.1807836\n",
            "  0.64949374 0.49946707 0.2520694  0.55658504 0.27412875 0.65408087\n",
            "  0.5628879  0.84462329 0.43732449 0.17363627 0.24603073 0.62416121\n",
            "  0.55023007 0.5715837  0.82177233 0.64270185 0.55052456 0.63668423\n",
            "  0.4238687  0.28889063 0.45219741 0.40104069 0.7723653  0.46801042\n",
            "  0.74647044 0.25905292 0.0128151  0.33861929 0.50342314 0.18380078\n",
            "  0.16507769 0.81085693 0.7234655  0.38404051 0.2416865  0.21103936\n",
            "  0.29649395 0.47226159 0.62741912 0.21132045 0.457135   0.31293523\n",
            "  0.11579792 0.60628474 0.74564394 0.27246578]\n",
            " [0.51851927 0.33050169 0.7654584  0.75719896 0.21804505 0.47685003\n",
            "  0.96630769 0.85710952 0.45378468 0.36037418 0.59579392 0.68064881\n",
            "  0.68652128 0.74231101 0.26435802 0.55785967 0.7810677  0.71478659\n",
            "  0.70288411 0.32380934 0.53912009 0.68118896 0.37418699 0.69635344\n",
            "  0.33529213 0.37698301 0.46214468 0.75010759 0.72942221 0.36342056\n",
            "  0.1069161  0.42910618 0.62910176 0.79662848 0.17490775 0.99778559\n",
            "  0.37174153 0.         0.65597389 0.69245873 0.53895201 0.72427821\n",
            "  0.06271105 0.89137787 0.28857199 0.08267695 0.18151124 0.77206725\n",
            "  0.56574431 0.14540466 0.70368042 0.72917989 0.5145661  0.20102886\n",
            "  0.73075526 0.29005414 0.28455151 0.63173122 0.59348492 0.91364736\n",
            "  0.80137318 0.67403235 0.19865852 0.40200494 0.51325468 0.88588111\n",
            "  0.75396043 0.20358871 0.65911627 0.92221239 0.374021   0.73914331\n",
            "  0.73503294 0.43374983 0.09461133 0.02948448 1.01967431 0.12082023\n",
            "  0.59377981 0.6219964  0.37965962 0.69962099 0.16279944 0.55283041\n",
            "  0.32989255 0.72449461 0.76091142 0.75561914 0.55936305 0.17145712\n",
            "  0.07987622 0.59510874 0.88972131 0.3194852  0.1194109  0.22304178\n",
            "  0.28834204 0.65802802 0.53319855 0.64275616]\n",
            " [0.6714229  0.50386507 0.7690723  0.54652048 0.84160277 0.26097467\n",
            "  0.35206053 0.21417268 0.38968133 0.30761861 0.47056114 0.37447154\n",
            "  0.20050497 0.24491614 0.39993373 0.5325921  0.15208985 0.63014343\n",
            "  0.53793515 0.61069581 0.18642544 0.50933719 0.42074123 0.58179841\n",
            "  0.52859441 0.64506309 0.25920534 0.15791425 0.75077659 0.46066007\n",
            "  0.58439062 0.40497321 0.53066889 0.42051876 0.81519678 0.38164576\n",
            "  0.48227091 0.65597389 0.         0.64462132 0.15380779 0.44188501\n",
            "  0.7034574  0.35383021 0.52989252 0.68828265 0.69909804 0.13494414\n",
            "  0.26883395 0.54092699 0.10980745 0.72915705 0.66226809 0.50199306\n",
            "  0.20775167 0.52319248 0.71097005 0.16495674 0.29494625 0.28986462\n",
            "  0.17392688 0.63980506 0.54601963 0.31504642 0.24555531 0.26926739\n",
            "  0.10292459 0.77761129 0.61361953 0.32340084 0.49624297 0.17826317\n",
            "  0.2805888  0.22769408 0.67588105 0.67889138 0.3754883  0.66917531\n",
            "  0.5525365  0.42240736 0.49110915 0.6374215  0.8185131  0.4484627\n",
            "  0.64135902 0.50923705 0.3062886  0.55087691 0.66423704 0.59391556\n",
            "  0.62494664 0.08963411 0.27314414 0.34962798 0.65243307 0.43872255\n",
            "  0.44039854 0.21617484 0.63190865 0.54654018]\n",
            " [1.08012008 0.84474864 1.2757226  0.16748431 0.71363857 0.4277447\n",
            "  0.96654959 0.81795385 0.84487859 0.51859787 0.17653031 0.29235006\n",
            "  0.83010231 0.47107625 0.64307683 0.14840423 0.78410911 0.03803447\n",
            "  1.09596707 0.91594504 0.72658398 0.14769297 0.80861314 1.12282708\n",
            "  0.8676382  0.97336827 0.44280765 0.57384455 1.24623748 0.8349072\n",
            "  0.58859939 0.32532001 0.11476713 1.04504041 0.73033659 0.99083655\n",
            "  0.85903748 0.69245873 0.64462132 0.         0.68873765 1.03606729\n",
            "  0.68481826 0.99746445 0.83277748 0.64568893 0.85836505 0.76366657\n",
            "  0.82306194 0.56200391 0.57563627 1.23320518 1.07241315 0.72445466\n",
            "  0.49908887 0.40538573 0.94220641 0.48302469 0.86153551 0.90407592\n",
            "  0.80338534 0.01919141 0.49665841 0.72452075 0.762531   0.89249836\n",
            "  0.720874   0.6261779  0.03727063 0.95165202 0.32694826 0.53846516\n",
            "  0.91237908 0.62374178 0.62426246 0.68957349 0.9439009  0.59614549\n",
            "  0.11261714 0.97433127 0.87185064 1.16100492 0.78516318 0.95493379\n",
            "  0.93871349 0.17683052 0.42441861 1.12843642 1.10061648 0.78913442\n",
            "  0.73670373 0.56125809 0.89588207 0.65007963 0.58750683 0.56227911\n",
            "  0.74736391 0.44201102 0.17216851 1.07234452]\n",
            " [0.52068852 0.35139801 0.63817384 0.62367284 0.74025494 0.26274062\n",
            "  0.42838511 0.32168306 0.23761846 0.23360583 0.51294199 0.45760643\n",
            "  0.16691303 0.37221466 0.27478437 0.55612417 0.24403976 0.68233786\n",
            "  0.42221377 0.45822378 0.04139032 0.57152739 0.26744558 0.45917215\n",
            "  0.37572888 0.4914056  0.25027008 0.30552828 0.61644959 0.30728551\n",
            "  0.48394886 0.39516001 0.57485542 0.36053326 0.70750196 0.45987346\n",
            "  0.32858838 0.53895201 0.15380779 0.68873765 0.         0.34824937\n",
            "  0.59257862 0.37360168 0.37966228 0.58393635 0.55814274 0.23761536\n",
            "  0.14063782 0.44436871 0.25331267 0.59679555 0.51153379 0.36532042\n",
            "  0.33888364 0.46918186 0.56164547 0.26154634 0.17661274 0.37470404\n",
            "  0.26350502 0.6799218  0.46676137 0.16472618 0.09697918 0.34710672\n",
            "  0.22890164 0.68661044 0.65385987 0.38629213 0.46756637 0.31847187\n",
            "  0.24064906 0.11127844 0.57492087 0.56463888 0.48237774 0.57375443\n",
            "  0.58375852 0.30024255 0.33732407 0.5093669  0.70106393 0.30911316\n",
            "  0.48882997 0.58366918 0.42732023 0.44656371 0.51654849 0.45390183\n",
            "  0.49654373 0.16426794 0.35097086 0.22008446 0.55749346 0.33869225\n",
            "  0.29491425 0.31706306 0.636548   0.4169991 ]\n",
            " [0.39259391 0.40656039 0.36326878 0.96951457 0.94231429 0.60856506\n",
            "  0.43485503 0.44536674 0.27084307 0.54611888 0.86079118 0.8005834\n",
            "  0.24712149 0.6867832  0.4995341  0.90022723 0.39341854 1.03045009\n",
            "  0.12077914 0.47519688 0.30953088 0.91945939 0.35009444 0.17448792\n",
            "  0.41333483 0.4663355  0.59439051 0.59187297 0.35728906 0.36459217\n",
            "  0.71599434 0.73153478 0.92262413 0.09908118 0.897258   0.45711803\n",
            "  0.36295191 0.72427821 0.44188501 1.03606729 0.34824937 0.\n",
            "  0.78671216 0.29078629 0.45203082 0.79463671 0.65036148 0.4073291\n",
            "  0.21429308 0.68963216 0.54993266 0.33120705 0.38567392 0.5236184\n",
            "  0.64946772 0.7692599  0.59399646 0.59484546 0.17530935 0.4254777\n",
            "  0.39398045 1.02667263 0.73665495 0.35559086 0.27817332 0.399622\n",
            "  0.43754342 0.91489493 1.00076556 0.38570366 0.78932501 0.6177742\n",
            "  0.18534993 0.42135387 0.79406524 0.75372725 0.53861419 0.80427618\n",
            "  0.92943986 0.10390244 0.35918383 0.23698941 0.86496991 0.18212819\n",
            "  0.49630777 0.92991384 0.74804228 0.1119851  0.35672991 0.57297579\n",
            "  0.65408714 0.49788057 0.4011236  0.45528929 0.79077359 0.59698821\n",
            "  0.43744423 0.6501337  0.97200685 0.17294683]\n",
            " [0.57552084 0.3928993  0.82377021 0.76269106 0.15584953 0.50923759\n",
            "  1.02080836 0.90802905 0.51608592 0.40157447 0.60301474 0.69949223\n",
            "  0.74358721 0.77424785 0.3195787  0.55720975 0.83285051 0.70979785\n",
            "  0.76545906 0.38156177 0.59497899 0.68703487 0.43662473 0.75845965\n",
            "  0.39708538 0.43288449 0.49601552 0.78951117 0.78759382 0.42613129\n",
            "  0.12680486 0.44493067 0.63083859 0.85832358 0.11552326 1.0523022\n",
            "  0.43432659 0.06271105 0.7034574  0.68481826 0.59257862 0.78671216\n",
            "  0.         0.94955991 0.35057363 0.0398804  0.22447172 0.82301552\n",
            "  0.6255158  0.17156676 0.74483054 0.78814542 0.57196204 0.26320591\n",
            "  0.76527156 0.29320165 0.33081375 0.66786999 0.65404111 0.96701081\n",
            "  0.85350492 0.66597831 0.20690281 0.46088167 0.57161608 0.9396555\n",
            "  0.80302848 0.14506318 0.65316217 0.97754062 0.37791192 0.77634785\n",
            "  0.79418701 0.48517814 0.06086462 0.0332906  1.07104385 0.08990095\n",
            "  0.59191657 0.68456477 0.44212609 0.76075356 0.12062594 0.61554144\n",
            "  0.38534521 0.73211281 0.78846136 0.81826507 0.61751323 0.23163579\n",
            "  0.14015672 0.63833227 0.94352793 0.37480746 0.0973139  0.26540163\n",
            "  0.35024324 0.69017412 0.51969115 0.70501415]\n",
            " [0.673236   0.62286009 0.64574178 0.88923127 1.10223742 0.60442242\n",
            "  0.14829709 0.21979344 0.47064685 0.60638349 0.82423353 0.71895395\n",
            "  0.20867764 0.56053282 0.63134009 0.88585078 0.21831949 0.98148789\n",
            "  0.40994543 0.71456386 0.35932302 0.85914277 0.54422824 0.46361099\n",
            "  0.63843179 0.72109613 0.59816068 0.4496688  0.6441478  0.57408438\n",
            "  0.85047189 0.74785006 0.8839845  0.19906074 1.06501794 0.16728613\n",
            "  0.58313131 0.89137787 0.35383021 0.99746445 0.37360168 0.29078629\n",
            "  0.94955991 0.         0.66507687 0.94623631 0.86637046 0.23915165\n",
            "  0.32957247 0.81337371 0.42960297 0.61752614 0.66548624 0.69810453\n",
            "  0.52384674 0.84107028 0.83398532 0.51476683 0.31019619 0.15973181\n",
            "  0.20281685 0.99316808 0.83988403 0.48948966 0.37812392 0.14484539\n",
            "  0.28262432 1.05497619 0.96704478 0.10486576 0.83123186 0.48419508\n",
            "  0.16016942 0.4840094  0.93955362 0.9191568  0.2560886  0.94134542\n",
            "  0.90634009 0.36116649 0.58455607 0.52550166 1.04864767 0.43622113\n",
            "  0.74088007 0.85419374 0.62275449 0.3851079  0.64212588 0.77186802\n",
            "  0.83575774 0.4411116  0.14408218 0.57670436 0.9255166  0.70842787\n",
            "  0.61302572 0.56009105 0.98219399 0.46261413]\n",
            " [0.25543098 0.04547101 0.48847518 0.8418726  0.50194791 0.47303815\n",
            "  0.76827298 0.69063086 0.19516121 0.34033885 0.68813752 0.71351654\n",
            "  0.47991533 0.70323748 0.1944021  0.68463214 0.61261629 0.84378208\n",
            "  0.41662098 0.08964357 0.35891981 0.77055425 0.12239499 0.40788966\n",
            "  0.04715328 0.14255083 0.45364894 0.66749215 0.45351639 0.09148\n",
            "  0.31881362 0.51256506 0.73956927 0.5352647  0.45347511 0.79861625\n",
            "  0.08908841 0.28857199 0.52989252 0.83277748 0.37966228 0.45203082\n",
            "  0.35057363 0.66507687 0.         0.36801081 0.20242416 0.61051226\n",
            "  0.33943349 0.3132079  0.61470825 0.44962731 0.249065   0.11573362\n",
            "  0.6784592  0.45226919 0.18215224 0.58108916 0.35488523 0.72629914\n",
            "  0.62899763 0.81715503 0.37994715 0.21517417 0.31002615 0.69654153\n",
            "  0.6075115  0.4909693  0.79577572 0.71917398 0.51323466 0.67060786\n",
            "  0.50503351 0.31592747 0.37363669 0.31744531 0.84298532 0.39196487\n",
            "  0.72123326 0.34812929 0.09404501 0.41220134 0.41486606 0.27252124\n",
            "  0.11866423 0.80284318 0.74345694 0.47031712 0.28712182 0.12283102\n",
            "  0.2110289  0.5058612  0.69996631 0.21073442 0.38259039 0.27204431\n",
            "  0.09860541 0.62657313 0.70634515 0.35460426]\n",
            " [0.60116503 0.40855528 0.84781581 0.72603107 0.15643111 0.48421984\n",
            "  1.01220392 0.8956202  0.52385323 0.38303456 0.56705669 0.66728532\n",
            "  0.73890948 0.74806674 0.31491067 0.51939111 0.82147712 0.67102749\n",
            "  0.77924472 0.40641162 0.58907544 0.65056036 0.44545877 0.77481162\n",
            "  0.41504355 0.45964267 0.47193997 0.76788178 0.81182731 0.43839834\n",
            "  0.10432867 0.41237641 0.59343167 0.86289789 0.1273642  1.04367668\n",
            "  0.44862338 0.08267695 0.68828265 0.64568893 0.58393635 0.79463671\n",
            "  0.0398804  0.94623631 0.36801081 0.         0.2584363  0.81080077\n",
            "  0.62573573 0.14899217 0.72452755 0.81130071 0.59716909 0.27209371\n",
            "  0.7405933  0.25735734 0.36378414 0.64444366 0.65586594 0.95713513\n",
            "  0.84246054 0.62680787 0.17414794 0.46014377 0.56947671 0.93029856\n",
            "  0.78902912 0.12306222 0.61428706 0.97003805 0.34171882 0.75330063\n",
            "  0.79281248 0.47470041 0.02147274 0.05919154 1.05885454 0.05006288\n",
            "  0.553803   0.69363514 0.45724124 0.78000449 0.15058238 0.62715721\n",
            "  0.41250431 0.69605967 0.759948   0.83127197 0.64180986 0.25349513\n",
            "  0.16230019 0.6198902  0.93420267 0.36960141 0.05870358 0.24978218\n",
            "  0.35720421 0.66431794 0.48005754 0.7207695 ]\n",
            " [0.36732833 0.24676592 0.61733407 0.90539108 0.34683191 0.57909846\n",
            "  0.96488092 0.87772803 0.39747122 0.44642595 0.74400941 0.80650065\n",
            "  0.67631534 0.83550371 0.30725446 0.71749625 0.79945925 0.87755421\n",
            "  0.60152231 0.1859656  0.54474479 0.82994184 0.32215448 0.58310175\n",
            "  0.23711342 0.22494352 0.56133947 0.8203755  0.58092488 0.29388477\n",
            "  0.2726629  0.56861783 0.78453387 0.73639315 0.29427864 0.99563532\n",
            "  0.28950079 0.18151124 0.69909804 0.85836505 0.55814274 0.65036148\n",
            "  0.22447172 0.86637046 0.20242416 0.2584363  0.         0.79497777\n",
            "  0.53857812 0.29640628 0.76944228 0.58509812 0.3654061  0.19821777\n",
            "  0.81691172 0.45309337 0.10674611 0.71632261 0.55631558 0.91996424\n",
            "  0.81732593 0.84053631 0.36256892 0.39666861 0.5022894  0.8905217\n",
            "  0.78643858 0.36632425 0.82352753 0.91664569 0.53276009 0.81687581\n",
            "  0.7062051  0.47257023 0.27419453 0.19936449 1.03446068 0.30176026\n",
            "  0.75431035 0.5468386  0.29174356 0.5729866  0.23842448 0.46864003\n",
            "  0.17832159 0.8698144  0.86519536 0.65639424 0.41324126 0.10521943\n",
            "  0.12167626 0.65778962 0.89408294 0.35125085 0.30091544 0.32572871\n",
            "  0.26424391 0.75313501 0.70596007 0.5339684 ]\n",
            " [0.70854656 0.57759208 0.76224114 0.65047641 0.96584617 0.3956872\n",
            "  0.2171659  0.08505069 0.4418625  0.43584064 0.59333263 0.4809492\n",
            "  0.16846693 0.32192188 0.50965255 0.6601613  0.02085192 0.74588765\n",
            "  0.51988938 0.6828633  0.25176541 0.62274504 0.49191547 0.56996759\n",
            "  0.6000022  0.70835418 0.39414924 0.21179452 0.74981572 0.53025932\n",
            "  0.70800065 0.5393749  0.65155216 0.35737608 0.93662742 0.24670861\n",
            "  0.54826007 0.77206725 0.13494414 0.76366657 0.23761536 0.4073291\n",
            "  0.82301552 0.23915165 0.61051226 0.81080077 0.79497777 0.\n",
            "  0.29577255 0.66569855 0.19090238 0.72565211 0.6996005  0.60293399\n",
            "  0.28493605 0.65706476 0.79237191 0.28128205 0.30616759 0.15495498\n",
            "  0.0402265  0.76051247 0.67585616 0.39895296 0.3024967  0.13482935\n",
            "  0.04354367 0.90531024 0.73464537 0.19093132 0.63117257 0.24562609\n",
            "  0.22338623 0.33832407 0.79973513 0.79661137 0.24809323 0.79503968\n",
            "  0.67758782 0.42067994 0.5547616  0.63054448 0.93479113 0.46853289\n",
            "  0.7128984  0.61591975 0.38451165 0.51920676 0.69224824 0.69115304\n",
            "  0.733309   0.22363028 0.13865071 0.45592838 0.77838818 0.5613379\n",
            "  0.53097337 0.32300196 0.76288182 0.54583159]\n",
            " [0.41369726 0.2997083  0.50218583 0.76380756 0.78014465 0.3953173\n",
            "  0.42938286 0.36647306 0.15148146 0.33473223 0.64854521 0.59823946\n",
            "  0.14281501 0.50575435 0.31349545 0.68611456 0.29201204 0.8185832\n",
            "  0.28158481 0.39927421 0.09953518 0.71020896 0.21716931 0.31950469\n",
            "  0.31850155 0.41769091 0.38064908 0.42674812 0.48259346 0.25050608\n",
            "  0.53567416 0.51741496 0.71018804 0.24839611 0.74041014 0.45947594\n",
            "  0.26379403 0.56574431 0.26883395 0.82306194 0.14063782 0.21429308\n",
            "  0.6255158  0.32957247 0.33943349 0.62573573 0.53857812 0.29577255\n",
            "  0.         0.50308951 0.37753462 0.46159497 0.40467591 0.36940493\n",
            "  0.47060289 0.56382768 0.51533431 0.40020944 0.03905096 0.39041498\n",
            "  0.3043241  0.81327767 0.54137219 0.16572926 0.06547595 0.36048385\n",
            "  0.30722038 0.73993127 0.78747895 0.37991266 0.57790483 0.44545057\n",
            "  0.17028788 0.20791045 0.62124643 0.59416918 0.50906475 0.62651787\n",
            "  0.71566089 0.15987775 0.26796533 0.37168938 0.72059227 0.18024718\n",
            "  0.42801205 0.72368404 0.56331161 0.30704201 0.40057374 0.44247987\n",
            "  0.50705593 0.30207433 0.36370719 0.26202827 0.61153779 0.40274636\n",
            "  0.28361343 0.4559806  0.75823672 0.279732  ]\n",
            " [0.56736721 0.34306425 0.80023353 0.6151924  0.30069247 0.33767894\n",
            "  0.87081775 0.75017396 0.42444324 0.23443999 0.45342345 0.53528163\n",
            "  0.60477469 0.60281359 0.19101124 0.42160959 0.67722254 0.5812738\n",
            "  0.69287442 0.37980661 0.45408053 0.53923411 0.35303176 0.6975515\n",
            "  0.3580755  0.43818574 0.32450386 0.61918439 0.76576766 0.35819956\n",
            "  0.04504745 0.28405147 0.49018208 0.74798583 0.27630184 0.902196\n",
            "  0.37515102 0.14540466 0.54092699 0.56200391 0.44436871 0.68963216\n",
            "  0.17156676 0.81337371 0.3132079  0.14899217 0.29640628 0.66569855\n",
            "  0.50308951 0.         0.57555798 0.76045761 0.56145833 0.19818541\n",
            "  0.59372411 0.15706056 0.38322621 0.49657841 0.53661164 0.81427869\n",
            "  0.69851602 0.54424573 0.06966708 0.33901751 0.44237869 0.78813833\n",
            "  0.64237788 0.24225607 0.52712187 0.8302644  0.23664757 0.6052289\n",
            "  0.66470382 0.33345736 0.13510027 0.15639329 0.91339312 0.12969441\n",
            "  0.45828313 0.59368659 0.38628434 0.7136046  0.29211942 0.536836\n",
            "  0.39641349 0.58148124 0.61830025 0.74144752 0.60032865 0.23470861\n",
            "  0.17481463 0.47107645 0.79207279 0.24109815 0.11324608 0.10568907\n",
            "  0.26491206 0.51868775 0.41303525 0.642458  ]\n",
            " [0.77399568 0.59331437 0.87863511 0.45965725 0.87229787 0.25339752\n",
            "  0.39207436 0.24337965 0.49082097 0.34363074 0.40912429 0.29016797\n",
            "  0.30525255 0.13846812 0.46304349 0.48114159 0.21173023 0.5564235\n",
            "  0.64762914 0.6992937  0.29020567 0.43286928 0.51333425 0.69160432\n",
            "  0.6188699  0.73787516 0.25983278 0.0530381  0.85997501 0.5531572\n",
            "  0.62043757 0.38553101 0.46525102 0.52251796 0.85172568 0.41774022\n",
            "  0.57611387 0.70368042 0.10980745 0.57563627 0.25331267 0.54993266\n",
            "  0.74483054 0.42960297 0.61470825 0.72452755 0.76944228 0.19090238\n",
            "  0.37753462 0.57555798 0.         0.83856766 0.7648416  0.57130965\n",
            "  0.10057044 0.52718266 0.79254175 0.10197936 0.40458253 0.32911178\n",
            "  0.22950144 0.57350732 0.5673824  0.40399712 0.34909938 0.31686414\n",
            "  0.14738426 0.80101117 0.54797616 0.3760971  0.48357117 0.06846226\n",
            "  0.38209461 0.30029374 0.70966179 0.72368915 0.38476843 0.69868074\n",
            "  0.49497934 0.53215656 0.58588279 0.74709863 0.86360141 0.55630027\n",
            "  0.72990817 0.42502801 0.20126129 0.65968154 0.76922996 0.6647226\n",
            "  0.68355516 0.11166513 0.32024622 0.41881338 0.68202131 0.48090373\n",
            "  0.52034396 0.13362611 0.58955297 0.65604865]\n",
            " [0.21825654 0.41742472 0.04259269 1.20307971 0.92883945 0.81974872\n",
            "  0.76418233 0.7728794  0.38958049 0.71461058 1.06872308 1.04606695\n",
            "  0.55778507 0.96709239 0.60388991 1.08665831 0.71441827 1.23643238\n",
            "  0.21062358 0.40699683 0.55587357 1.14134107 0.42823151 0.15751119\n",
            "  0.40327298 0.36029687 0.8017138  0.88667057 0.02687866 0.40917909\n",
            "  0.76840735 0.90877142 1.12740172 0.41857926 0.87699129 0.78480984\n",
            "  0.38845297 0.72917989 0.72915705 1.23320518 0.59679555 0.33120705\n",
            "  0.78814542 0.61752614 0.44962731 0.81130071 0.58509812 0.72565211\n",
            "  0.46159497 0.76045761 0.83856766 0.         0.21971576 0.5625226\n",
            "  0.93216464 0.88774035 0.48907994 0.85822066 0.43437563 0.75668298\n",
            "  0.7180756  1.2201245  0.82466456 0.50993967 0.5016118  0.73067723\n",
            "  0.74971163 0.93253366 1.19607222 0.71588828 0.93569697 0.90673292\n",
            "  0.51174005 0.61970721 0.81940571 0.75631525 0.86921102 0.83969539\n",
            "  1.12092391 0.3082451  0.37641723 0.09540892 0.82351763 0.28899535\n",
            "  0.40756829 1.1625075  1.02377402 0.23382977 0.17197092 0.5578168\n",
            "  0.64930893 0.76100872 0.73223902 0.58553562 0.83121028 0.70098336\n",
            "  0.50397894 0.91352915 1.13061073 0.18273337]\n",
            " [0.00915788 0.22842291 0.25261977 1.0657837  0.70991715 0.68430174\n",
            "  0.79869165 0.76546151 0.27418406 0.56191928 0.91897632 0.92272895\n",
            "  0.53711753 0.8775927  0.42948858 0.92403774 0.69425477 1.08060859\n",
            "  0.29046065 0.19075859 0.47592398 0.99797617 0.27276575 0.25236578\n",
            "  0.20745991 0.14081833 0.66506415 0.81699809 0.2162498  0.24019611\n",
            "  0.56351695 0.7481382  0.97384595 0.4846673  0.65787219 0.82498817\n",
            "  0.21516423 0.5145661  0.66226809 1.07241315 0.51153379 0.38567392\n",
            "  0.57196204 0.66548624 0.249065   0.59716909 0.3654061  0.6996005\n",
            "  0.40467591 0.56145833 0.7648416  0.21971576 0.         0.36478243\n",
            "  0.84681155 0.70074166 0.27050116 0.75894422 0.39467445 0.77391603\n",
            "  0.70438137 1.05761889 0.6288208  0.378075   0.41674992 0.74473854\n",
            "  0.71175764 0.71689988 1.03518271 0.74762572 0.75866445 0.8293529\n",
            "  0.52260199 0.49567809 0.60673236 0.54080423 0.89320506 0.62867832\n",
            "  0.95999787 0.30463765 0.20245841 0.2217421  0.60381512 0.23563247\n",
            "  0.18835594 1.0257155  0.92724063 0.34182101 0.0484451  0.34454472\n",
            "  0.43489594 0.66867042 0.74730078 0.42647394 0.62149214 0.51777266\n",
            "  0.32515779 0.81099719 0.95300454 0.2202006 ]\n",
            " [0.37107907 0.14554255 0.60212214 0.74462176 0.41898526 0.39216095\n",
            "  0.78352422 0.68685506 0.25289247 0.25708427 0.58719056 0.62796482\n",
            "  0.49774817 0.64134134 0.11094891 0.57709751 0.60892177 0.73745264\n",
            "  0.50849414 0.19183754 0.35679829 0.67140585 0.17367097 0.50735771\n",
            "  0.15990469 0.24989149 0.37347452 0.62240922 0.56759237 0.16756567\n",
            "  0.20779722 0.40975941 0.63563905 0.59578995 0.37532882 0.81476814\n",
            "  0.1807836  0.20102886 0.50199306 0.72445466 0.36532042 0.5236184\n",
            "  0.26320591 0.69810453 0.11573362 0.27209371 0.19821777 0.60293399\n",
            "  0.36940493 0.19818541 0.57130965 0.5625226  0.36478243 0.\n",
            "  0.62114661 0.33740987 0.2366135  0.52087831 0.39488783 0.73480523\n",
            "  0.62775755 0.70827365 0.26428936 0.21111755 0.32208772 0.70595656\n",
            "  0.59173277 0.39410454 0.68774981 0.73715736 0.40136953 0.61965933\n",
            "  0.53964332 0.27477415 0.27362421 0.23038086 0.84632955 0.28790102\n",
            "  0.61401122 0.42188715 0.19095429 0.51874544 0.3512811  0.35526923\n",
            "  0.21436073 0.70663553 0.67446794 0.55986144 0.40250713 0.09347578\n",
            "  0.13768196 0.4596799  0.70966154 0.15311206 0.27659214 0.16230467\n",
            "  0.08757152 0.56023829 0.59289224 0.45262662]\n",
            " [0.85592288 0.66198077 0.97277678 0.36968146 0.88083582 0.25637348\n",
            "  0.47086095 0.3238558  0.5730335  0.37431516 0.343946   0.2070889\n",
            "  0.40562933 0.03793881 0.51037498 0.42288317 0.30568602 0.47609016\n",
            "  0.74491612 0.76582266 0.37832994 0.35248499 0.58632794 0.78766283\n",
            "  0.68804207 0.80852241 0.26929339 0.07640561 0.95286878 0.62545879\n",
            "  0.63863847 0.36295715 0.39429215 0.62306855 0.86597871 0.49360598\n",
            "  0.64949374 0.73075526 0.20775167 0.49908887 0.33888364 0.64946772\n",
            "  0.76527156 0.52384674 0.6784592  0.7405933  0.81691172 0.28493605\n",
            "  0.47060289 0.59372411 0.10057044 0.93216464 0.84681155 0.62114661\n",
            "  0.         0.51912018 0.85090371 0.10067496 0.49983815 0.40973565\n",
            "  0.32136915 0.49934319 0.57375778 0.47585783 0.43586224 0.40192191\n",
            "  0.24178022 0.80386146 0.47485894 0.46164899 0.46190496 0.04052254\n",
            "  0.48265534 0.36333582 0.72374611 0.74769058 0.44527602 0.70905702\n",
            "  0.4305292  0.62770353 0.66011998 0.84191561 0.88571797 0.64690324\n",
            "  0.79607926 0.33784178 0.10095013 0.75862779 0.85452056 0.71415568\n",
            "  0.72116013 0.17821792 0.40495559 0.47306386 0.69283351 0.50915507\n",
            "  0.58114095 0.08046263 0.53666055 0.75024113]\n",
            " [0.70740829 0.47453889 0.9289286  0.46968667 0.37159773 0.27379499\n",
            "  0.87246944 0.73723901 0.52261345 0.23568136 0.30984004 0.41534471\n",
            "  0.63608415 0.51904356 0.28616235 0.26782968 0.67232454 0.42578693\n",
            "  0.79347126 0.5273378  0.49151146 0.39392173 0.46342708 0.80646927\n",
            "  0.49354478 0.58585797 0.26890082 0.56158285 0.89588907 0.478632\n",
            "  0.18417855 0.16317972 0.33938772 0.81183086 0.36805899 0.90288023\n",
            "  0.49946707 0.29005414 0.52319248 0.40538573 0.46918186 0.7692599\n",
            "  0.29320165 0.84107028 0.45226919 0.25735734 0.45309337 0.65706476\n",
            "  0.56382768 0.15706056 0.52718266 0.88774035 0.70074166 0.33740987\n",
            "  0.51912018 0.         0.53973852 0.43300126 0.60139946 0.81160302\n",
            "  0.69434804 0.38746741 0.09175981 0.4152488  0.49862486 0.78881326\n",
            "  0.62560054 0.28882036 0.3709232  0.83830837 0.08480928 0.53988791\n",
            "  0.70751751 0.3631864  0.23645793 0.29126502 0.89685648 0.21274899\n",
            "  0.30390132 0.68284586 0.51170787 0.83099297 0.40698329 0.63871702\n",
            "  0.54665821 0.43892282 0.52032467 0.83730395 0.73594949 0.38907952\n",
            "  0.33141717 0.43932558 0.79276517 0.31796825 0.19961297 0.18685531\n",
            "  0.38377533 0.43908185 0.25766221 0.75190801]\n",
            " [0.27105525 0.21631184 0.51898398 0.97629339 0.45119375 0.62859629\n",
            "  0.9445528  0.87193437 0.36536972 0.49343661 0.81666679 0.86436643\n",
            "  0.65756292 0.87329634 0.3455323  0.79796548 0.7940875  0.95889974\n",
            "  0.52981421 0.12013129 0.54095159 0.90194834 0.3015119  0.50465956\n",
            "  0.19693177 0.13606121 0.60979759 0.84495591 0.48271556 0.26520957\n",
            "  0.3664583  0.63917256 0.86146074 0.68601455 0.39849626 0.97439643\n",
            "  0.2520694  0.28455151 0.71097005 0.94220641 0.56164547 0.59399646\n",
            "  0.33081375 0.83398532 0.18215224 0.36378414 0.10674611 0.79237191\n",
            "  0.51533431 0.38322621 0.79254175 0.48907994 0.27050116 0.2366135\n",
            "  0.85090371 0.53973852 0.         0.75168789 0.52603703 0.904954\n",
            "  0.810095   0.92494991 0.45205313 0.3969835  0.49097876 0.87508028\n",
            "  0.78966054 0.47307037 0.90646783 0.89472109 0.61525925 0.8459132\n",
            "  0.67538961 0.4923053  0.37859556 0.3045926  1.02256647 0.40537142\n",
            "  0.83502543 0.49324026 0.24961101 0.48682105 0.33875744 0.41291246\n",
            "  0.09791544 0.93915101 0.90909278 0.58465551 0.31894256 0.15433214\n",
            "  0.21500305 0.68228414 0.8784087  0.37785894 0.40318038 0.39019572\n",
            "  0.27222424 0.79372115 0.79623463 0.45960993]\n",
            " [0.76798257 0.56660494 0.89968251 0.38191527 0.78765127 0.16204692\n",
            "  0.49058165 0.34251264 0.4871667  0.27394802 0.3121127  0.20993312\n",
            "  0.36216067 0.12214952 0.41001747 0.38114228 0.30150655 0.46677608\n",
            "  0.68057312 0.6691885  0.30272542 0.3449976  0.4936032  0.71971124\n",
            "  0.59278293 0.71352393 0.1726267  0.12863725 0.87758695 0.53208507\n",
            "  0.54160591 0.28565536 0.37035817 0.58251995 0.77064738 0.51719843\n",
            "  0.55658504 0.63173122 0.16495674 0.48302469 0.26154634 0.59484546\n",
            "  0.66786999 0.51476683 0.58108916 0.64444366 0.71632261 0.28128205\n",
            "  0.40020944 0.49657841 0.10197936 0.85822066 0.75894422 0.52087831\n",
            "  0.10067496 0.43300126 0.75168789 0.         0.43328682 0.42728874\n",
            "  0.32129761 0.47941556 0.48070859 0.38350201 0.35692316 0.4127774\n",
            "  0.23914191 0.71298158 0.45347789 0.47105238 0.38443352 0.10901117\n",
            "  0.44370345 0.26813285 0.62821442 0.64935652 0.48673955 0.61482349\n",
            "  0.39684433 0.55994506 0.56765271 0.7708204  0.7880416  0.56994289\n",
            "  0.69922971 0.34435195 0.16841575 0.70008406 0.76970304 0.61375397\n",
            "  0.62069    0.098226   0.41633977 0.37390191 0.59839668 0.4094889\n",
            "  0.48318607 0.05581169 0.48816016 0.67847829]\n",
            " [0.40350957 0.31294567 0.47413453 0.80028505 0.80928351 0.4338204\n",
            "  0.42031495 0.37096888 0.16097962 0.37334753 0.68676652 0.63373711\n",
            "  0.14274599 0.53566847 0.34609076 0.72498059 0.29983284 0.85671724\n",
            "  0.24728637 0.40781432 0.13624922 0.74759509 0.23432027 0.28791384\n",
            "  0.3294559  0.42093949 0.41933943 0.45230027 0.45637536 0.26401284\n",
            "  0.56795032 0.55646541 0.74847596 0.21218167 0.7683817  0.44949645\n",
            "  0.27412875 0.59348492 0.29494625 0.86153551 0.17661274 0.17530935\n",
            "  0.65404111 0.31019619 0.35488523 0.65586594 0.55631558 0.30616759\n",
            "  0.03905096 0.53661164 0.40458253 0.43437563 0.39467445 0.39488783\n",
            "  0.49983815 0.60139946 0.52603703 0.43328682 0.         0.38625006\n",
            "  0.30971592 0.85187596 0.57683947 0.19774425 0.10404064 0.35643395\n",
            "  0.32255574 0.77156823 0.8260401  0.3698468  0.6166041  0.47292003\n",
            "  0.15018186 0.2468718  0.65218018 0.6222401  0.50581087 0.65849265\n",
            "  0.7543894  0.12786717 0.27656665 0.34251924 0.74597884 0.1624404\n",
            "  0.4354491  0.76027708 0.59431715 0.2699603  0.38608106 0.46335945\n",
            "  0.53203536 0.33507071 0.35939011 0.29608623 0.64378486 0.43768167\n",
            "  0.3078682  0.48909643 0.79727507 0.25167056]\n",
            " [0.78235225 0.68872558 0.78817323 0.77924054 1.11305063 0.55029911\n",
            "  0.06335751 0.0861893  0.54183157 0.58768361 0.73808469 0.61504193\n",
            "  0.24763566 0.4432574  0.6493917  0.80840034 0.13934503 0.88356314\n",
            "  0.54614044 0.78966312 0.37802978 0.75970948 0.60425289 0.59966251\n",
            "  0.70849643 0.80665427 0.54905621 0.33334513 0.78271429 0.63974458\n",
            "  0.85557091 0.69362015 0.79432643 0.34568535 1.08165906 0.09182315\n",
            "  0.65408087 0.91364736 0.28986462 0.90407592 0.37470404 0.4254777\n",
            "  0.96701081 0.15973181 0.72629914 0.95713513 0.91996424 0.15495498\n",
            "  0.39041498 0.81427869 0.32911178 0.75668298 0.77391603 0.73480523\n",
            "  0.40973565 0.81160302 0.904954   0.42728874 0.38625006 0.\n",
            "  0.11736639 0.9023888  0.82786537 0.52484895 0.41778065 0.02993456\n",
            "  0.19125878 1.05534563 0.8769573  0.06016714 0.78600741 0.3692533\n",
            "  0.25265073 0.48244457 0.94712484 0.93930892 0.11967266 0.94394858\n",
            "  0.82364428 0.47349671 0.65837814 0.66221098 1.07563355 0.53838263\n",
            "  0.81841737 0.747502   0.50213037 0.52965582 0.75766526 0.81869908\n",
            "  0.86916168 0.37807319 0.02686006 0.59448172 0.92741257 0.70903709\n",
            "  0.65668977 0.46240839 0.9137655  0.58919404]\n",
            " [0.71320242 0.5942541  0.75345214 0.68854925 0.99801334 0.43489872\n",
            "  0.17845892 0.06229149 0.45383593 0.47063844 0.6333918  0.51966505\n",
            "  0.16754263 0.35783569 0.53780781 0.70038447 0.02203369 0.78529322\n",
            "  0.50984433 0.69828641 0.27258149 0.66199905 0.50868724 0.5612131\n",
            "  0.61578172 0.72091151 0.43289754 0.2468625  0.7428384  0.54613998\n",
            "  0.74027323 0.57880875 0.69146676 0.33595421 0.96767599 0.20856784\n",
            "  0.5628879  0.80137318 0.17392688 0.80338534 0.26350502 0.39398045\n",
            "  0.85350492 0.20281685 0.62899763 0.84246054 0.81732593 0.0402265\n",
            "  0.3043241  0.69851602 0.22950144 0.7180756  0.70438137 0.62775755\n",
            "  0.32136915 0.69434804 0.810095   0.32129761 0.30971592 0.11736639\n",
            "  0.         0.80037394 0.71083312 0.42065783 0.31912471 0.09534362\n",
            "  0.08253729 0.93904735 0.77454029 0.15073324 0.67002    0.28152195\n",
            "  0.20863281 0.36833059 0.83194787 0.82646046 0.21887602 0.82809179\n",
            "  0.71774094 0.41714767 0.56863138 0.62268728 0.96385467 0.47065671\n",
            "  0.72794972 0.65440169 0.41995244 0.50505939 0.69429121 0.71435406\n",
            "  0.76001346 0.26311447 0.09922771 0.48342087 0.81150146 0.59360001\n",
            "  0.5530908  0.3622639  0.80303281 0.54067699]\n",
            " [1.06526889 0.82973492 1.26261077 0.17852811 0.69445635 0.41811029\n",
            "  0.96506532 0.81636382 0.83227541 0.50559152 0.16977738 0.29346794\n",
            "  0.82331614 0.4723633  0.62816051 0.13384775 0.78084814 0.05426338\n",
            "  1.0849586  0.89989713 0.71735335 0.15074878 0.79480382 1.11116218\n",
            "  0.85244366 0.95744669 0.43269112 0.57348455 1.23289065 0.82061194\n",
            "  0.57040899 0.31157715 0.10918474 1.03727874 0.71115994 0.98974018\n",
            "  0.84462329 0.67403235 0.63980506 0.01919141 0.6799218  1.02667263\n",
            "  0.66597831 0.99316808 0.81715503 0.62680787 0.84053631 0.76051247\n",
            "  0.81327767 0.54424573 0.57350732 1.2201245  1.05761889 0.70827365\n",
            "  0.49934319 0.38746741 0.92494991 0.47941556 0.85187596 0.9023888\n",
            "  0.80037394 0.         0.4785864  0.71204459 0.75224115 0.89022662\n",
            "  0.71793997 0.60698842 0.02630325 0.94919641 0.30974771 0.53833831\n",
            "  0.90548027 0.61266929 0.60538952 0.67093339 0.94454939 0.57722597\n",
            "  0.09931394 0.9635797  0.85743177 1.14868322 0.7660655  0.9429278\n",
            "  0.92243273 0.18407151 0.42755264 1.11806346 1.08627627 0.77208408\n",
            "  0.71886274 0.55546704 0.89365361 0.63625073 0.56867262 0.54622732\n",
            "  0.732485   0.43999626 0.1530159  1.06037849]\n",
            " [0.63493079 0.40752343 0.8649158  0.5592024  0.30714782 0.31872844\n",
            "  0.88651365 0.75897708 0.47715643 0.24019576 0.39825847 0.49319155\n",
            "  0.6316155  0.57865083 0.23838067 0.3594858  0.68908442 0.51749546\n",
            "  0.74785254 0.44883735 0.48202463 0.48324153 0.40988504 0.75554001\n",
            "  0.42389124 0.50729776 0.30882443 0.60720642 0.83083271 0.41887356\n",
            "  0.09242669 0.23833331 0.43044358 0.78902109 0.29422949 0.91759677\n",
            "  0.43732449 0.19865852 0.54601963 0.49665841 0.46676137 0.73665495\n",
            "  0.20690281 0.83988403 0.37994715 0.17414794 0.36256892 0.67585616\n",
            "  0.54137219 0.06966708 0.5673824  0.82466456 0.6288208  0.26428936\n",
            "  0.57375778 0.09175981 0.45205313 0.48070859 0.57683947 0.82786537\n",
            "  0.71083312 0.4785864  0.         0.38175311 0.47815367 0.80304774\n",
            "  0.64880432 0.23371674 0.46246193 0.84853254 0.17536348 0.58961265\n",
            "  0.69675952 0.35588931 0.15464184 0.20154357 0.92135351 0.13608944\n",
            "  0.39563899 0.64397126 0.44890455 0.77455233 0.32466238 0.59168319\n",
            "  0.46588806 0.52727262 0.58749843 0.79482482 0.66675751 0.30435323\n",
            "  0.24102434 0.46911041 0.80700889 0.28186801 0.12046788 0.1397474\n",
            "  0.32412091 0.49574591 0.34433967 0.70048061]\n",
            " [0.38696254 0.18959787 0.55253148 0.69607883 0.61494223 0.31186697\n",
            "  0.57258602 0.48116186 0.12049081 0.2074163  0.55878551 0.54637219\n",
            "  0.28679385 0.50422076 0.14834665 0.57934104 0.40287688 0.72672365\n",
            "  0.38191671 0.29614838 0.14807855 0.63228295 0.11047016 0.40169054\n",
            "  0.21494763 0.33404084 0.29327271 0.45703024 0.52449979 0.14977195\n",
            "  0.37032206 0.40220974 0.61758198 0.40900672 0.57612269 0.60378119\n",
            "  0.17363627 0.40200494 0.31504642 0.72452075 0.16472618 0.35559086\n",
            "  0.46088167 0.48948966 0.21517417 0.46014377 0.39666861 0.39895296\n",
            "  0.16572926 0.33901751 0.40399712 0.50993967 0.378075   0.21111755\n",
            "  0.47585783 0.4152488  0.3969835  0.38350201 0.19774425 0.52484895\n",
            "  0.42065783 0.71204459 0.38175311 0.         0.11158239 0.49574297\n",
            "  0.39331392 0.57431487 0.68754451 0.52604688 0.44350778 0.46344983\n",
            "  0.33330803 0.11760364 0.45551733 0.43000965 0.63810344 0.4610173\n",
            "  0.6127307  0.26781686 0.18435257 0.43668112 0.55953995 0.23214776\n",
            "  0.32682642 0.65559165 0.5510156  0.4231515  0.39407488 0.29407519\n",
            "  0.34784722 0.29876629 0.49940029 0.09989967 0.44618028 0.24201939\n",
            "  0.13243691 0.4341158  0.63406244 0.34939664]\n",
            " [0.42590635 0.27536643 0.54331042 0.70970006 0.72496835 0.33525737\n",
            "  0.46318251 0.38097097 0.14477846 0.26932645 0.58913409 0.54724037\n",
            "  0.17576202 0.46910849 0.25501939 0.62385418 0.30325714 0.75931649\n",
            "  0.33559223 0.3803666  0.0591788  0.65351573 0.18970143 0.36849476\n",
            "  0.29751679 0.40736904 0.31972749 0.400762   0.5206976  0.22777094\n",
            "  0.4765963  0.45350209 0.65045997 0.3132628  0.68701225 0.4941774\n",
            "  0.24603073 0.51325468 0.24555531 0.762531   0.09697918 0.27817332\n",
            "  0.57161608 0.37812392 0.31002615 0.56947671 0.5022894  0.3024967\n",
            "  0.06547595 0.44237869 0.34909938 0.5016118  0.41674992 0.32208772\n",
            "  0.43586224 0.49862486 0.49097876 0.35692316 0.10404064 0.41778065\n",
            "  0.31912471 0.75224115 0.47815367 0.11158239 0.         0.38826789\n",
            "  0.30464146 0.68133002 0.72661431 0.41583267 0.512565   0.41499714\n",
            "  0.2234248  0.14318598 0.56384628 0.54106143 0.53336691 0.56764891\n",
            "  0.65409792 0.21300904 0.25303576 0.41597191 0.67112232 0.21302397\n",
            "  0.41042253 0.6693209  0.52369129 0.36590862 0.42014558 0.4019644\n",
            "  0.45922338 0.26058575 0.39181355 0.20169048 0.55232482 0.34040896\n",
            "  0.24010637 0.41203234 0.6938351  0.3236784 ]\n",
            " [0.75320596 0.65886834 0.76273925 0.77152464 1.08636766 0.53023414\n",
            "  0.08370239 0.08022053 0.51189739 0.56300232 0.724586   0.60532964\n",
            "  0.21771159 0.43658504 0.621546   0.79328874 0.1172592  0.87299839\n",
            "  0.5200556  0.75973662 0.34929131 0.74926822 0.57445321 0.57342027\n",
            "  0.67859442 0.77675471 0.52820569 0.32565023 0.75657346 0.60987247\n",
            "  0.82911099 0.67409583 0.78171478 0.32262794 1.05446872 0.11455981\n",
            "  0.62416121 0.88588111 0.26926739 0.89249836 0.34710672 0.399622\n",
            "  0.9396555  0.14484539 0.69654153 0.93029856 0.8905217  0.13482935\n",
            "  0.36048385 0.78813833 0.31686414 0.73067723 0.74473854 0.70595656\n",
            "  0.40192191 0.78881326 0.87508028 0.4127774  0.35643395 0.02993456\n",
            "  0.09534362 0.89022662 0.80304774 0.49574297 0.38826789 0.\n",
            "  0.17421496 1.02956411 0.86459969 0.0597296  0.76533614 0.36141824\n",
            "  0.22428321 0.45564172 0.92056319 0.91172212 0.14938932 0.91783233\n",
            "  0.80961735 0.44502972 0.628446   0.63594588 1.0476752  0.5091468\n",
            "  0.7884842  0.7388504  0.49675873 0.50517436 0.72894881 0.78945671\n",
            "  0.84063196 0.35836408 0.00396376 0.56653554 0.9013419  0.68272858\n",
            "  0.62742889 0.45049017 0.89715711 0.56172817]\n",
            " [0.72080342 0.5769799  0.7872961  0.6069334  0.94304314 0.3600567\n",
            "  0.25443943 0.111717   0.44765698 0.40990813 0.55124262 0.4374854\n",
            "  0.19271224 0.27894965 0.49417484 0.61913669 0.06439262 0.70277149\n",
            "  0.54680537 0.68326741 0.2497479  0.57951886 0.49169322 0.59556343\n",
            "  0.60033569 0.71199918 0.35985627 0.16948436 0.77327356 0.53085372\n",
            "  0.68546534 0.50276604 0.60908623 0.39369823 0.9156028  0.28282698\n",
            "  0.55023007 0.75396043 0.10292459 0.720874   0.22890164 0.43754342\n",
            "  0.80302848 0.28262432 0.6075115  0.78902912 0.78643858 0.04354367\n",
            "  0.30722038 0.64237788 0.14738426 0.74971163 0.71175764 0.59173277\n",
            "  0.24178022 0.62560054 0.78966054 0.23914191 0.32255574 0.19125878\n",
            "  0.08253729 0.71793997 0.64880432 0.39331392 0.30464146 0.17421496\n",
            "  0.         0.88003411 0.69213603 0.23196865 0.59612564 0.2027587\n",
            "  0.25654598 0.32139674 0.77710796 0.77764242 0.27259091 0.77106153\n",
            "  0.63587501 0.4424578  0.55757954 0.65513211 0.91673724 0.48455048\n",
            "  0.71363393 0.57241148 0.34170134 0.54950105 0.7072362  0.68180029\n",
            "  0.71905045 0.18796602 0.17788157 0.44176163 0.75433883 0.53925166\n",
            "  0.52376037 0.27976914 0.72309517 0.5683225 ]\n",
            " [0.7205253  0.53161599 0.96847707 0.73162538 0.08815886 0.5509806\n",
            "  1.11248353 0.98924537 0.64448871 0.47013038 0.58119052 0.70145028\n",
            "  0.84653748 0.8061313  0.42660592 0.51929814 0.91755844 0.65636853\n",
            "  0.90198907 0.52635587 0.69587953 0.65895576 0.56683417 0.89787014\n",
            "  0.53795668 0.57794741 0.54195321 0.84020462 0.9323493  0.56099773\n",
            "  0.20479559 0.45193678 0.59526098 0.9805963  0.11008315 1.14381057\n",
            "  0.5715837  0.20358871 0.77761129 0.6261779  0.68661044 0.91489493\n",
            "  0.14506318 1.05497619 0.4909693  0.12306222 0.36632425 0.90531024\n",
            "  0.73993127 0.24225607 0.80101117 0.93253366 0.71689988 0.39410454\n",
            "  0.80386146 0.28882036 0.47307037 0.71298158 0.77156823 1.05534563\n",
            "  0.93904735 0.60698842 0.23371674 0.57431487 0.68133002 1.02956411\n",
            "  0.88003411 0.         0.59929944 1.07235247 0.36353377 0.82158041\n",
            "  0.90455211 0.57561746 0.12086892 0.1762454  1.1521738  0.11373479\n",
            "  0.54965042 0.81467538 0.58027316 0.90279243 0.17719366 0.74937311\n",
            "  0.53040513 0.70677519 0.80912341 0.95380449 0.76225227 0.37501586\n",
            "  0.28334312 0.70244258 1.03350826 0.47973341 0.12946354 0.3479183\n",
            "  0.47797989 0.72467685 0.45426025 0.84380455]\n",
            " [1.04289812 0.80756077 1.23858302 0.16555546 0.6871308  0.39223226\n",
            "  0.93970093 0.79097788 0.80786666 0.48146204 0.14348363 0.26969716\n",
            "  0.79701763 0.448466   0.60587597 0.11123518 0.7549521  0.05719573\n",
            "  1.05964467 0.87914475 0.69139106 0.1291392  0.77135879 1.08618047\n",
            "  0.83049248 0.93649667 0.40697176 0.54866524 1.20904975 0.79763773\n",
            "  0.5546375  0.28805894 0.08312967 1.01105351 0.70203658 0.9645216\n",
            "  0.82177233 0.65911627 0.61361953 0.03727063 0.65385987 1.00076556\n",
            "  0.65316217 0.96704478 0.79577572 0.61428706 0.82352753 0.73464537\n",
            "  0.78747895 0.52712187 0.54797616 1.19607222 1.03518271 0.68774981\n",
            "  0.47485894 0.3709232  0.90646783 0.45347789 0.8260401  0.8769573\n",
            "  0.77454029 0.02630325 0.46246193 0.68754451 0.72661431 0.86459969\n",
            "  0.69213603 0.59929944 0.         0.92350762 0.29135959 0.51364411\n",
            "  0.87918615 0.58736376 0.5928262  0.65698807 0.92013251 0.56501279\n",
            "  0.0753499  0.93814757 0.83458566 1.12409398 0.75543124 0.91813738\n",
            "  0.90205558 0.16614976 0.40491076 1.09248144 1.06334754 0.75316964\n",
            "  0.70191667 0.52918786 0.86804011 0.61282174 0.55587807 0.52551681\n",
            "  0.71015261 0.41455044 0.14833133 1.03556741]\n",
            " [0.75578918 0.67956626 0.7456691  0.83125383 1.12642152 0.58397329\n",
            "  0.05111935 0.13913802 0.52947309 0.60931656 0.78308729 0.66492996\n",
            "  0.24044231 0.49625743 0.65817233 0.85093155 0.17189679 0.93241093\n",
            "  0.50630745 0.77734119 0.38313676 0.80872429 0.5967931  0.56008813\n",
            "  0.69779187 0.79015006 0.5810063  0.38536723 0.7422705  0.6303518\n",
            "  0.870215   0.72820585 0.84055304 0.29962436 1.0928155  0.0796954\n",
            "  0.64270185 0.92221239 0.32340084 0.95165202 0.38629213 0.38570366\n",
            "  0.97754062 0.10486576 0.71917398 0.97003805 0.91664569 0.19093132\n",
            "  0.37991266 0.8302644  0.3760971  0.71588828 0.74762572 0.73715736\n",
            "  0.46164899 0.83830837 0.89472109 0.47105238 0.3698468  0.06016714\n",
            "  0.15073324 0.94919641 0.84853254 0.52604688 0.41583267 0.0597296\n",
            "  0.23196865 1.07235247 0.92350762 0.         0.81798368 0.42114345\n",
            "  0.22582186 0.49681499 0.9612076  0.94874898 0.15352027 0.95982072\n",
            "  0.86783908 0.4438759  0.64588763 0.62248313 1.08293435 0.51355379\n",
            "  0.80522923 0.79854479 0.55628524 0.48551204 0.72818122 0.81760512\n",
            "  0.87339065 0.41297627 0.05673541 0.60293011 0.94348401 0.72458955\n",
            "  0.65591139 0.50969577 0.95374679 0.55408303]\n",
            " [0.76583587 0.53038542 0.9775808  0.3848808  0.44898951 0.23611775\n",
            "  0.84830121 0.70746511 0.55833492 0.24331926 0.22534823 0.33804629\n",
            "  0.6321559  0.45715084 0.33243556 0.18499151 0.64807699 0.34481809\n",
            "  0.82542056 0.59316553 0.49567118 0.3091396  0.5076363  0.84330693\n",
            "  0.55146511 0.65125385 0.23713468 0.51216539 0.94575837 0.52796372\n",
            "  0.26752396 0.09924756 0.25508095 0.82232274 0.44927823 0.87782271\n",
            "  0.55052456 0.374021   0.49624297 0.32694826 0.46756637 0.78932501\n",
            "  0.37791192 0.83123186 0.51323466 0.34171882 0.53276009 0.63117257\n",
            "  0.57790483 0.23664757 0.48357117 0.93569697 0.75866445 0.40136953\n",
            "  0.46190496 0.08480928 0.61525925 0.38443352 0.6166041  0.78600741\n",
            "  0.67002    0.30974771 0.17536348 0.44350778 0.512565   0.76533614\n",
            "  0.59612564 0.36353377 0.29135959 0.81798368 0.         0.48696869\n",
            "  0.70820639 0.37067779 0.3206689  0.37596032 0.86293198 0.29615011\n",
            "  0.22163646 0.70981187 0.56314823 0.87288382 0.49076924 0.67381783\n",
            "  0.61458489 0.354345   0.45144612 0.86588989 0.79092479 0.46235953\n",
            "  0.41135166 0.40820385 0.76923443 0.35301058 0.28361118 0.24128745\n",
            "  0.43534223 0.38149689 0.19514066 0.78972868]\n",
            " [0.83849567 0.65164526 0.94689385 0.41020399 0.89661684 0.27088695\n",
            "  0.43048103 0.28334473 0.5551691  0.37970305 0.38081929 0.24691229\n",
            "  0.37227141 0.07634052 0.50962612 0.45838145 0.26629077 0.5159705\n",
            "  0.71607384 0.75672722 0.35647653 0.39224478 0.57361107 0.76005085\n",
            "  0.67749086 0.79736295 0.28161664 0.03590865 0.92801068 0.61317937\n",
            "  0.65027168 0.38772133 0.43253861 0.58788526 0.879606   0.4534301\n",
            "  0.63668423 0.73914331 0.17826317 0.53846516 0.31847187 0.6177742\n",
            "  0.77634785 0.48419508 0.67060786 0.75330063 0.81687581 0.24562609\n",
            "  0.44545057 0.6052289  0.06846226 0.90673292 0.8293529  0.61965933\n",
            "  0.04052254 0.53988791 0.8459132  0.10901117 0.47292003 0.3692533\n",
            "  0.28152195 0.53833831 0.58961265 0.46344983 0.41499714 0.36141824\n",
            "  0.2027587  0.82158041 0.51364411 0.42114345 0.48696869 0.\n",
            "  0.44769722 0.35469403 0.73716733 0.75733646 0.40688129 0.72383264\n",
            "  0.46749708 0.60055285 0.64686804 0.81543796 0.89635076 0.62369088\n",
            "  0.78720281 0.37827359 0.13894275 0.72779618 0.83500568 0.7130637\n",
            "  0.725209   0.16503923 0.36444456 0.46908196 0.70740779 0.51636889\n",
            "  0.57450172 0.1086046  0.57111451 0.7242872 ]\n",
            " [0.5308913  0.46308916 0.54606388 0.82544966 0.94808623 0.49582966\n",
            "  0.27693016 0.26123415 0.31098567 0.47207392 0.73597108 0.65359708\n",
            "  0.08240501 0.52056271 0.47843697 0.78762822 0.20854782 0.90155893\n",
            "  0.30214789 0.55649916 0.21618239 0.78384138 0.38405944 0.35432647\n",
            "  0.47921106 0.56605383 0.48580019 0.41865087 0.53701766 0.41419069\n",
            "  0.69976594 0.6336811  0.79761207 0.1404496  0.90938445 0.304513\n",
            "  0.4238687  0.73503294 0.2805888  0.91237908 0.24064906 0.18534993\n",
            "  0.79418701 0.16016942 0.50503351 0.79281248 0.7062051  0.22338623\n",
            "  0.17028788 0.66470382 0.38209461 0.51174005 0.52260199 0.53964332\n",
            "  0.48265534 0.70751751 0.67538961 0.44370345 0.15018186 0.25265073\n",
            "  0.20863281 0.90548027 0.69675952 0.33330803 0.2234248  0.22428321\n",
            "  0.25654598 0.90455211 0.87918615 0.22582186 0.70820639 0.44769722\n",
            "  0.         0.34455161 0.78727023 0.76321385 0.37114323 0.79083381\n",
            "  0.81254772 0.22084626 0.42577948 0.41638963 0.89074151 0.2878743\n",
            "  0.58347023 0.78738969 0.58327418 0.29664536 0.50513194 0.61195271\n",
            "  0.67731184 0.35329276 0.22649612 0.42481964 0.7753944  0.56131395\n",
            "  0.4538677  0.49645664 0.87405536 0.3384588 ]\n",
            " [0.50456596 0.29877359 0.66220674 0.58339945 0.63072613 0.20053745\n",
            "  0.53783553 0.42337127 0.23216424 0.12874769 0.45293017 0.42998419\n",
            "  0.27597731 0.38982267 0.17288276 0.4826838  0.34769692 0.62267922\n",
            "  0.47229076 0.40259271 0.12838795 0.52229977 0.22621543 0.49982589\n",
            "  0.32489614 0.44555502 0.18313441 0.35265077 0.63581953 0.26418681\n",
            "  0.37365281 0.31058935 0.51337624 0.45190653 0.59942119 0.56927362\n",
            "  0.28889063 0.43374983 0.22769408 0.62374178 0.11127844 0.42135387\n",
            "  0.48517814 0.4840094  0.31592747 0.47470041 0.47257023 0.33832407\n",
            "  0.20791045 0.33345736 0.30029374 0.61970721 0.49567809 0.27477415\n",
            "  0.36333582 0.3631864  0.4923053  0.26813285 0.2468718  0.48244457\n",
            "  0.36833059 0.61266929 0.35588931 0.11760364 0.14318598 0.45564172\n",
            "  0.32139674 0.57561746 0.58736376 0.49681499 0.37067779 0.35469403\n",
            "  0.34455161 0.         0.46497411 0.45836384 0.58609346 0.46301072\n",
            "  0.51390244 0.35112085 0.30022401 0.54112985 0.59649649 0.33401351\n",
            "  0.4329359  0.54282924 0.43457633 0.50639382 0.51100432 0.36736732\n",
            "  0.39796014 0.19016834 0.45955264 0.12197875 0.44666936 0.227776\n",
            "  0.22021131 0.31740243 0.55065321 0.45066226]\n",
            " [0.61098766 0.41302276 0.85643078 0.70480835 0.16611194 0.46743568\n",
            "  1.00279572 0.88439874 0.52362081 0.36951946 0.54601712 0.64742088\n",
            "  0.73171007 0.73056709 0.3088409  0.49797338 0.81081791 0.64955986\n",
            "  0.7819413  0.41614191 0.5814528  0.62938437 0.44602805 0.77896887\n",
            "  0.42078154 0.47037631 0.45560012 0.7523787  0.82058266 0.44087798\n",
            "  0.09173571 0.39250293 0.57207177 0.8604444  0.14244152 1.03424113\n",
            "  0.45219741 0.09461133 0.67588105 0.62426246 0.57492087 0.79406524\n",
            "  0.06086462 0.93955362 0.37363669 0.02147274 0.27419453 0.79973513\n",
            "  0.62124643 0.13510027 0.70966179 0.81940571 0.60673236 0.27362421\n",
            "  0.72374611 0.23645793 0.37859556 0.62821442 0.65218018 0.94712484\n",
            "  0.83194787 0.60538952 0.15464184 0.45551733 0.56384628 0.92056319\n",
            "  0.77710796 0.12086892 0.5928262  0.9612076  0.3206689  0.73716733\n",
            "  0.78727023 0.46497411 0.         0.07536171 1.0476514  0.02935251\n",
            "  0.53235225 0.69381103 0.46124663 0.78582886 0.17082099 0.62883777\n",
            "  0.42358979 0.67498118 0.74147362 0.83347994 0.65076716 0.26226966\n",
            "  0.17235974 0.60599202 0.92448062 0.36295574 0.03729718 0.23841335\n",
            "  0.35711723 0.64700318 0.45883377 0.72464556]\n",
            " [0.54454304 0.35965271 0.79223906 0.76054779 0.18862267 0.49254329\n",
            "  0.99248308 0.88166067 0.48319335 0.38005859 0.59978367 0.69020205\n",
            "  0.71379138 0.75804926 0.29058568 0.55808999 0.80599253 0.71317025\n",
            "  0.73217587 0.35016932 0.56581925 0.68463297 0.40363322 0.72531197\n",
            "  0.36403371 0.40234576 0.47851802 0.76932908 0.75612244 0.39286892\n",
            "  0.11374794 0.43685628 0.63055428 0.82583801 0.14624169 1.02397172\n",
            "  0.40104069 0.02948448 0.67889138 0.68957349 0.56463888 0.75372725\n",
            "  0.0332906  0.9191568  0.31744531 0.05919154 0.19936449 0.79661137\n",
            "  0.59416918 0.15639329 0.72368915 0.75631525 0.54080423 0.23038086\n",
            "  0.74769058 0.29126502 0.3045926  0.64935652 0.6222401  0.93930892\n",
            "  0.82646046 0.67093339 0.20154357 0.43000965 0.54106143 0.91172212\n",
            "  0.77764242 0.1762454  0.65698807 0.94874898 0.37596032 0.75733646\n",
            "  0.76321385 0.45836384 0.07536171 0.         1.04445728 0.10396075\n",
            "  0.59349282 0.65147357 0.40886335 0.72798217 0.14008322 0.58228381\n",
            "  0.35497456 0.72881388 0.77461086 0.7849745  0.58602553 0.19913176\n",
            "  0.10746786 0.61601688 0.91557731 0.3458208  0.10633474 0.24288286\n",
            "  0.3176026  0.67380442 0.52734831 0.67181485]\n",
            " [0.90159876 0.80625484 0.89917648 0.80521166 1.21374956 0.62744047\n",
            "  0.10832263 0.16325367 0.6605462  0.68210665 0.78729839 0.65155161\n",
            "  0.36627917 0.47307687 0.75648447 0.86313768 0.2386821  0.91957052\n",
            "  0.65934356 0.90804481 0.49021001 0.79666666 0.72134605 0.71309338\n",
            "  0.82650219 0.92592812 0.62918415 0.37260484 0.89553868 0.75744419\n",
            "  0.95591713 0.76686107 0.83937734 0.4530672  1.18472015 0.09926011\n",
            "  0.7723653  1.01967431 0.3754883  0.9439009  0.48237774 0.53861419\n",
            "  1.07104385 0.2560886  0.84298532 1.05885454 1.03446068 0.24809323\n",
            "  0.50906475 0.91339312 0.38476843 0.86921102 0.89320506 0.84632955\n",
            "  0.44527602 0.89685648 1.02256647 0.48673955 0.50581087 0.11967266\n",
            "  0.21887602 0.94454939 0.92135351 0.63810344 0.53336691 0.14938932\n",
            "  0.27259091 1.1521738  0.92013251 0.15352027 0.86293198 0.40688129\n",
            "  0.37114323 0.58609346 1.0476514  1.04445728 0.         1.0425344\n",
            "  0.87394945 0.59179818 0.77695217 0.77555818 1.18229105 0.65777652\n",
            "  0.93700242 0.77760193 0.52482955 0.63902388 0.87624273 0.93214619\n",
            "  0.97888662 0.45759307 0.1465088  0.70222185 1.02584906 0.80929964\n",
            "  0.77045532 0.51119169 0.97351367 0.70541759]\n",
            " [0.63318467 0.42995674 0.87722961 0.67928571 0.17364969 0.45325344\n",
            "  1.00050259 0.8793731  0.5346889  0.36172482 0.52131981 0.62619916\n",
            "  0.73297328 0.71457608 0.31307114 0.47137798 0.80675348 0.62185351\n",
            "  0.79619395 0.43852156 0.58235243 0.60409353 0.45830186 0.7949376\n",
            "  0.43908472 0.49360966 0.44231831 0.74019865 0.84154724 0.45545642\n",
            "  0.09106797 0.3715598  0.54586609 0.86814431 0.15821207 1.03188477\n",
            "  0.46801042 0.12082023 0.66917531 0.59614549 0.57375443 0.80427618\n",
            "  0.08990095 0.94134542 0.39196487 0.05006288 0.30176026 0.79503968\n",
            "  0.62651787 0.12969441 0.69868074 0.83969539 0.62867832 0.28790102\n",
            "  0.70905702 0.21274899 0.40537142 0.61482349 0.65849265 0.94394858\n",
            "  0.82809179 0.57722597 0.13608944 0.4610173  0.56764891 0.91783233\n",
            "  0.77106153 0.11373479 0.56501279 0.95982072 0.29615011 0.72383264\n",
            "  0.79083381 0.46301072 0.02935251 0.10396075 1.0425344  0.\n",
            "  0.50541363 0.70508583 0.47752677 0.80367975 0.19468084 0.64205883\n",
            "  0.44721961 0.65007598 0.72343522 0.8470993  0.67206475 0.28424658\n",
            "  0.19611554 0.59686182 0.92176695 0.36602088 0.01676061 0.23526068\n",
            "  0.36893753 0.63146811 0.43007633 0.74034281]\n",
            " [0.96773867 0.7325084  1.16342212 0.1848925  0.6378077  0.32118598\n",
            "  0.88680608 0.73825376 0.73296644 0.40634239 0.08667915 0.23437657\n",
            "  0.73073519 0.40825578 0.53079799 0.0370748  0.69752276 0.12390371\n",
            "  0.98613451 0.80510819 0.62052664 0.12035151 0.69601683 1.01199524\n",
            "  0.75555805 0.86227001 0.33505873 0.50135664 1.13380536 0.72231298\n",
            "  0.48806567 0.21271198 0.05111267 0.9425548  0.64850385 0.91271887\n",
            "  0.74647044 0.59377981 0.5525365  0.11261714 0.58375852 0.92943986\n",
            "  0.59191657 0.90634009 0.72123326 0.553803   0.75431035 0.67758782\n",
            "  0.71566089 0.45828313 0.49497934 1.12092391 0.95999787 0.61401122\n",
            "  0.4305292  0.30390132 0.83502543 0.39684433 0.7543894  0.82364428\n",
            "  0.71774094 0.09931394 0.39563899 0.6127307  0.65409792 0.80961735\n",
            "  0.63587501 0.54965042 0.0753499  0.86783908 0.22163646 0.46749708\n",
            "  0.81254772 0.51390244 0.53235225 0.59349282 0.87394945 0.50541363\n",
            "  0.         0.86495877 0.75928442 1.04937244 0.69837258 0.84366522\n",
            "  0.8283716  0.16816846 0.37263686 1.01973449 0.98802543 0.68126864\n",
            "  0.6329698  0.46598821 0.81317231 0.53747653 0.49511037 0.45170704\n",
            "  0.63503573 0.36341701 0.12388839 0.96112146]\n",
            " [0.31256477 0.30265918 0.34723192 0.92195544 0.83992745 0.54784088\n",
            "  0.49481945 0.47527802 0.17039896 0.4689211  0.80174749 0.75757589\n",
            "  0.25222014 0.66351861 0.40564171 0.83378091 0.41109066 0.97190961\n",
            "  0.12265356 0.37369952 0.25892143 0.86649023 0.24823509 0.16012032\n",
            "  0.30973454 0.3689046  0.53186695 0.57930195 0.33116252 0.26097406\n",
            "  0.61792849 0.66027915 0.86288379 0.1928743  0.79437138 0.52063672\n",
            "  0.25905292 0.6219964  0.42240736 0.97433127 0.30024255 0.10390244\n",
            "  0.68456477 0.36116649 0.34812929 0.69363514 0.5468386  0.42067994\n",
            "  0.15987775 0.59368659 0.53215656 0.3082451  0.30463765 0.42188715\n",
            "  0.62770353 0.68284586 0.49324026 0.55994506 0.12786717 0.47349671\n",
            "  0.41714767 0.9635797  0.64397126 0.26781686 0.21300904 0.44502972\n",
            "  0.4424578  0.81467538 0.93814757 0.4438759  0.70981187 0.60055285\n",
            "  0.22084626 0.35112085 0.69381103 0.65147357 0.59179818 0.70508583\n",
            "  0.86495877 0.         0.25540304 0.21517817 0.76128148 0.0804002\n",
            "  0.39605043 0.88167287 0.72199918 0.15625585 0.28452806 0.46916724\n",
            "  0.55090866 0.46175094 0.44729932 0.36540645 0.69201584 0.50509323\n",
            "  0.33669583 0.61573901 0.89757539 0.1259455 ]\n",
            " [0.21074407 0.049398   0.41732148 0.86346377 0.59483355 0.48292686\n",
            "  0.69601139 0.63089437 0.11663283 0.359466   0.71668099 0.7224463\n",
            "  0.41077298 0.68855903 0.2309616  0.72364286 0.55419154 0.87913351\n",
            "  0.32351614 0.13149675 0.30873114 0.79551777 0.07405907 0.31772492\n",
            "  0.05501529 0.1545623  0.46359576 0.63886666 0.38418841 0.03778577\n",
            "  0.39871998 0.54691207 0.77194167 0.44479767 0.54688389 0.72558281\n",
            "  0.0128151  0.37965962 0.49110915 0.87185064 0.33732407 0.35918383\n",
            "  0.44212609 0.58455607 0.09404501 0.45724124 0.29174356 0.5547616\n",
            "  0.26796533 0.38628434 0.58588279 0.37641723 0.20245841 0.19095429\n",
            "  0.66011998 0.51170787 0.24961101 0.56765271 0.27656665 0.65837814\n",
            "  0.56863138 0.85743177 0.44890455 0.18435257 0.25303576 0.628446\n",
            "  0.55757954 0.58027316 0.83458566 0.64588763 0.56314823 0.64686804\n",
            "  0.42577948 0.30022401 0.46124663 0.40886335 0.77695217 0.47752677\n",
            "  0.75928442 0.25540304 0.         0.32790062 0.50890811 0.17868993\n",
            "  0.16005397 0.82345274 0.73474738 0.37683464 0.22888918 0.21679401\n",
            "  0.3036203  0.48265768 0.63165986 0.22405909 0.46688375 0.32528243\n",
            "  0.1282043  0.617619   0.75825647 0.26353146]\n",
            " [0.22422692 0.37401642 0.13229423 1.12292634 0.90793155 0.74165575\n",
            "  0.6712535  0.67749313 0.31684477 0.64381419 0.99328018 0.96286999\n",
            "  0.46291039 0.87734096 0.54488278 1.016011   0.61914524 1.16229146\n",
            "  0.11621869 0.38786453 0.46810656 1.06334702 0.36756624 0.06254898\n",
            "  0.3650716  0.35143207 0.72419031 0.79446929 0.12072433 0.35574658\n",
            "  0.72654244 0.83869027 1.05297633 0.32727156 0.85735223 0.69262734\n",
            "  0.33861929 0.69962099 0.6374215  1.16100492 0.5093669  0.23698941\n",
            "  0.76075356 0.52550166 0.41220134 0.78000449 0.5729866  0.63054448\n",
            "  0.37168938 0.7136046  0.74709863 0.09540892 0.2217421  0.51874544\n",
            "  0.84191561 0.83099297 0.48682105 0.7708204  0.34251924 0.66221098\n",
            "  0.62268728 1.14868322 0.77455233 0.43668112 0.41597191 0.63594588\n",
            "  0.65513211 0.90279243 1.12409398 0.62248313 0.87288382 0.81543796\n",
            "  0.41638963 0.54112985 0.78582886 0.72798217 0.77555818 0.80367975\n",
            "  1.04937244 0.21517817 0.32790062 0.         0.80936475 0.20711864\n",
            "  0.39559853 1.08238992 0.93496716 0.14699102 0.1757827  0.52925531\n",
            "  0.62060047 0.67303302 0.63756938 0.52000319 0.79368834 0.64457858\n",
            "  0.45047193 0.82641375 1.06662558 0.09238505]\n",
            " [0.60564239 0.45999792 0.85550797 0.87378318 0.11963632 0.62979468\n",
            "  1.1276234  1.01982518 0.59817969 0.51998895 0.71599414 0.81784416\n",
            "  0.84575114 0.89486769 0.42628025 0.66495737 0.94364253 0.81254673\n",
            "  0.82963876 0.42152552 0.69985817 0.79869979 0.51820447 0.8156949\n",
            "  0.45789035 0.46334428 0.61643026 0.9089305  0.81911012 0.50037951\n",
            "  0.24742696 0.56294696 0.73987054 0.94324893 0.07069779 1.15907364\n",
            "  0.50342314 0.16279944 0.8185131  0.78516318 0.70106393 0.86496991\n",
            "  0.12062594 1.04864767 0.41486606 0.15058238 0.23842448 0.93479113\n",
            "  0.72059227 0.29211942 0.86360141 0.82351763 0.60381512 0.3512811\n",
            "  0.88571797 0.40698329 0.33875744 0.7880416  0.74597884 1.07563355\n",
            "  0.96385467 0.7660655  0.32466238 0.55953995 0.67112232 1.0476752\n",
            "  0.91673724 0.17719366 0.75543124 1.08293435 0.49076924 0.89635076\n",
            "  0.89074151 0.59649649 0.17082099 0.14008322 1.18229105 0.19468084\n",
            "  0.69837258 0.76128148 0.50890811 0.80936475 0.         0.68721485\n",
            "  0.41648915 0.8447533  0.90884646 0.88392891 0.65166379 0.29239522\n",
            "  0.21396808 0.75609479 1.05149626 0.48115778 0.20737675 0.38292369\n",
            "  0.43812299 0.81078162 0.61572216 0.76462182]\n",
            " [0.24416803 0.2272377  0.33099344 0.91614756 0.76997232 0.53453713\n",
            "  0.56467284 0.53112423 0.11613557 0.43948062 0.78637023 0.75741613\n",
            "  0.30311442 0.68096779 0.35465932 0.81077177 0.46171233 0.95560377\n",
            "  0.15620448 0.29352593 0.26876432 0.85623777 0.18434206 0.16966826\n",
            "  0.2319823  0.28892759 0.51709262 0.6062752  0.30769132 0.18941986\n",
            "  0.55735105 0.63410368 0.84626428 0.27327448 0.7231657  0.59171211\n",
            "  0.18380078 0.55283041 0.4484627  0.95493379 0.30911316 0.18212819\n",
            "  0.61554144 0.43622113 0.27252124 0.62715721 0.46864003 0.46853289\n",
            "  0.18024718 0.536836   0.55630027 0.28899535 0.23563247 0.35526923\n",
            "  0.64690324 0.63871702 0.41291246 0.56994289 0.1624404  0.53838263\n",
            "  0.47065671 0.9429278  0.59168319 0.23214776 0.21302397 0.5091468\n",
            "  0.48455048 0.74937311 0.91813738 0.51355379 0.67381783 0.62369088\n",
            "  0.2878743  0.33401351 0.62883777 0.58228381 0.65777652 0.64205883\n",
            "  0.84366522 0.0804002  0.17868993 0.20711864 0.68721485 0.\n",
            "  0.31565738 0.87559382 0.73642116 0.20517713 0.2238166  0.39483948\n",
            "  0.47934527 0.47331573 0.51173326 0.32187225 0.62981971 0.45548816\n",
            "  0.27370065 0.62504039 0.86571921 0.11746459]\n",
            " [0.191092   0.13750041 0.44096323 0.95592675 0.52156194 0.59092904\n",
            "  0.85553332 0.79015225 0.2766024  0.45738541 0.80011496 0.83102933\n",
            "  0.57082357 0.82137098 0.30963902 0.79145338 0.71306033 0.95179755\n",
            "  0.43276782 0.03067909 0.46389476 0.88361396 0.22199418 0.40946527\n",
            "  0.11332104 0.04771568 0.57158863 0.78285854 0.40457979 0.18283503\n",
            "  0.3905539  0.62316718 0.84958364 0.5889168  0.46954406 0.88490478\n",
            "  0.16507769 0.32989255 0.64135902 0.93871349 0.48882997 0.49630777\n",
            "  0.38534521 0.74088007 0.11866423 0.41250431 0.17832159 0.7128984\n",
            "  0.42801205 0.39641349 0.72990817 0.40756829 0.18835594 0.21436073\n",
            "  0.79607926 0.54665821 0.09791544 0.69922971 0.4354491  0.81841737\n",
            "  0.72794972 0.92243273 0.46588806 0.32682642 0.41042253 0.7884842\n",
            "  0.71363393 0.53040513 0.90205558 0.80522923 0.61458489 0.78720281\n",
            "  0.58347023 0.4329359  0.42358979 0.35497456 0.93700242 0.44721961\n",
            "  0.8283716  0.39605043 0.16005397 0.39559853 0.41648915 0.31565738\n",
            "  0.         0.91732723 0.86205829 0.48769292 0.23559948 0.16511749\n",
            "  0.25129332 0.62221114 0.79168979 0.3293257  0.44159545 0.3766654\n",
            "  0.21726876 0.74511508 0.80395741 0.36302515]\n",
            " [1.03412034 0.80533722 1.20498471 0.04057242 0.79452131 0.3437248\n",
            "  0.80869402 0.66150251 0.77432314 0.46505744 0.1291116  0.13536194\n",
            "  0.7053952  0.30586267 0.60849412 0.19055884 0.63673614 0.1457103\n",
            "  1.00429029 0.89105719 0.62425729 0.0485727  0.75361107 1.03755963\n",
            "  0.83036629 0.94532432 0.36240814 0.41418011 1.17858943 0.78566766\n",
            "  0.61761935 0.30124334 0.11725275 0.92518494 0.8003729  0.83114884\n",
            "  0.81085693 0.72449461 0.50923705 0.17683052 0.58366918 0.92991384\n",
            "  0.73211281 0.85419374 0.80284318 0.69605967 0.8698144  0.61591975\n",
            "  0.72368404 0.58148124 0.42502801 1.1625075  1.0257155  0.70663553\n",
            "  0.33784178 0.43892282 0.93915101 0.34435195 0.76027708 0.747502\n",
            "  0.65440169 0.18407151 0.52727262 0.65559165 0.6693209  0.7388504\n",
            "  0.57241148 0.70677519 0.16614976 0.79854479 0.354345   0.37827359\n",
            "  0.78738969 0.54282924 0.67498118 0.72881388 0.77760193 0.65007598\n",
            "  0.16816846 0.88167287 0.82345274 1.08238992 0.8447533  0.87559382\n",
            "  0.91732723 0.         0.25328747 1.03023287 1.04728296 0.78528745\n",
            "  0.75151221 0.43527962 0.74199341 0.60032148 0.63786668 0.5490001\n",
            "  0.70858006 0.29468975 0.29061641 0.99088454]\n",
            " [0.93626736 0.73159999 1.06488915 0.28049609 0.89066146 0.28709864\n",
            "  0.56155292 0.4173524  0.65556217 0.41890325 0.28941745 0.13826242\n",
            "  0.50560572 0.0630779  0.56395733 0.37287947 0.40513354 0.39724196\n",
            "  0.84076185 0.8324088  0.46797511 0.27696225 0.66070108 0.88211879\n",
            "  0.75782427 0.87855938 0.30417221 0.17309021 1.04370784 0.69874231\n",
            "  0.66212782 0.35744315 0.32964267 0.72371758 0.8816471  0.58229073\n",
            "  0.7234655  0.76091142 0.3062886  0.42441861 0.42732023 0.74804228\n",
            "  0.78846136 0.62275449 0.74345694 0.759948   0.86519536 0.38451165\n",
            "  0.56331161 0.61830025 0.20126129 1.02377402 0.92724063 0.67446794\n",
            "  0.10095013 0.52032467 0.90909278 0.16841575 0.59431715 0.50213037\n",
            "  0.41995244 0.42755264 0.58749843 0.5510156  0.52369129 0.49675873\n",
            "  0.34170134 0.80912341 0.40491076 0.55628524 0.45144612 0.13894275\n",
            "  0.58327418 0.43457633 0.74147362 0.77461086 0.52482955 0.72343522\n",
            "  0.37263686 0.72199918 0.73474738 0.93496716 0.90884646 0.73642116\n",
            "  0.86205829 0.25328747 0.         0.85636424 0.93809061 0.76559194\n",
            "  0.76146331 0.26312429 0.4995849  0.53363664 0.70796499 0.54570679\n",
            "  0.64494607 0.11729935 0.48893212 0.84285506]\n",
            " [0.34680386 0.42623225 0.26063594 1.07022148 0.97161247 0.70106123\n",
            "  0.53271987 0.55502501 0.31768837 0.62517428 0.95482104 0.90315084\n",
            "  0.35859773 0.79567675 0.55672337 0.98899269 0.50506414 1.1249782\n",
            "  0.05498006 0.47227057 0.40611433 1.01725028 0.38948793 0.09234797\n",
            "  0.42611176 0.44990077 0.68563598 0.70261501 0.26067244 0.39287438\n",
            "  0.76251354 0.81619836 1.01626302 0.18617347 0.92368863 0.55226775\n",
            "  0.38404051 0.75561914 0.55087691 1.12843642 0.44656371 0.1119851\n",
            "  0.81826507 0.3851079  0.47031712 0.83127197 0.65639424 0.51920676\n",
            "  0.30704201 0.74144752 0.65968154 0.23382977 0.34182101 0.55986144\n",
            "  0.75862779 0.83730395 0.58465551 0.70008406 0.2699603  0.52965582\n",
            "  0.50505939 1.11806346 0.79482482 0.4231515  0.36590862 0.50517436\n",
            "  0.54950105 0.95380449 1.09248144 0.48551204 0.86588989 0.72779618\n",
            "  0.29664536 0.50639382 0.83347994 0.7849745  0.63902388 0.8470993\n",
            "  1.01973449 0.15625585 0.37683464 0.14699102 0.88392891 0.20517713\n",
            "  0.48769292 1.03023287 0.85636424 0.         0.30290062 0.59306056\n",
            "  0.68040589 0.60229312 0.50636241 0.51936626 0.83495256 0.65712601\n",
            "  0.47887459 0.75571346 1.0538184  0.12543595]\n",
            " [0.04903045 0.26146184 0.20626066 1.08757892 0.75697704 0.70427122\n",
            "  0.7790253  0.75445041 0.28253952 0.58609205 0.9437872  0.94044361\n",
            "  0.52678199 0.88647659 0.45947098 0.95246735 0.6855264  1.10744849\n",
            "  0.25381781 0.23595519 0.47905446 1.02124169 0.29422325 0.21158967\n",
            "  0.24301601 0.18835454 0.68526218 0.82070333 0.17009722 0.26571387\n",
            "  0.60450198 0.77551377 0.99984423 0.45568256 0.70507027 0.8043301\n",
            "  0.2416865  0.55936305 0.66423704 1.10061648 0.51654849 0.35672991\n",
            "  0.61751323 0.64212588 0.28712182 0.64180986 0.41324126 0.69224824\n",
            "  0.40057374 0.60032865 0.76922996 0.17197092 0.0484451  0.40250713\n",
            "  0.85452056 0.73594949 0.31894256 0.76970304 0.38608106 0.75766526\n",
            "  0.69429121 1.08627627 0.66675751 0.39407488 0.42014558 0.72894881\n",
            "  0.7072362  0.76225227 1.06334754 0.72818122 0.79092479 0.83500568\n",
            "  0.50513194 0.51100432 0.65076716 0.58602553 0.87624273 0.67206475\n",
            "  0.98802543 0.28452806 0.22888918 0.1757827  0.65166379 0.2238166\n",
            "  0.23559948 1.04728296 0.93809061 0.30290062 0.         0.38853634\n",
            "  0.47953353 0.67706471 0.73131868 0.45149502 0.66436607 0.55116695\n",
            "  0.35566925 0.82286334 0.98582937 0.18602194]\n",
            " [0.34895558 0.16768472 0.59438349 0.82223049 0.38020315 0.48126173\n",
            "  0.86514688 0.77434085 0.30907063 0.34694441 0.66239236 0.71364324\n",
            "  0.57720026 0.73379879 0.20378808 0.6441958  0.69613948 0.80517064\n",
            "  0.53922559 0.15430062 0.44196582 0.74774588 0.23016735 0.5288742\n",
            "  0.16753601 0.21022043 0.46296764 0.71587495 0.55845026 0.20867486\n",
            "  0.22569402 0.48496979 0.70719418 0.65340452 0.33108472 0.89612812\n",
            "  0.21103936 0.17145712 0.59391556 0.78913442 0.45390183 0.57297579\n",
            "  0.23163579 0.77186802 0.12283102 0.25349513 0.10521943 0.69115304\n",
            "  0.44247987 0.23470861 0.6647226  0.5578168  0.34454472 0.09347578\n",
            "  0.71415568 0.38907952 0.15433214 0.61375397 0.46335945 0.81869908\n",
            "  0.71435406 0.77208408 0.30435323 0.29407519 0.4019644  0.78945671\n",
            "  0.68180029 0.37501586 0.75316964 0.81760512 0.46235953 0.7130637\n",
            "  0.61195271 0.36736732 0.26226966 0.19913176 0.93214619 0.28424658\n",
            "  0.68126864 0.46916724 0.21679401 0.52925531 0.29239522 0.39483948\n",
            "  0.16511749 0.78528745 0.76559194 0.59306056 0.38853634 0.\n",
            "  0.09169922 0.55311061 0.79307661 0.24619522 0.2776105  0.23631761\n",
            "  0.16203366 0.65217256 0.64660104 0.47625326]\n",
            " [0.43896045 0.25423404 0.68559835 0.78643202 0.29121471 0.47438794\n",
            "  0.91917425 0.81791819 0.38534925 0.34686809 0.62475737 0.69405211\n",
            "  0.63463623 0.73656351 0.22511439 0.59622104 0.74054921 0.75607149\n",
            "  0.6271205  0.24415003 0.49143244 0.71073217 0.30527774 0.61879653\n",
            "  0.25721783 0.29801657 0.45773    0.73248205 0.64957637 0.29035648\n",
            "  0.15221783 0.45088292 0.66392087 0.73017375 0.24382334 0.95051353\n",
            "  0.29649395 0.07987622 0.62494664 0.73670373 0.49654373 0.65408714\n",
            "  0.14015672 0.83575774 0.2110289  0.16230019 0.12167626 0.733309\n",
            "  0.50705593 0.17481463 0.68355516 0.64930893 0.43489594 0.13768196\n",
            "  0.72116013 0.33141717 0.21500305 0.62069    0.53203536 0.86916168\n",
            "  0.76001346 0.71886274 0.24102434 0.34784722 0.45922338 0.84063196\n",
            "  0.71905045 0.28334312 0.70191667 0.87339065 0.41135166 0.725209\n",
            "  0.67731184 0.39796014 0.17235974 0.10746786 0.97888662 0.19611554\n",
            "  0.6329698  0.55090866 0.3036203  0.62060047 0.21396808 0.47934527\n",
            "  0.25129332 0.75151221 0.76146331 0.68040589 0.47953353 0.09169922\n",
            "  0.         0.57262594 0.8443864  0.27751804 0.1913916  0.21594526\n",
            "  0.22416824 0.65287888 0.5848578  0.5656315 ]\n",
            " [0.67777531 0.48661896 0.80230641 0.47404265 0.77034755 0.17224824\n",
            "  0.44070641 0.29950318 0.39510719 0.23696067 0.38572521 0.30336328\n",
            "  0.27094874 0.20941679 0.35142278 0.44476445 0.24141411 0.54889924\n",
            "  0.58235656 0.59171768 0.2051559  0.43054885 0.40911831 0.62157578\n",
            "  0.51248508 0.63247009 0.17202066 0.16302481 0.78071746 0.44853809\n",
            "  0.51556275 0.31574615 0.44669621 0.49003117 0.74725398 0.46988971\n",
            "  0.47226159 0.59510874 0.08963411 0.56125809 0.16426794 0.49788057\n",
            "  0.63833227 0.4411116  0.5058612  0.6198902  0.65778962 0.22363028\n",
            "  0.30207433 0.47107645 0.11166513 0.76100872 0.66867042 0.4596799\n",
            "  0.17821792 0.43932558 0.68228414 0.098226   0.33507071 0.37807319\n",
            "  0.26311447 0.55546704 0.46911041 0.29876629 0.26058575 0.35836408\n",
            "  0.18796602 0.70244258 0.52918786 0.41297627 0.40820385 0.16503923\n",
            "  0.35329276 0.19016834 0.60599202 0.61601688 0.45759307 0.59686182\n",
            "  0.46598821 0.46175094 0.48265768 0.67303302 0.75609479 0.47331573\n",
            "  0.62221114 0.43527962 0.26312429 0.60229312 0.67706471 0.55311061\n",
            "  0.57262594 0.         0.36221265 0.30734327 0.5801134  0.37322444\n",
            "  0.41034247 0.15403749 0.54260852 0.58074007]\n",
            " [0.75575405 0.66221608 0.76416288 0.77458911 1.09027876 0.53410577\n",
            "  0.0797424  0.08271115 0.51509406 0.56696497 0.72810192 0.60855188\n",
            "  0.22096792 0.43952243 0.6253818  0.79691332 0.12115865 0.87630364\n",
            "  0.52162639 0.76297424 0.35302442 0.75255841 0.57785105 0.57503466\n",
            "  0.68188624 0.77981732 0.53210571 0.32865384 0.75817011 0.61320488\n",
            "  0.83303328 0.67794956 0.78517055 0.32347766 1.05835164 0.11059702\n",
            "  0.62741912 0.88972131 0.27314414 0.89588207 0.35097086 0.4011236\n",
            "  0.94352793 0.14408218 0.69996631 0.93420267 0.89408294 0.13865071\n",
            "  0.36370719 0.79207279 0.32024622 0.73223902 0.74730078 0.70966154\n",
            "  0.40495559 0.79276517 0.8784087  0.41633977 0.35939011 0.02686006\n",
            "  0.09922771 0.89365361 0.80700889 0.49940029 0.39181355 0.00396376\n",
            "  0.17788157 1.03350826 0.86804011 0.05673541 0.76923443 0.36444456\n",
            "  0.22649612 0.45955264 0.92448062 0.91557731 0.1465088  0.92176695\n",
            "  0.81317231 0.44729932 0.63165986 0.63756938 1.05149626 0.51173326\n",
            "  0.79168979 0.74199341 0.4995849  0.50636241 0.73131868 0.79307661\n",
            "  0.8443864  0.36221265 0.         0.57036268 0.90527809 0.68665783\n",
            "  0.63104606 0.45387107 0.90087292 0.56367807]\n",
            " [0.43468063 0.20590342 0.62781194 0.64013928 0.52580094 0.26363688\n",
            "  0.64682298 0.54067205 0.20586554 0.13552245 0.4926681  0.50447994\n",
            "  0.36937264 0.49569904 0.05524896 0.50244117 0.46361583 0.65605305\n",
            "  0.47573854 0.30029075 0.22017368 0.57158615 0.15855363 0.49086532\n",
            "  0.23152665 0.35007318 0.24418005 0.47032287 0.59726126 0.18643188\n",
            "  0.27495496 0.32476503 0.5483514  0.50803489 0.49024566 0.67830179\n",
            "  0.21132045 0.3194852  0.34962798 0.65007963 0.22008446 0.45528929\n",
            "  0.37480746 0.57670436 0.21073442 0.36960141 0.35125085 0.45592838\n",
            "  0.26202827 0.24109815 0.41881338 0.58553562 0.42647394 0.15311206\n",
            "  0.47306386 0.31796825 0.37785894 0.37390191 0.29608623 0.59448172\n",
            "  0.48342087 0.63625073 0.28186801 0.09989967 0.20169048 0.56653554\n",
            "  0.44176163 0.47973341 0.61282174 0.60293011 0.35301058 0.46908196\n",
            "  0.42481964 0.12197875 0.36295574 0.3458208  0.70222185 0.36602088\n",
            "  0.53747653 0.36540645 0.22405909 0.52000319 0.48115778 0.32187225\n",
            "  0.3293257  0.60032148 0.53363664 0.51936626 0.45149502 0.24619522\n",
            "  0.27751804 0.30734327 0.57036268 0.         0.35064414 0.14215761\n",
            "  0.1122635  0.41721899 0.54667268 0.43696017]\n",
            " [0.62619015 0.41972386 0.86908205 0.66757371 0.19035251 0.43691484\n",
            "  0.98405462 0.86269747 0.52162999 0.34496995 0.50894631 0.61185466\n",
            "  0.71707475 0.69859993 0.29804237 0.46068937 0.79014744 0.61255126\n",
            "  0.78435069 0.43185986 0.56642054 0.59218583 0.44579416 0.78392891\n",
            "  0.42962333 0.48758334 0.42585411 0.7236423  0.83352948 0.44398372\n",
            "  0.07586634 0.35704092 0.53477525 0.85378761 0.17381832 1.01542823\n",
            "  0.457135   0.1194109  0.65243307 0.58750683 0.55749346 0.79077359\n",
            "  0.0973139  0.9255166  0.38259039 0.05870358 0.30091544 0.77838818\n",
            "  0.61153779 0.11324608 0.68202131 0.83121028 0.62149214 0.27659214\n",
            "  0.69283351 0.19961297 0.40318038 0.59839668 0.64378486 0.92741257\n",
            "  0.81150146 0.56867262 0.12046788 0.44618028 0.55232482 0.9013419\n",
            "  0.75433883 0.12946354 0.55587807 0.94348401 0.28361118 0.70740779\n",
            "  0.7753944  0.44666936 0.03729718 0.10633474 1.02584906 0.01676061\n",
            "  0.49511037 0.69201584 0.46688375 0.79368834 0.20737675 0.62981971\n",
            "  0.44159545 0.63786668 0.70796499 0.83495256 0.66436607 0.2776105\n",
            "  0.1913916  0.5801134  0.90527809 0.35064414 0.         0.2188949\n",
            "  0.35635607 0.61539059 0.4228435  0.72921843]\n",
            " [0.52482779 0.28989567 0.74226764 0.58610737 0.40452346 0.2587833\n",
            "  0.76529078 0.64604668 0.33997134 0.1373656  0.42692958 0.48077921\n",
            "  0.49975787 0.52255619 0.10084783 0.41479993 0.57242967 0.57516769\n",
            "  0.6112808  0.35367769 0.34912197 0.51192428 0.2771595  0.62168816\n",
            "  0.31038683 0.41126295 0.24259598 0.52706979 0.70942449 0.29182178\n",
            "  0.14669357 0.24926534 0.4738991  0.64981385 0.37648555 0.79668771\n",
            "  0.31293523 0.22304178 0.43872255 0.56227911 0.33869225 0.59698821\n",
            "  0.26540163 0.70842787 0.27204431 0.24978218 0.32572871 0.5613379\n",
            "  0.40274636 0.10568907 0.48090373 0.70098336 0.51777266 0.16230467\n",
            "  0.50915507 0.18685531 0.39019572 0.4094889  0.43768167 0.70903709\n",
            "  0.59360001 0.54622732 0.1397474  0.24201939 0.34040896 0.68272858\n",
            "  0.53925166 0.3479183  0.52551681 0.72458955 0.24128745 0.51636889\n",
            "  0.56131395 0.227776   0.23841335 0.24288286 0.80929964 0.23526068\n",
            "  0.45170704 0.50509323 0.32528243 0.64457858 0.38292369 0.45548816\n",
            "  0.3766654  0.5490001  0.54570679 0.65712601 0.55116695 0.23631761\n",
            "  0.21594526 0.37322444 0.68665783 0.14215761 0.2188949  0.\n",
            "  0.19714603 0.4384895  0.43523279 0.56686557]\n",
            " [0.33278397 0.09771852 0.54516325 0.74800447 0.50609079 0.37535758\n",
            "  0.7032401  0.61350814 0.16665339 0.24412017 0.59682635 0.61610752\n",
            "  0.41563035 0.60529992 0.1043314  0.59896703 0.53523222 0.75618146\n",
            "  0.42903488 0.18805551 0.28051477 0.67785763 0.08944999 0.43264797\n",
            "  0.12196168 0.23830354 0.35592501 0.57282198 0.5122807  0.09517296\n",
            "  0.28366209 0.4237176  0.65021283 0.50830775 0.46284634 0.73426976\n",
            "  0.11579792 0.28834204 0.44039854 0.74736391 0.29491425 0.43744423\n",
            "  0.35024324 0.61302572 0.09860541 0.35720421 0.26424391 0.53097337\n",
            "  0.28361343 0.26491206 0.52034396 0.50397894 0.32515779 0.08757152\n",
            "  0.58114095 0.38377533 0.27222424 0.48318607 0.3078682  0.65668977\n",
            "  0.5530908  0.732485   0.32412091 0.13243691 0.24010637 0.62742889\n",
            "  0.52376037 0.47797989 0.71015261 0.65591139 0.43534223 0.57450172\n",
            "  0.4538677  0.22021131 0.35711723 0.3176026  0.77045532 0.36893753\n",
            "  0.63503573 0.33669583 0.1282043  0.45047193 0.43812299 0.27370065\n",
            "  0.21726876 0.70858006 0.64494607 0.47887459 0.35566925 0.16203366\n",
            "  0.22416824 0.41034247 0.63104606 0.1122635  0.35635607 0.19714603\n",
            "  0.         0.52814618 0.63036661 0.37755149]\n",
            " [0.81999485 0.61432264 0.95506701 0.33105253 0.80251302 0.18127312\n",
            "  0.5251726  0.37643943 0.54039031 0.30707673 0.27701824 0.15934623\n",
            "  0.41546577 0.08428396 0.44938879 0.35198709 0.34368414 0.42306185\n",
            "  0.73638247 0.71538157 0.35830888 0.29975254 0.54359061 0.77547458\n",
            "  0.64054602 0.76128989 0.19609886 0.13961866 0.93272689 0.58152207\n",
            "  0.56337397 0.28250561 0.33200675 0.63589084 0.7889226  0.55025774\n",
            "  0.60628474 0.65802802 0.21617484 0.44201102 0.31706306 0.6501337\n",
            "  0.69017412 0.56009105 0.62657313 0.66431794 0.75313501 0.32300196\n",
            "  0.4559806  0.51868775 0.13362611 0.91352915 0.81099719 0.56023829\n",
            "  0.08046263 0.43908185 0.79372115 0.05581169 0.48909643 0.46240839\n",
            "  0.3622639  0.43999626 0.49574591 0.4341158  0.41203234 0.45049017\n",
            "  0.27976914 0.72467685 0.41455044 0.50969577 0.38149689 0.1086046\n",
            "  0.49645664 0.31740243 0.64700318 0.67380442 0.51119169 0.63146811\n",
            "  0.36341701 0.61573901 0.617619   0.82641375 0.81078162 0.62504039\n",
            "  0.74511508 0.29468975 0.11729935 0.75571346 0.82286334 0.65217256\n",
            "  0.65287888 0.15403749 0.45387107 0.41721899 0.61539059 0.4384895\n",
            "  0.52814618 0.         0.46351989 0.73405486]\n",
            " [0.96005215 0.72496367 1.17255731 0.30253795 0.54156818 0.37931119\n",
            "  0.977115   0.83001351 0.75094915 0.42867941 0.19975883 0.35171954\n",
            "  0.79428523 0.51849686 0.52757541 0.11605292 0.78190751 0.20420862\n",
            "  1.0153417  0.78397623 0.66930591 0.2436329  0.70242606 1.03538566\n",
            "  0.74560858 0.84238874 0.38830538 0.60313747 1.14084214 0.72310317\n",
            "  0.43336681 0.24161887 0.17470589 0.99667727 0.55926261 1.00451633\n",
            "  0.74564394 0.53319855 0.63190865 0.17216851 0.636548   0.97200685\n",
            "  0.51969115 0.98219399 0.70634515 0.48005754 0.70596007 0.76288182\n",
            "  0.75823672 0.41303525 0.58955297 1.13061073 0.95300454 0.59289224\n",
            "  0.53666055 0.25766221 0.79623463 0.48816016 0.79727507 0.9137655\n",
            "  0.80303281 0.1530159  0.34433967 0.63406244 0.6938351  0.89715711\n",
            "  0.72309517 0.45426025 0.14833133 0.95374679 0.19514066 0.57111451\n",
            "  0.87405536 0.55065321 0.45883377 0.52734831 0.97351367 0.43007633\n",
            "  0.12388839 0.89757539 0.75825647 1.06662558 0.61572216 0.86571921\n",
            "  0.80395741 0.29061641 0.48893212 1.0538184  0.98582937 0.64660104\n",
            "  0.5848578  0.54260852 0.90087292 0.54667268 0.4228435  0.43523279\n",
            "  0.63036661 0.46351989 0.         0.9823102 ]\n",
            " [0.22604403 0.31235167 0.22261757 1.0313976  0.85633876 0.65102288\n",
            "  0.60416737 0.597498   0.23142874 0.55680011 0.90339677 0.87073408\n",
            "  0.37742548 0.78548529 0.46621235 0.92823312 0.53560249 1.07279802\n",
            "  0.07137496 0.34876603 0.37575521 0.97248425 0.29061853 0.05510096\n",
            "  0.30874668 0.32456106 0.63379501 0.7039702  0.20525731 0.28553551\n",
            "  0.65919284 0.75149993 0.96345294 0.27108073 0.80729699 0.62773959\n",
            "  0.27246578 0.64275616 0.54654018 1.07234452 0.4169991  0.17294683\n",
            "  0.70501415 0.46261413 0.35460426 0.7207695  0.5339684  0.54583159\n",
            "  0.279732   0.642458   0.65604865 0.18273337 0.2202006  0.45262662\n",
            "  0.75024113 0.75190801 0.45960993 0.67847829 0.25167056 0.58919404\n",
            "  0.54067699 1.06037849 0.70048061 0.34939664 0.3236784  0.56172817\n",
            "  0.5683225  0.84380455 1.03556741 0.55408303 0.78972868 0.7242872\n",
            "  0.3384588  0.45066226 0.72464556 0.67181485 0.70541759 0.74034281\n",
            "  0.96112146 0.1259455  0.26353146 0.09238505 0.76462182 0.11746459\n",
            "  0.36302515 0.99088454 0.84285506 0.12543595 0.18602194 0.47625326\n",
            "  0.5656315  0.58074007 0.56367807 0.43696017 0.72921843 0.56686557\n",
            "  0.37755149 0.73405486 0.9823102  0.        ]]\n"
          ]
        }
      ],
      "source": [
        "a = np.random.random((100,2))\n",
        "x,y = np.atleast_2d(a[:,0], a[:,1])\n",
        "d = np.sqrt( (x-x.T)**2 + (y-y.T)**2)\n",
        "print(d)"
      ]
    },
    {
      "cell_type": "markdown",
      "metadata": {
        "id": "i_iMaTMQCAxR"
      },
      "source": [
        "#### 53. How to convert a float (32 bits) array into an integer (32 bits) in place? \n",
        "(**hint**: astype(copy=False))"
      ]
    },
    {
      "cell_type": "code",
      "execution_count": null,
      "metadata": {
        "id": "sjERZhdwCAxR",
        "colab": {
          "base_uri": "https://localhost:8080/"
        },
        "outputId": "099e8495-44eb-4c30-a792-d0ea94e038bf"
      },
      "outputs": [
        {
          "output_type": "stream",
          "name": "stdout",
          "text": [
            "[2. 1. 2. 3. 4. 5. 6. 7. 8. 9.]\n"
          ]
        }
      ],
      "source": [
        "x = np.arange(10, dtype=np.float32)\n",
        "x_1 = x.astype(np.float32, copy=False)\n",
        "x_1[0] = 2\n",
        "print(x)"
      ]
    },
    {
      "cell_type": "markdown",
      "metadata": {
        "id": "YhT554MbCAxR"
      },
      "source": [
        "#### 54. How to read the following file? (★★☆) \n",
        "(**hint**: np.genfromtxt)"
      ]
    },
    {
      "cell_type": "markdown",
      "metadata": {
        "id": "ZU4domlJCAxS"
      },
      "source": [
        "```\n",
        "1, 2, 3, 4, 5\n",
        "6,  ,  , 7, 8\n",
        " ,  , 9,10,11\n",
        "```"
      ]
    },
    {
      "cell_type": "code",
      "execution_count": null,
      "metadata": {
        "id": "JG4ZEJCxCAxS",
        "colab": {
          "base_uri": "https://localhost:8080/"
        },
        "outputId": "4a68989c-4e3f-4ec4-8358-92cd3aa2c505"
      },
      "outputs": [
        {
          "output_type": "stream",
          "name": "stdout",
          "text": [
            "[[ 1  2  3  4  5]\n",
            " [ 6 -1 -1  7  8]\n",
            " [-1 -1  9 10 11]]\n"
          ]
        },
        {
          "output_type": "stream",
          "name": "stderr",
          "text": [
            "/usr/local/lib/python3.7/dist-packages/ipykernel_launcher.py:7: DeprecationWarning: `np.int` is a deprecated alias for the builtin `int`. To silence this warning, use `int` by itself. Doing this will not modify any behavior and is safe. When replacing `np.int`, you may wish to use e.g. `np.int64` or `np.int32` to specify the precision. If you wish to review your current use, check the release note link for additional information.\n",
            "Deprecated in NumPy 1.20; for more details and guidance: https://numpy.org/devdocs/release/1.20.0-notes.html#deprecations\n",
            "  import sys\n"
          ]
        }
      ],
      "source": [
        "from io import StringIO\n",
        "\n",
        "s = StringIO('''1, 2, 3, 4, 5\n",
        "                6,  ,  , 7, 8\n",
        "                 ,  , 9,10,11\n",
        "            ''')\n",
        "Z = np.genfromtxt(s, delimiter=\",\", dtype=np.int)\n",
        "print(Z)"
      ]
    },
    {
      "cell_type": "markdown",
      "metadata": {
        "id": "Z9uhgBkrCAxS"
      },
      "source": [
        "#### 55. What is the equivalent of enumerate for numpy arrays? (★★☆) \n",
        "(**hint**: np.ndenumerate, np.ndindex)"
      ]
    },
    {
      "cell_type": "code",
      "execution_count": null,
      "metadata": {
        "id": "rAe46nLtCAxT",
        "colab": {
          "base_uri": "https://localhost:8080/"
        },
        "outputId": "ed1c2844-8831-4041-854e-4d478a1c8e17"
      },
      "outputs": [
        {
          "output_type": "stream",
          "name": "stdout",
          "text": [
            "(0, 0) 1\n",
            "(0, 1) 2\n",
            "(1, 0) 3\n",
            "(1, 1) 4\n"
          ]
        }
      ],
      "source": [
        "a = np.array([[1, 2], [3, 4]])\n",
        "for index, x in np.ndenumerate(a):\n",
        "    print(index, x)"
      ]
    },
    {
      "cell_type": "markdown",
      "metadata": {
        "id": "FBzo3pXMCAxT"
      },
      "source": [
        "#### 56. Generate a generic 2D Gaussian-like array (★★☆) \n",
        "(**hint**: np.meshgrid, np.exp)"
      ]
    },
    {
      "cell_type": "code",
      "execution_count": null,
      "metadata": {
        "id": "NmwSA-PnCAxT",
        "colab": {
          "base_uri": "https://localhost:8080/"
        },
        "outputId": "1b584b00-5684-47f7-86aa-a3cadd5261ab"
      },
      "outputs": [
        {
          "output_type": "stream",
          "name": "stdout",
          "text": [
            "[[0.36787944 0.44822088 0.51979489 0.57375342 0.60279818 0.60279818\n",
            "  0.57375342 0.51979489 0.44822088 0.36787944]\n",
            " [0.44822088 0.54610814 0.63331324 0.69905581 0.73444367 0.73444367\n",
            "  0.69905581 0.63331324 0.54610814 0.44822088]\n",
            " [0.51979489 0.63331324 0.73444367 0.81068432 0.85172308 0.85172308\n",
            "  0.81068432 0.73444367 0.63331324 0.51979489]\n",
            " [0.57375342 0.69905581 0.81068432 0.89483932 0.9401382  0.9401382\n",
            "  0.89483932 0.81068432 0.69905581 0.57375342]\n",
            " [0.60279818 0.73444367 0.85172308 0.9401382  0.98773022 0.98773022\n",
            "  0.9401382  0.85172308 0.73444367 0.60279818]\n",
            " [0.60279818 0.73444367 0.85172308 0.9401382  0.98773022 0.98773022\n",
            "  0.9401382  0.85172308 0.73444367 0.60279818]\n",
            " [0.57375342 0.69905581 0.81068432 0.89483932 0.9401382  0.9401382\n",
            "  0.89483932 0.81068432 0.69905581 0.57375342]\n",
            " [0.51979489 0.63331324 0.73444367 0.81068432 0.85172308 0.85172308\n",
            "  0.81068432 0.73444367 0.63331324 0.51979489]\n",
            " [0.44822088 0.54610814 0.63331324 0.69905581 0.73444367 0.73444367\n",
            "  0.69905581 0.63331324 0.54610814 0.44822088]\n",
            " [0.36787944 0.44822088 0.51979489 0.57375342 0.60279818 0.60279818\n",
            "  0.57375342 0.51979489 0.44822088 0.36787944]]\n"
          ]
        }
      ],
      "source": [
        "x, y = np.meshgrid(np.linspace(-1,1,10), np.linspace(-1,1,10))\n",
        "d = np.sqrt(x*x+y*y)\n",
        "sigma, mu = 1.0, 0.0\n",
        "g = np.exp(-( (d-mu)**2 / ( 2.0 * sigma**2 ) ) )\n",
        "print(g)"
      ]
    },
    {
      "cell_type": "markdown",
      "metadata": {
        "id": "6SqkFbBPCAxU"
      },
      "source": [
        "#### 57. How to randomly place p elements in a 2D array? (★★☆) \n",
        "(**hint**: np.put, np.random.choice)"
      ]
    },
    {
      "cell_type": "code",
      "execution_count": null,
      "metadata": {
        "id": "AUF7Qno0CAxU",
        "colab": {
          "base_uri": "https://localhost:8080/"
        },
        "outputId": "330decb3-b9ad-45cf-d440-3c14605508b5"
      },
      "outputs": [
        {
          "output_type": "stream",
          "name": "stdout",
          "text": [
            "[[0. 0.]\n",
            " [0. 0.]\n",
            " [0. 1.]\n",
            " [0. 0.]\n",
            " [0. 0.]\n",
            " [0. 0.]\n",
            " [0. 0.]\n",
            " [0. 0.]]\n"
          ]
        }
      ],
      "source": [
        "x = np.zeros((8,2))\n",
        "np.put(x,5,1)\n",
        "print(x)"
      ]
    },
    {
      "cell_type": "code",
      "source": [
        "import numpy as np"
      ],
      "metadata": {
        "id": "Q6o2T62JqV0a"
      },
      "execution_count": null,
      "outputs": []
    },
    {
      "cell_type": "markdown",
      "metadata": {
        "id": "NY3czePBCAxU"
      },
      "source": [
        "#### 58. Subtract the mean of each row of a matrix (★★☆) \n",
        "(**hint**: mean(axis=,keepdims=))"
      ]
    },
    {
      "cell_type": "code",
      "execution_count": null,
      "metadata": {
        "id": "OrIN7KmdCAxV",
        "colab": {
          "base_uri": "https://localhost:8080/"
        },
        "outputId": "5fb2fea2-e45f-41f0-929b-769dfba0ae3e"
      },
      "outputs": [
        {
          "output_type": "stream",
          "name": "stdout",
          "text": [
            "[[0.02938864 0.10942918 0.13423529 0.37692051 0.01906419 0.23230971\n",
            "  0.36991582 0.32766906 0.53451563 0.0872236 ]\n",
            " [0.53481555 0.64930218 0.95215951 0.90230311 0.71171297 0.36470915\n",
            "  0.13063986 0.50235837 0.15294581 0.82130084]\n",
            " [0.03612796 0.86766921 0.25253686 0.54092072 0.11255221 0.9035203\n",
            "  0.58924808 0.64434722 0.60366091 0.1851899 ]\n",
            " [0.06685653 0.07363886 0.12833073 0.61423459 0.93521867 0.58241669\n",
            "  0.28367052 0.00210078 0.7063621  0.71630633]\n",
            " [0.53981633 0.04640199 0.55025466 0.45491411 0.4291196  0.76753103\n",
            "  0.03653368 0.2166816  0.85575725 0.27333395]]\n",
            "[[-0.19267853 -0.11263798 -0.08783187  0.15485335 -0.20300298  0.01024255\n",
            "   0.14784866  0.1056019   0.31244847 -0.13484356]\n",
            " [-0.03740919  0.07707745  0.37993478  0.33007837  0.13948823 -0.20751558\n",
            "  -0.44158487 -0.06986637 -0.41927892  0.2490761 ]\n",
            " [-0.43744938  0.39409188 -0.22104048  0.06734339 -0.36102513  0.42994297\n",
            "   0.11567074  0.17076988  0.13008357 -0.28838744]\n",
            " [-0.34405705 -0.33727472 -0.28258285  0.20332101  0.52430509  0.17150311\n",
            "  -0.12724306 -0.4088128   0.29544852  0.30539275]\n",
            " [ 0.12278191 -0.37063243  0.13322024  0.03787969  0.01208518  0.35049661\n",
            "  -0.38050074 -0.20035282  0.43872283 -0.14370047]]\n"
          ]
        }
      ],
      "source": [
        "x = np.random.rand(5, 10)\n",
        "print(x)\n",
        "y = x - x.mean(axis=1, keepdims=True)\n",
        "print(y)"
      ]
    },
    {
      "cell_type": "markdown",
      "metadata": {
        "id": "hiUXNQ_ACAxV"
      },
      "source": [
        "#### 59. How to sort an array by the nth column? (★★☆) \n",
        "(**hint**: argsort)"
      ]
    },
    {
      "cell_type": "code",
      "execution_count": null,
      "metadata": {
        "id": "u7uq88uDCAxV",
        "colab": {
          "base_uri": "https://localhost:8080/"
        },
        "outputId": "1c19b727-1221-40f9-f7c6-5c84c2c865ce"
      },
      "outputs": [
        {
          "output_type": "stream",
          "name": "stdout",
          "text": [
            "[[11  2  0 12  7]\n",
            " [ 9  4  1  7  6]\n",
            " [ 3  9  7  1  5]\n",
            " [14  5 13  0  7]\n",
            " [ 2  3  7  8  0]]\n",
            "[[11  2  0 12  7]\n",
            " [ 2  3  7  8  0]\n",
            " [ 9  4  1  7  6]\n",
            " [14  5 13  0  7]\n",
            " [ 3  9  7  1  5]]\n"
          ]
        }
      ],
      "source": [
        "x = np.random.randint(0,15,(5,5))\n",
        "print(x)\n",
        "print(x[x[:,1].argsort()])"
      ]
    },
    {
      "cell_type": "markdown",
      "metadata": {
        "id": "BHvxiVfECAxV"
      },
      "source": [
        "#### 60. How to tell if a given 2D array has null columns? (★★☆) \n",
        "(**hint**: any, ~)"
      ]
    },
    {
      "cell_type": "code",
      "execution_count": null,
      "metadata": {
        "id": "hxAbJ8pHCAxW",
        "colab": {
          "base_uri": "https://localhost:8080/"
        },
        "outputId": "e1a3be08-3abb-433c-c9d7-dc4988ae62d8"
      },
      "outputs": [
        {
          "output_type": "stream",
          "name": "stdout",
          "text": [
            "[[2 0 2 2 4 4 3 1 4 2]\n",
            " [3 3 4 4 4 1 1 3 2 4]\n",
            " [3 3 2 0 0 1 3 1 2 4]\n",
            " [4 2 1 2 4 2 0 2 0 0]\n",
            " [1 3 2 4 3 3 3 1 3 4]]\n",
            "False\n"
          ]
        }
      ],
      "source": [
        "x = np.random.randint(0,5,(5,10))\n",
        "print(x)\n",
        "print((~x.any(axis=0)).any())"
      ]
    },
    {
      "cell_type": "markdown",
      "metadata": {
        "id": "kI9-VbLdCAxW"
      },
      "source": [
        "#### 61. Find the nearest value from a given value in an array (★★☆) \n",
        "(**hint**: np.abs, argmin, flat)"
      ]
    },
    {
      "cell_type": "code",
      "execution_count": null,
      "metadata": {
        "id": "FKIBCdQtCAxW",
        "colab": {
          "base_uri": "https://localhost:8080/"
        },
        "outputId": "81a84a43-87a9-4975-c0ff-dc4bbf6afbbe"
      },
      "outputs": [
        {
          "output_type": "stream",
          "name": "stdout",
          "text": [
            "Element: 1\n",
            "Index: 2\n"
          ]
        }
      ],
      "source": [
        "arr = np.array([8, 7, 1, 5, 3, 4])\n",
        "x = 2\n",
        "difference_array = np.absolute(arr-x)\n",
        "index = difference_array.argmin()\n",
        "print(\"Element:\", arr[index])\n",
        "print(\"Index:\", index)"
      ]
    },
    {
      "cell_type": "markdown",
      "metadata": {
        "id": "P2zawLNJCAxX"
      },
      "source": [
        "#### 62. Considering two arrays with shape (1,3) and (3,1), how to compute their sum using an iterator? (★★☆) \n",
        "(**hint**: np.nditer)"
      ]
    },
    {
      "cell_type": "code",
      "execution_count": null,
      "metadata": {
        "id": "qDLuWk47CAxX"
      },
      "outputs": [],
      "source": [
        "a = np.arange(5).reshape(1, 3)\n",
        "b = np.arange(5).reshape(3, 1)"
      ]
    },
    {
      "cell_type": "markdown",
      "metadata": {
        "id": "0XCWyjqeCAxX"
      },
      "source": [
        "#### 63. Create an array class that has a name attribute (★★☆) \n",
        "(**hint**: class method)"
      ]
    },
    {
      "cell_type": "code",
      "execution_count": null,
      "metadata": {
        "id": "uUbsQcbsCAxY",
        "colab": {
          "base_uri": "https://localhost:8080/"
        },
        "outputId": "5d8461fc-33ea-48d0-f829-59f721fd548e"
      },
      "outputs": [
        {
          "output_type": "stream",
          "name": "stdout",
          "text": [
            "range_10\n"
          ]
        }
      ],
      "source": [
        "class NamedArray(np.ndarray):\n",
        "    def __new__(cls, array, name=\"no name\"):\n",
        "        obj = np.asarray(array).view(cls)\n",
        "        obj.name = name\n",
        "        return obj\n",
        "    def __array_finalize__(self, obj):\n",
        "        self.info = getattr(obj, 'name', \"no name\")\n",
        "\n",
        "Z = NamedArray(np.arange(10), \"range_10\")\n",
        "print (Z.name)"
      ]
    },
    {
      "cell_type": "markdown",
      "metadata": {
        "id": "cBE6J_KtCAxY"
      },
      "source": [
        "#### 64. Consider a given vector, how to add 1 to each element indexed by a second vector (be careful with repeated indices)? (★★★) \n",
        "(**hint**: np.bincount | np.add.at)"
      ]
    },
    {
      "cell_type": "code",
      "execution_count": null,
      "metadata": {
        "id": "Wc1M_AWkCAxY",
        "colab": {
          "base_uri": "https://localhost:8080/"
        },
        "outputId": "1f2ec7fd-1c1d-46c7-fb84-a150832c6222"
      },
      "outputs": [
        {
          "output_type": "stream",
          "name": "stdout",
          "text": [
            "[2. 3. 3. 3. 3. 5. 5. 1. 2. 3.]\n"
          ]
        }
      ],
      "source": [
        "x = np.ones(10)\n",
        "y = np.random.randint(0,len(x),20)\n",
        "x += np.bincount(y, minlength=len(x))\n",
        "#z = np.add.at(x, y, 1)\n",
        "print(x)"
      ]
    },
    {
      "cell_type": "markdown",
      "metadata": {
        "id": "poo7VXStCAxY"
      },
      "source": [
        "#### 65. How to accumulate elements of a vector (X) to an array (F) based on an index list (I)? (★★★) \n",
        "(**hint**: np.bincount)"
      ]
    },
    {
      "cell_type": "code",
      "execution_count": null,
      "metadata": {
        "id": "GZmsoe9tCAxZ",
        "colab": {
          "base_uri": "https://localhost:8080/"
        },
        "outputId": "13ca57c3-4e00-49b6-92fb-9ea9858c0306"
      },
      "outputs": [
        {
          "output_type": "stream",
          "name": "stdout",
          "text": [
            "[0. 3. 0. 2. 6. 4. 1. 0. 0. 3.]\n"
          ]
        }
      ],
      "source": [
        "x = [3,4,1,2,3,6]\n",
        "y = [1,5,6,3,9,4]\n",
        "z = np.bincount(y,x)\n",
        "print(z)"
      ]
    },
    {
      "cell_type": "markdown",
      "metadata": {
        "id": "VCCDXOFRCAxZ"
      },
      "source": [
        "#### 66. Considering a (w,h,3) image of (dtype=ubyte), compute the number of unique colors (★★★) \n",
        "(**hint**: np.unique)"
      ]
    },
    {
      "cell_type": "code",
      "execution_count": null,
      "metadata": {
        "id": "tzUpzjmvCAxZ",
        "colab": {
          "base_uri": "https://localhost:8080/"
        },
        "outputId": "0c4b4a15-871e-46b2-f4a6-8afecfb46ec6"
      },
      "outputs": [
        {
          "output_type": "stream",
          "name": "stdout",
          "text": [
            "64\n"
          ]
        }
      ],
      "source": [
        "w, h = 256, 256\n",
        "I = np.random.randint(0, 4, (h, w, 3)).astype(np.ubyte)\n",
        "colors = np.unique(I.reshape(-1, 3), axis=0)\n",
        "n = len(colors)\n",
        "print(n)"
      ]
    },
    {
      "cell_type": "markdown",
      "metadata": {
        "id": "3n--7Qy6CAxZ"
      },
      "source": [
        "#### 67. Considering a four dimensions array, how to get sum over the last two axis at once? (★★★) \n",
        "(**hint**: sum(axis=(-2,-1)))"
      ]
    },
    {
      "cell_type": "code",
      "execution_count": null,
      "metadata": {
        "id": "9te8qsoeCAxa",
        "colab": {
          "base_uri": "https://localhost:8080/"
        },
        "outputId": "2236014d-cd76-49ca-b08b-c96c338d91f1"
      },
      "outputs": [
        {
          "output_type": "stream",
          "name": "stdout",
          "text": [
            "[[ 63  82  68  90]\n",
            " [ 56  96  78 104]\n",
            " [ 83  83  61  75]\n",
            " [ 77  71  73  72]\n",
            " [ 74  67  63  75]\n",
            " [ 94  79  94  61]]\n",
            "[[ 63  82  68  90]\n",
            " [ 56  96  78 104]\n",
            " [ 83  83  61  75]\n",
            " [ 77  71  73  72]\n",
            " [ 74  67  63  75]\n",
            " [ 94  79  94  61]]\n"
          ]
        }
      ],
      "source": [
        "A = np.random.randint(0,10,(6,4,2,8))\n",
        "sum = A.sum(axis=(-2,-1))\n",
        "print(sum)\n",
        "sum = A.reshape(A.shape[:-2] + (-1,)).sum(axis=-1)\n",
        "print(sum)"
      ]
    },
    {
      "cell_type": "markdown",
      "metadata": {
        "id": "v91rJeTaCAxa"
      },
      "source": [
        "#### 68. Considering a one-dimensional vector D, how to compute means of subsets of D using a vector S of same size describing subset  indices? (★★★) \n",
        "(**hint**: np.bincount)"
      ]
    },
    {
      "cell_type": "code",
      "execution_count": null,
      "metadata": {
        "id": "t3NDxQGLCAxa",
        "colab": {
          "base_uri": "https://localhost:8080/"
        },
        "outputId": "bf0de32e-4dc4-48b2-8a2c-3d6cc52a0ed9"
      },
      "outputs": [
        {
          "output_type": "stream",
          "name": "stdout",
          "text": [
            "[0.61430444 0.57810497 0.48424822 0.48051313 0.46293506 0.4403529\n",
            " 0.6289462  0.58413712 0.37888455 0.45242948]\n"
          ]
        }
      ],
      "source": [
        "x = np.random.uniform(0,1,100)\n",
        "y = np.random.randint(0,10,100)\n",
        "x_sums = np.bincount(y, weights=x)\n",
        "x_counts = np.bincount(y)\n",
        "x_means = x_sums / x_counts\n",
        "print(x_means)"
      ]
    },
    {
      "cell_type": "markdown",
      "metadata": {
        "id": "1s2Mhi81CAxb"
      },
      "source": [
        "#### 69. How to get the diagonal of a dot product? (★★★) \n",
        "(**hint**: np.diag)"
      ]
    },
    {
      "cell_type": "code",
      "execution_count": null,
      "metadata": {
        "id": "nUqZq-ukCAxb",
        "colab": {
          "base_uri": "https://localhost:8080/"
        },
        "outputId": "456c85a5-bbb5-4f21-98cf-434aea66264a"
      },
      "outputs": [
        {
          "output_type": "stream",
          "name": "stdout",
          "text": [
            "[3.1985562  1.93556961 2.75521947 2.75120778 2.8385267  2.77920612\n",
            " 2.6446989  2.70350677 2.03549095 1.94956749]\n"
          ]
        }
      ],
      "source": [
        "x = np.random.uniform(0,1,(10,10))\n",
        "y = np.random.uniform(0,1,(10,10))\n",
        "z = np.diag(np.dot(x, y))\n",
        "print(z)"
      ]
    },
    {
      "cell_type": "markdown",
      "metadata": {
        "id": "hcA3PVebCAxb"
      },
      "source": [
        "#### 70. Consider the vector \\[1, 2, 3, 4, 5\\], how to build a new vector with 3 consecutive zeros interleaved between each value? (★★★) \n",
        "(**hint**: array\\[::4\\])"
      ]
    },
    {
      "cell_type": "code",
      "execution_count": null,
      "metadata": {
        "id": "vQrj4pPlCAxc",
        "colab": {
          "base_uri": "https://localhost:8080/"
        },
        "outputId": "59635038-9ce9-4d7e-d662-e8ba48280810"
      },
      "outputs": [
        {
          "output_type": "stream",
          "name": "stdout",
          "text": [
            "[1. 0. 0. 0. 2. 0. 0. 0. 3. 0. 0. 0. 4. 0. 0. 0. 5.]\n"
          ]
        }
      ],
      "source": [
        "x = np.array([1,2,3,4,5])\n",
        "n = 3\n",
        "y = np.zeros(len(x) + (len(x)-1)*(n))\n",
        "y[::n+1] = x\n",
        "print(y)"
      ]
    },
    {
      "cell_type": "markdown",
      "metadata": {
        "id": "ZvTcbFrdCAxc"
      },
      "source": [
        "#### 71. Consider an array of dimension (5,5,3), how to mulitply it by an array with dimensions (5,5)? (★★★) \n",
        "(**hint**: array\\[:, :, None\\])"
      ]
    },
    {
      "cell_type": "code",
      "execution_count": null,
      "metadata": {
        "collapsed": true,
        "id": "WyMLxVlRCAxc",
        "colab": {
          "base_uri": "https://localhost:8080/"
        },
        "outputId": "3bebd088-3269-4055-e095-fcc29d357307"
      },
      "outputs": [
        {
          "output_type": "stream",
          "name": "stdout",
          "text": [
            "[[[2. 2. 2.]\n",
            "  [2. 2. 2.]\n",
            "  [2. 2. 2.]\n",
            "  [2. 2. 2.]\n",
            "  [2. 2. 2.]]\n",
            "\n",
            " [[2. 2. 2.]\n",
            "  [2. 2. 2.]\n",
            "  [2. 2. 2.]\n",
            "  [2. 2. 2.]\n",
            "  [2. 2. 2.]]\n",
            "\n",
            " [[2. 2. 2.]\n",
            "  [2. 2. 2.]\n",
            "  [2. 2. 2.]\n",
            "  [2. 2. 2.]\n",
            "  [2. 2. 2.]]\n",
            "\n",
            " [[2. 2. 2.]\n",
            "  [2. 2. 2.]\n",
            "  [2. 2. 2.]\n",
            "  [2. 2. 2.]\n",
            "  [2. 2. 2.]]\n",
            "\n",
            " [[2. 2. 2.]\n",
            "  [2. 2. 2.]\n",
            "  [2. 2. 2.]\n",
            "  [2. 2. 2.]\n",
            "  [2. 2. 2.]]]\n"
          ]
        }
      ],
      "source": [
        "x = np.ones((5,5,3))\n",
        "y = 2*np.ones((5,5))\n",
        "print(x * y[:,:,None])"
      ]
    },
    {
      "cell_type": "code",
      "source": [
        "import numpy as np"
      ],
      "metadata": {
        "id": "0DfFHk9pwj8b"
      },
      "execution_count": null,
      "outputs": []
    },
    {
      "cell_type": "markdown",
      "metadata": {
        "id": "O0Vbx3-ZCAxc"
      },
      "source": [
        "#### 72. How to swap two rows of an array? (★★★) \n",
        "(**hint**: array\\[\\[\\]\\] = array\\[\\[\\]\\])"
      ]
    },
    {
      "cell_type": "code",
      "execution_count": null,
      "metadata": {
        "id": "kKWAam8-CAxd",
        "colab": {
          "base_uri": "https://localhost:8080/"
        },
        "outputId": "64544746-b33e-484e-929e-3b151e5ddcb1"
      },
      "outputs": [
        {
          "output_type": "stream",
          "name": "stdout",
          "text": [
            "[[0 1 2]\n",
            " [3 4 5]\n",
            " [6 7 8]]\n",
            "[[3 4 5]\n",
            " [0 1 2]\n",
            " [6 7 8]]\n"
          ]
        }
      ],
      "source": [
        "x = np.arange(9).reshape(3,3)\n",
        "print(x)\n",
        "x[[0,1]] = x[[1,0]]\n",
        "print(x)"
      ]
    },
    {
      "cell_type": "markdown",
      "metadata": {
        "id": "SlziY5RfCAxd"
      },
      "source": [
        "#### 73. Consider a set of 10 triplets describing 10 triangles (with shared vertices), find the set of unique line segments composing all the  triangles (★★★) \n",
        "(**hint**: repeat, np.roll, np.sort, view, np.unique)"
      ]
    },
    {
      "cell_type": "code",
      "execution_count": null,
      "metadata": {
        "id": "Sw73jhpFCAxd",
        "colab": {
          "base_uri": "https://localhost:8080/"
        },
        "outputId": "a3f97da3-344e-4e10-aeee-b7870e843283"
      },
      "outputs": [
        {
          "output_type": "stream",
          "name": "stdout",
          "text": [
            "[( 0,  5) ( 0, 16) ( 3, 52) ( 3, 94) ( 5, 16) ( 6, 23) ( 6, 29) ( 7, 62)\n",
            " ( 7, 67) (16, 17) (16, 61) (17, 61) (19, 61) (19, 93) (23, 29) (24, 34)\n",
            " (24, 38) (34, 38) (35, 36) (35, 91) (36, 91) (46, 47) (46, 64) (47, 62)\n",
            " (47, 64) (47, 71) (52, 94) (61, 93) (62, 67) (62, 71)]\n"
          ]
        }
      ],
      "source": [
        "faces = np.random.randint(0,100,(10,3))\n",
        "F = np.roll(faces.repeat(2,axis=1),-1,axis=1)\n",
        "F = F.reshape(len(F)*3,2)\n",
        "F = np.sort(F,axis=1)\n",
        "G = F.view( dtype=[('p0',F.dtype),('p1',F.dtype)] )\n",
        "G = np.unique(G)\n",
        "print(G)"
      ]
    },
    {
      "cell_type": "markdown",
      "metadata": {
        "id": "JWYnXPsPCAxe"
      },
      "source": [
        "#### 74. Given an array C that is a bincount, how to produce an array A such that np.bincount(A) == C? (★★★) \n",
        "(**hint**: np.repeat)"
      ]
    },
    {
      "cell_type": "code",
      "execution_count": null,
      "metadata": {
        "id": "0KqkA1CICAxe",
        "colab": {
          "base_uri": "https://localhost:8080/"
        },
        "outputId": "17a9e616-180f-476e-a177-3167c58e331f"
      },
      "outputs": [
        {
          "output_type": "stream",
          "name": "stdout",
          "text": [
            "[1 1 2 3 4 4 6]\n"
          ]
        }
      ],
      "source": [
        "c = np.bincount([1,1,2,3,4,4,6])\n",
        "x = np.repeat(np.arange(len(c)), c)\n",
        "print(x)"
      ]
    },
    {
      "cell_type": "markdown",
      "metadata": {
        "id": "pcItPfKVCAxe"
      },
      "source": [
        "#### 75. How to compute averages using a sliding window over an array? (★★★) \n",
        "(**hint**: np.cumsum)"
      ]
    },
    {
      "cell_type": "code",
      "execution_count": null,
      "metadata": {
        "id": "5n9LXCfwCAxe",
        "colab": {
          "base_uri": "https://localhost:8080/"
        },
        "outputId": "6d6b842f-8749-4490-884c-d314a3c72319"
      },
      "outputs": [
        {
          "output_type": "stream",
          "name": "stdout",
          "text": [
            "[1.0, 4.0, 4.33, 4.0, 4.8]\n"
          ]
        }
      ],
      "source": [
        "arr = [1, 7, 5, 3, 8]\n",
        "i = 1\n",
        "moving_averages = []\n",
        "cum_sum = np.cumsum(arr);\n",
        "while i <= len(arr):\n",
        "\n",
        "    window_average = round(cum_sum[i-1] / i, 2)\n",
        "    moving_averages.append(window_average)\n",
        "    i += 1 \n",
        "print(moving_averages)"
      ]
    },
    {
      "cell_type": "markdown",
      "metadata": {
        "id": "aEtlyXw0CAxf"
      },
      "source": [
        "#### 76. Consider a one-dimensional array Z, build a two-dimensional array whose first row is (Z\\[0\\],Z\\[1\\],Z\\[2\\]) and each subsequent row is  shifted by 1 (last row should be (Z\\[-3\\],Z\\[-2\\],Z\\[-1\\]) (★★★) \n",
        "(**hint**: from numpy.lib import stride_tricks)"
      ]
    },
    {
      "cell_type": "code",
      "execution_count": null,
      "metadata": {
        "id": "fFD2tpR_CAxf",
        "colab": {
          "base_uri": "https://localhost:8080/"
        },
        "outputId": "33b94b52-a71f-4ad6-ac78-bed7c1742640"
      },
      "outputs": [
        {
          "output_type": "stream",
          "name": "stdout",
          "text": [
            "[[0 1 2]\n",
            " [1 2 3]\n",
            " [2 3 4]\n",
            " [3 4 5]\n",
            " [4 5 6]\n",
            " [5 6 7]\n",
            " [6 7 8]\n",
            " [7 8 9]]\n"
          ]
        }
      ],
      "source": [
        "from numpy.lib import stride_tricks\n",
        "\n",
        "def rolling(a, window):\n",
        "    shape = (a.size - window + 1, window)\n",
        "    strides = (a.strides[0], a.strides[0])\n",
        "    return stride_tricks.as_strided(a, shape=shape, strides=strides)\n",
        "x = rolling(np.arange(10), 3)\n",
        "print(x)"
      ]
    },
    {
      "cell_type": "markdown",
      "metadata": {
        "id": "dTOQtd-dCAxf"
      },
      "source": [
        "#### 77. How to negate a boolean, or to change the sign of a float inplace? (★★★) \n",
        "(**hint**: np.logical_not, np.negative)"
      ]
    },
    {
      "cell_type": "code",
      "execution_count": null,
      "metadata": {
        "id": "UUXMwlU_CAxg",
        "colab": {
          "base_uri": "https://localhost:8080/"
        },
        "outputId": "47d3fb5e-045b-40e6-ab94-4d90986b477d"
      },
      "outputs": [
        {
          "output_type": "execute_result",
          "data": {
            "text/plain": [
              "array([ 0.78494263,  0.39240861,  0.0741072 ,  0.59241805, -0.57069188,\n",
              "       -0.15029193, -0.76882113, -0.39029709,  0.14903878,  0.9483896 ,\n",
              "       -0.03971723,  0.50941713, -0.5491401 ,  0.11335748,  0.19705768,\n",
              "        0.12610166, -0.8130988 , -0.95077923,  0.36791185,  0.47833875,\n",
              "       -0.12570322, -0.31584962,  0.42142041,  0.42867505,  0.2255437 ,\n",
              "       -0.35231826,  0.23844945, -0.2847279 , -0.82408002,  0.30175766,\n",
              "       -0.47781519,  0.8859626 , -0.37939385,  0.72299748, -0.09137693,\n",
              "       -0.13472567, -0.73127155, -0.56249277, -0.63451945,  0.96616968,\n",
              "       -0.31041732, -0.84867723, -0.36092952,  0.00380305, -0.88396418,\n",
              "       -0.97652145,  0.69698211, -0.62860781, -0.14425524,  0.841673  ,\n",
              "       -0.61352872, -0.74186883,  0.63497878,  0.33805541, -0.96372351,\n",
              "        0.40588638, -0.59149266, -0.7849216 ,  0.06060535, -0.11476763,\n",
              "       -0.42052721, -0.71464646,  0.59572291,  0.55698598,  0.95445453,\n",
              "        0.97846751, -0.28247238,  0.81700372,  0.92903245, -0.38931697,\n",
              "       -0.17900245,  0.7958671 , -0.84846793,  0.39541457, -0.14231631,\n",
              "        0.44374181, -0.68850612,  0.16964326, -0.66112265, -0.14946028,\n",
              "       -0.76405438,  0.33635587,  0.84620098,  0.57255784,  0.82474025,\n",
              "       -0.43872279,  0.73258874, -0.04727332,  0.85625743,  0.8603388 ,\n",
              "        0.41936937,  0.97919345,  0.29871102,  0.85739809, -0.2410835 ,\n",
              "        0.75457027,  0.22608288, -0.97793121,  0.86635542, -0.40304303])"
            ]
          },
          "metadata": {},
          "execution_count": 10
        }
      ],
      "source": [
        "x = np.random.randint(0,2,100)\n",
        "np.logical_not(x, out=x)\n",
        "\n",
        "x = np.random.uniform(-1.0,1.0,100)\n",
        "np.negative(x, out=x)"
      ]
    },
    {
      "cell_type": "markdown",
      "metadata": {
        "id": "CZ4UqI4wCAxg"
      },
      "source": [
        "#### 78. Consider 2 sets of points P0,P1 describing lines (2d) and a point p, how to compute distance from p to each line i  (P0\\[i\\],P1\\[i\\])? (★★★)"
      ]
    },
    {
      "cell_type": "code",
      "execution_count": null,
      "metadata": {
        "id": "sbGfaFuaCAxg"
      },
      "outputs": [],
      "source": []
    },
    {
      "cell_type": "markdown",
      "metadata": {
        "id": "8x5dL1bkCAxg"
      },
      "source": [
        "#### 79. Consider 2 sets of points P0,P1 describing lines (2d) and a set of points P, how to compute distance from each point j (P\\[j\\]) to each line i (P0\\[i\\],P1\\[i\\])? (★★★)"
      ]
    },
    {
      "cell_type": "code",
      "execution_count": null,
      "metadata": {
        "id": "lRZZoz0FCAxh"
      },
      "outputs": [],
      "source": []
    },
    {
      "cell_type": "markdown",
      "metadata": {
        "id": "hLyQ112wCAxh"
      },
      "source": [
        "#### 80. Consider an arbitrary array, write a function that extract a subpart with a fixed shape and centered on a given element (pad with a `fill` value when necessary) (★★★) \n",
        "(**hint**: minimum, maximum)"
      ]
    },
    {
      "cell_type": "code",
      "execution_count": null,
      "metadata": {
        "id": "4e0P6F1CCAxh"
      },
      "outputs": [],
      "source": []
    },
    {
      "cell_type": "markdown",
      "metadata": {
        "id": "7juBQxonCAxh"
      },
      "source": [
        "#### 81. Consider an array Z = \\[1,2,3,4,5,6,7,8,9,10,11,12,13,14\\], how to generate an array R = \\[\\[1,2,3,4\\], \\[2,3,4,5\\], \\[3,4,5,6\\], ..., \\[11,12,13,14\\]\\]? (★★★) \n",
        "(**hint**: stride\\_tricks.as\\_strided)"
      ]
    },
    {
      "cell_type": "code",
      "execution_count": null,
      "metadata": {
        "id": "i5wkKvtZCAxi",
        "colab": {
          "base_uri": "https://localhost:8080/"
        },
        "outputId": "bfa4706b-89aa-4eb2-eb21-3bc99d6c2dab"
      },
      "outputs": [
        {
          "output_type": "stream",
          "name": "stdout",
          "text": [
            "[[ 1  2  3  4]\n",
            " [ 2  3  4  5]\n",
            " [ 3  4  5  6]\n",
            " [ 4  5  6  7]\n",
            " [ 5  6  7  8]\n",
            " [ 6  7  8  9]\n",
            " [ 7  8  9 10]\n",
            " [ 8  9 10 11]\n",
            " [ 9 10 11 12]\n",
            " [10 11 12 13]\n",
            " [11 12 13 14]]\n"
          ]
        }
      ],
      "source": [
        "Z = np.arange(1,15,dtype=np.uint32)\n",
        "R = stride_tricks.as_strided(Z,(11,4),(4,4))\n",
        "print(R)"
      ]
    },
    {
      "cell_type": "markdown",
      "metadata": {
        "id": "bPeaVuMJCAxi"
      },
      "source": [
        "#### 82. Compute a matrix rank (★★★) \n",
        "(**hint**: np.linalg.svd) (suggestion: np.linalg.svd)"
      ]
    },
    {
      "cell_type": "code",
      "execution_count": null,
      "metadata": {
        "id": "fUHLmGtvCAxi",
        "colab": {
          "base_uri": "https://localhost:8080/"
        },
        "outputId": "d73de3d3-3ac4-4aa2-8928-799c97678618"
      },
      "outputs": [
        {
          "output_type": "stream",
          "name": "stdout",
          "text": [
            "10\n"
          ]
        }
      ],
      "source": [
        "x = np.random.uniform(0,1,(10,10))\n",
        "U, S, V = np.linalg.svd(x) # Singular Value Decomposition\n",
        "rank = np.sum(S > 1e-10)\n",
        "print(rank)"
      ]
    },
    {
      "cell_type": "markdown",
      "metadata": {
        "id": "2nIbp7IDCAxj"
      },
      "source": [
        "#### 83. How to find the most frequent value in an array? \n",
        "(**hint**: np.bincount, argmax)"
      ]
    },
    {
      "cell_type": "code",
      "execution_count": null,
      "metadata": {
        "id": "p-va6QELCAxj",
        "colab": {
          "base_uri": "https://localhost:8080/"
        },
        "outputId": "b39362cf-76e4-4280-c886-556fccf63547"
      },
      "outputs": [
        {
          "output_type": "stream",
          "name": "stdout",
          "text": [
            "7\n"
          ]
        }
      ],
      "source": [
        "Z = np.random.randint(0,8,16)\n",
        "print(np.bincount(Z).argmax())"
      ]
    },
    {
      "cell_type": "markdown",
      "metadata": {
        "id": "RiGjZnXYCAxj"
      },
      "source": [
        "#### 84. Extract all the contiguous 3x3 blocks from a random 10x10 matrix (★★★) \n",
        "(**hint**: stride\\_tricks.as\\_strided)"
      ]
    },
    {
      "cell_type": "code",
      "execution_count": null,
      "metadata": {
        "id": "HrHTmcEPCAxj",
        "colab": {
          "base_uri": "https://localhost:8080/"
        },
        "outputId": "edb6225a-d84d-448b-d3dd-d5e02374cd66"
      },
      "outputs": [
        {
          "output_type": "stream",
          "name": "stdout",
          "text": [
            "[[[[0 0 1]\n",
            "   [4 2 2]\n",
            "   [1 0 2]]\n",
            "\n",
            "  [[0 1 1]\n",
            "   [2 2 2]\n",
            "   [0 2 3]]\n",
            "\n",
            "  [[1 1 3]\n",
            "   [2 2 0]\n",
            "   [2 3 2]]\n",
            "\n",
            "  [[1 3 1]\n",
            "   [2 0 2]\n",
            "   [3 2 3]]\n",
            "\n",
            "  [[3 1 3]\n",
            "   [0 2 1]\n",
            "   [2 3 3]]\n",
            "\n",
            "  [[1 3 1]\n",
            "   [2 1 2]\n",
            "   [3 3 3]]\n",
            "\n",
            "  [[3 1 2]\n",
            "   [1 2 3]\n",
            "   [3 3 4]]\n",
            "\n",
            "  [[1 2 4]\n",
            "   [2 3 1]\n",
            "   [3 4 4]]]\n",
            "\n",
            "\n",
            " [[[4 2 2]\n",
            "   [1 0 2]\n",
            "   [2 0 3]]\n",
            "\n",
            "  [[2 2 2]\n",
            "   [0 2 3]\n",
            "   [0 3 0]]\n",
            "\n",
            "  [[2 2 0]\n",
            "   [2 3 2]\n",
            "   [3 0 1]]\n",
            "\n",
            "  [[2 0 2]\n",
            "   [3 2 3]\n",
            "   [0 1 0]]\n",
            "\n",
            "  [[0 2 1]\n",
            "   [2 3 3]\n",
            "   [1 0 4]]\n",
            "\n",
            "  [[2 1 2]\n",
            "   [3 3 3]\n",
            "   [0 4 4]]\n",
            "\n",
            "  [[1 2 3]\n",
            "   [3 3 4]\n",
            "   [4 4 0]]\n",
            "\n",
            "  [[2 3 1]\n",
            "   [3 4 4]\n",
            "   [4 0 0]]]\n",
            "\n",
            "\n",
            " [[[1 0 2]\n",
            "   [2 0 3]\n",
            "   [4 1 0]]\n",
            "\n",
            "  [[0 2 3]\n",
            "   [0 3 0]\n",
            "   [1 0 0]]\n",
            "\n",
            "  [[2 3 2]\n",
            "   [3 0 1]\n",
            "   [0 0 1]]\n",
            "\n",
            "  [[3 2 3]\n",
            "   [0 1 0]\n",
            "   [0 1 3]]\n",
            "\n",
            "  [[2 3 3]\n",
            "   [1 0 4]\n",
            "   [1 3 2]]\n",
            "\n",
            "  [[3 3 3]\n",
            "   [0 4 4]\n",
            "   [3 2 4]]\n",
            "\n",
            "  [[3 3 4]\n",
            "   [4 4 0]\n",
            "   [2 4 0]]\n",
            "\n",
            "  [[3 4 4]\n",
            "   [4 0 0]\n",
            "   [4 0 0]]]\n",
            "\n",
            "\n",
            " [[[2 0 3]\n",
            "   [4 1 0]\n",
            "   [3 1 1]]\n",
            "\n",
            "  [[0 3 0]\n",
            "   [1 0 0]\n",
            "   [1 1 4]]\n",
            "\n",
            "  [[3 0 1]\n",
            "   [0 0 1]\n",
            "   [1 4 2]]\n",
            "\n",
            "  [[0 1 0]\n",
            "   [0 1 3]\n",
            "   [4 2 3]]\n",
            "\n",
            "  [[1 0 4]\n",
            "   [1 3 2]\n",
            "   [2 3 2]]\n",
            "\n",
            "  [[0 4 4]\n",
            "   [3 2 4]\n",
            "   [3 2 2]]\n",
            "\n",
            "  [[4 4 0]\n",
            "   [2 4 0]\n",
            "   [2 2 0]]\n",
            "\n",
            "  [[4 0 0]\n",
            "   [4 0 0]\n",
            "   [2 0 4]]]\n",
            "\n",
            "\n",
            " [[[4 1 0]\n",
            "   [3 1 1]\n",
            "   [3 3 3]]\n",
            "\n",
            "  [[1 0 0]\n",
            "   [1 1 4]\n",
            "   [3 3 4]]\n",
            "\n",
            "  [[0 0 1]\n",
            "   [1 4 2]\n",
            "   [3 4 1]]\n",
            "\n",
            "  [[0 1 3]\n",
            "   [4 2 3]\n",
            "   [4 1 1]]\n",
            "\n",
            "  [[1 3 2]\n",
            "   [2 3 2]\n",
            "   [1 1 4]]\n",
            "\n",
            "  [[3 2 4]\n",
            "   [3 2 2]\n",
            "   [1 4 4]]\n",
            "\n",
            "  [[2 4 0]\n",
            "   [2 2 0]\n",
            "   [4 4 3]]\n",
            "\n",
            "  [[4 0 0]\n",
            "   [2 0 4]\n",
            "   [4 3 2]]]\n",
            "\n",
            "\n",
            " [[[3 1 1]\n",
            "   [3 3 3]\n",
            "   [2 1 4]]\n",
            "\n",
            "  [[1 1 4]\n",
            "   [3 3 4]\n",
            "   [1 4 0]]\n",
            "\n",
            "  [[1 4 2]\n",
            "   [3 4 1]\n",
            "   [4 0 2]]\n",
            "\n",
            "  [[4 2 3]\n",
            "   [4 1 1]\n",
            "   [0 2 3]]\n",
            "\n",
            "  [[2 3 2]\n",
            "   [1 1 4]\n",
            "   [2 3 0]]\n",
            "\n",
            "  [[3 2 2]\n",
            "   [1 4 4]\n",
            "   [3 0 2]]\n",
            "\n",
            "  [[2 2 0]\n",
            "   [4 4 3]\n",
            "   [0 2 4]]\n",
            "\n",
            "  [[2 0 4]\n",
            "   [4 3 2]\n",
            "   [2 4 3]]]\n",
            "\n",
            "\n",
            " [[[3 3 3]\n",
            "   [2 1 4]\n",
            "   [0 2 2]]\n",
            "\n",
            "  [[3 3 4]\n",
            "   [1 4 0]\n",
            "   [2 2 0]]\n",
            "\n",
            "  [[3 4 1]\n",
            "   [4 0 2]\n",
            "   [2 0 4]]\n",
            "\n",
            "  [[4 1 1]\n",
            "   [0 2 3]\n",
            "   [0 4 4]]\n",
            "\n",
            "  [[1 1 4]\n",
            "   [2 3 0]\n",
            "   [4 4 4]]\n",
            "\n",
            "  [[1 4 4]\n",
            "   [3 0 2]\n",
            "   [4 4 3]]\n",
            "\n",
            "  [[4 4 3]\n",
            "   [0 2 4]\n",
            "   [4 3 3]]\n",
            "\n",
            "  [[4 3 2]\n",
            "   [2 4 3]\n",
            "   [3 3 2]]]\n",
            "\n",
            "\n",
            " [[[2 1 4]\n",
            "   [0 2 2]\n",
            "   [4 3 3]]\n",
            "\n",
            "  [[1 4 0]\n",
            "   [2 2 0]\n",
            "   [3 3 1]]\n",
            "\n",
            "  [[4 0 2]\n",
            "   [2 0 4]\n",
            "   [3 1 4]]\n",
            "\n",
            "  [[0 2 3]\n",
            "   [0 4 4]\n",
            "   [1 4 3]]\n",
            "\n",
            "  [[2 3 0]\n",
            "   [4 4 4]\n",
            "   [4 3 4]]\n",
            "\n",
            "  [[3 0 2]\n",
            "   [4 4 3]\n",
            "   [3 4 0]]\n",
            "\n",
            "  [[0 2 4]\n",
            "   [4 3 3]\n",
            "   [4 0 0]]\n",
            "\n",
            "  [[2 4 3]\n",
            "   [3 3 2]\n",
            "   [0 0 3]]]]\n"
          ]
        }
      ],
      "source": [
        "x = np.random.randint(0,5,(10,10))\n",
        "n = 3\n",
        "i = 1 + (x.shape[0]-3)\n",
        "j = 1 + (x.shape[1]-3)\n",
        "y = stride_tricks.as_strided(x, shape=(i, j, n, n), strides=x.strides + x.strides)\n",
        "print(y)"
      ]
    },
    {
      "cell_type": "markdown",
      "metadata": {
        "id": "IX1cGwvSCAxk"
      },
      "source": [
        "#### 85. Create a 2D array subclass such that Z\\[i,j\\] == Z\\[j,i\\] (★★★) \n",
        "(**hint**: class method)"
      ]
    },
    {
      "cell_type": "code",
      "execution_count": null,
      "metadata": {
        "id": "VLhNIOb5CAxm"
      },
      "outputs": [],
      "source": []
    },
    {
      "cell_type": "markdown",
      "metadata": {
        "id": "5Jg_GOlACAxm"
      },
      "source": [
        "#### 86. Consider a set of p matrices wich shape (n,n) and a set of p vectors with shape (n,1). How to compute the sum of of the p matrix products at once? (result has shape (n,1)) (★★★) \n",
        "(**hint**: np.tensordot)"
      ]
    },
    {
      "cell_type": "code",
      "execution_count": null,
      "metadata": {
        "id": "nejMijLdCAxn",
        "colab": {
          "base_uri": "https://localhost:8080/"
        },
        "outputId": "a6fb335a-a2bf-4d13-f0ac-0b2e3bd9081e"
      },
      "outputs": [
        {
          "output_type": "stream",
          "name": "stdout",
          "text": [
            "[[200.]\n",
            " [200.]\n",
            " [200.]\n",
            " [200.]\n",
            " [200.]\n",
            " [200.]\n",
            " [200.]\n",
            " [200.]\n",
            " [200.]\n",
            " [200.]\n",
            " [200.]\n",
            " [200.]\n",
            " [200.]\n",
            " [200.]\n",
            " [200.]\n",
            " [200.]\n",
            " [200.]\n",
            " [200.]\n",
            " [200.]\n",
            " [200.]]\n"
          ]
        }
      ],
      "source": [
        "p, n = 10, 20\n",
        "M = np.ones((p,n,n))\n",
        "V = np.ones((p,n,1))\n",
        "S = np.tensordot(M, V, axes=[[0, 2], [0, 1]])\n",
        "print(S)"
      ]
    },
    {
      "cell_type": "markdown",
      "metadata": {
        "id": "6gmlJ5IhCAxn"
      },
      "source": [
        "#### 87. Consider a 16x16 array, how to get the block-sum (block size is 4x4)? (★★★) \n",
        "(**hint**: np.add.reduceat)"
      ]
    },
    {
      "cell_type": "code",
      "execution_count": null,
      "metadata": {
        "id": "x_lIwHDXCAxo",
        "colab": {
          "base_uri": "https://localhost:8080/"
        },
        "outputId": "7a278879-b2cd-4686-fb7f-6d0d6dd34c85"
      },
      "outputs": [
        {
          "output_type": "stream",
          "name": "stdout",
          "text": [
            "[[1. 1. 1. 1. 1. 1. 1. 1. 1. 1. 1. 1. 1. 1. 1. 1.]\n",
            " [1. 1. 1. 1. 1. 1. 1. 1. 1. 1. 1. 1. 1. 1. 1. 1.]\n",
            " [1. 1. 1. 1. 1. 1. 1. 1. 1. 1. 1. 1. 1. 1. 1. 1.]\n",
            " [1. 1. 1. 1. 1. 1. 1. 1. 1. 1. 1. 1. 1. 1. 1. 1.]\n",
            " [1. 1. 1. 1. 1. 1. 1. 1. 1. 1. 1. 1. 1. 1. 1. 1.]\n",
            " [1. 1. 1. 1. 1. 1. 1. 1. 1. 1. 1. 1. 1. 1. 1. 1.]\n",
            " [1. 1. 1. 1. 1. 1. 1. 1. 1. 1. 1. 1. 1. 1. 1. 1.]\n",
            " [1. 1. 1. 1. 1. 1. 1. 1. 1. 1. 1. 1. 1. 1. 1. 1.]\n",
            " [1. 1. 1. 1. 1. 1. 1. 1. 1. 1. 1. 1. 1. 1. 1. 1.]\n",
            " [1. 1. 1. 1. 1. 1. 1. 1. 1. 1. 1. 1. 1. 1. 1. 1.]\n",
            " [1. 1. 1. 1. 1. 1. 1. 1. 1. 1. 1. 1. 1. 1. 1. 1.]\n",
            " [1. 1. 1. 1. 1. 1. 1. 1. 1. 1. 1. 1. 1. 1. 1. 1.]\n",
            " [1. 1. 1. 1. 1. 1. 1. 1. 1. 1. 1. 1. 1. 1. 1. 1.]\n",
            " [1. 1. 1. 1. 1. 1. 1. 1. 1. 1. 1. 1. 1. 1. 1. 1.]\n",
            " [1. 1. 1. 1. 1. 1. 1. 1. 1. 1. 1. 1. 1. 1. 1. 1.]\n",
            " [1. 1. 1. 1. 1. 1. 1. 1. 1. 1. 1. 1. 1. 1. 1. 1.]]\n",
            "[[16. 16. 16. 16.]\n",
            " [16. 16. 16. 16.]\n",
            " [16. 16. 16. 16.]\n",
            " [16. 16. 16. 16.]]\n"
          ]
        }
      ],
      "source": [
        "x = np.ones((16,16))\n",
        "k = 4\n",
        "print(x)\n",
        "result = np.add.reduceat(np.add.reduceat(x, np.arange(0, x.shape[0], k), axis=0),\n",
        "                                      np.arange(0, x.shape[1], k), axis=1)\n",
        "print(result)"
      ]
    },
    {
      "cell_type": "markdown",
      "metadata": {
        "id": "il3dDUsaCAxo"
      },
      "source": [
        "#### 88. How to implement the Game of Life using numpy arrays? (★★★)"
      ]
    },
    {
      "cell_type": "code",
      "execution_count": null,
      "metadata": {
        "id": "RvcSDIeHCAxo"
      },
      "outputs": [],
      "source": []
    },
    {
      "cell_type": "markdown",
      "metadata": {
        "id": "e8CAdEYSCAxo"
      },
      "source": [
        "#### 89. How to get the n largest values of an array (★★★) \n",
        "(**hint**: np.argsort | np.argpartition)"
      ]
    },
    {
      "cell_type": "code",
      "execution_count": null,
      "metadata": {
        "id": "8txrU0cmCAxp",
        "colab": {
          "base_uri": "https://localhost:8080/"
        },
        "outputId": "c19ae7d4-d379-4a07-ffc2-282385a35df1"
      },
      "outputs": [
        {
          "output_type": "stream",
          "name": "stdout",
          "text": [
            "[2 0 1 5 4 1 9]\n",
            "[0 1 1 2 4 5 9]\n",
            "1 largest value: 9\n"
          ]
        }
      ],
      "source": [
        "arr = np.array([2, 0,  1, 5, 4, 1, 9])  \n",
        "print(arr)\n",
        "sorted_index_array = np.argsort(arr)\n",
        "sorted_array = arr[sorted_index_array]\n",
        "print(sorted_array)\n",
        "n = 1\n",
        "rslt = sorted_array[-n : ]\n",
        "print(\"{} largest value:\".format(n), rslt[0])"
      ]
    },
    {
      "cell_type": "markdown",
      "metadata": {
        "id": "5PtcUREgCAxp"
      },
      "source": [
        "#### 90. Given an arbitrary number of vectors, build the cartesian product (every combinations of every item) (★★★) \n",
        "(**hint**: np.indices)"
      ]
    },
    {
      "cell_type": "code",
      "execution_count": null,
      "metadata": {
        "scrolled": true,
        "id": "2sTbh-sGCAxp",
        "colab": {
          "base_uri": "https://localhost:8080/"
        },
        "outputId": "72fe7c4a-7fda-423f-99ef-136d9c6418a1"
      },
      "outputs": [
        {
          "output_type": "stream",
          "name": "stdout",
          "text": [
            "[[1 4 6]\n",
            " [1 4 7]\n",
            " [1 5 6]\n",
            " [1 5 7]\n",
            " [2 4 6]\n",
            " [2 4 7]\n",
            " [2 5 6]\n",
            " [2 5 7]\n",
            " [3 4 6]\n",
            " [3 4 7]\n",
            " [3 5 6]\n",
            " [3 5 7]]\n"
          ]
        }
      ],
      "source": [
        "def cartesian(arrays):\n",
        "    arrays = [np.asarray(a) for a in arrays]\n",
        "    shape = (len(x) for x in arrays)\n",
        "\n",
        "    ix = np.indices(shape, dtype=int)\n",
        "    ix = ix.reshape(len(arrays), -1).T\n",
        "\n",
        "    for n, arr in enumerate(arrays):\n",
        "        ix[:, n] = arrays[n][ix[:, n]]\n",
        "\n",
        "    return ix\n",
        "\n",
        "print (cartesian(([1, 2, 3], [4, 5], [6, 7])))"
      ]
    },
    {
      "cell_type": "markdown",
      "metadata": {
        "id": "2Z2BgBWcCAxp"
      },
      "source": [
        "#### 91. How to create a record array from a regular array? (★★★) \n",
        "(**hint**: np.core.records.fromarrays)"
      ]
    },
    {
      "cell_type": "code",
      "execution_count": null,
      "metadata": {
        "id": "F61fAvapCAxq",
        "colab": {
          "base_uri": "https://localhost:8080/"
        },
        "outputId": "54d7e04d-6f44-4166-faba-a5bca653c921"
      },
      "outputs": [
        {
          "output_type": "stream",
          "name": "stdout",
          "text": [
            "[(b'Karishma',  8,  23) (b'Suryawanshi', 11, 100)]\n"
          ]
        }
      ],
      "source": [
        "x = np.array([(\"Karishma\", 8, 23),\n",
        "              (\"Suryawanshi\", 11, 100 )])\n",
        "y = np.core.records.fromarrays(x.T,\n",
        "                               names='col1, col2, col3',\n",
        "                               formats = 'S15, i8, i8')\n",
        "print(y)"
      ]
    },
    {
      "cell_type": "code",
      "source": [
        "import numpy as np"
      ],
      "metadata": {
        "id": "f-abMva5m5zY"
      },
      "execution_count": null,
      "outputs": []
    },
    {
      "cell_type": "markdown",
      "metadata": {
        "id": "8rhA8U0PCAxq"
      },
      "source": [
        "#### 92. Consider a large vector Z, compute Z to the power of 3 using 3 different methods (★★★) \n",
        "(**hint**: np.power, \\*, np.einsum)"
      ]
    },
    {
      "cell_type": "code",
      "execution_count": null,
      "metadata": {
        "id": "LYCf2BFECAxq",
        "colab": {
          "base_uri": "https://localhost:8080/"
        },
        "outputId": "e4d21b24-e556-4f44-f0fd-912f8cf1c839"
      },
      "outputs": [
        {
          "output_type": "stream",
          "name": "stdout",
          "text": [
            "21.8 ms ± 466 µs per loop (mean ± std. dev. of 7 runs, 10 loops each)\n",
            "372 µs ± 32.8 µs per loop (mean ± std. dev. of 7 runs, 1000 loops each)\n",
            "442 µs ± 11.4 µs per loop (mean ± std. dev. of 7 runs, 1000 loops each)\n"
          ]
        }
      ],
      "source": [
        "x = np.random.rand(int(5e5))\n",
        "\n",
        "%timeit np.power(x,3)\n",
        "%timeit x*x*x\n",
        "%timeit np.einsum('i,i,i->i',x,x,x)"
      ]
    },
    {
      "cell_type": "markdown",
      "metadata": {
        "id": "_p5k7LnnCAxq"
      },
      "source": [
        "#### 93. Consider two arrays A and B of shape (8,3) and (2,2). How to find rows of A that contain elements of each row of B regardless of the order of the elements in B? (★★★) \n",
        "(**hint**: np.where)"
      ]
    },
    {
      "cell_type": "code",
      "execution_count": null,
      "metadata": {
        "id": "6-7DY_xXCAxr",
        "colab": {
          "base_uri": "https://localhost:8080/"
        },
        "outputId": "13a9fdbe-d465-4d67-c26a-301d848545f2"
      },
      "outputs": [
        {
          "output_type": "stream",
          "name": "stdout",
          "text": [
            "[[3 0 4]\n",
            " [2 1 5]\n",
            " [3 0 2]\n",
            " [2 2 1]\n",
            " [5 0 2]\n",
            " [0 3 5]\n",
            " [5 0 0]\n",
            " [1 5 5]]\n",
            "[[3 1]\n",
            " [4 2]]\n",
            "[0 1 2 3]\n"
          ]
        }
      ],
      "source": [
        "A = np.random.randint(0,6,(8,3))\n",
        "B = np.random.randint(0,6,(2,2))\n",
        "print(A)\n",
        "print(B)\n",
        "temp = (A[..., np.newaxis, np.newaxis] == B)\n",
        "rows = (temp.sum(axis=(1,2,3)) >= B.shape[1]).nonzero()[0]\n",
        "print(rows)"
      ]
    },
    {
      "cell_type": "markdown",
      "metadata": {
        "id": "7NX3wLjnCAxr"
      },
      "source": [
        "#### 94. Considering a 10x3 matrix, extract rows with unequal values (e.g. \\[2,2,3\\]) (★★★)"
      ]
    },
    {
      "cell_type": "code",
      "execution_count": null,
      "metadata": {
        "id": "AdtsjP5NCAxr",
        "colab": {
          "base_uri": "https://localhost:8080/"
        },
        "outputId": "c6a43ec8-471f-401a-873b-9b15436263c8"
      },
      "outputs": [
        {
          "output_type": "stream",
          "name": "stdout",
          "text": [
            "[[0 0 2]\n",
            " [1 1 3]\n",
            " [1 0 3]\n",
            " [3 1 2]\n",
            " [0 2 2]\n",
            " [3 1 3]]\n",
            "[[0 0 2]\n",
            " [1 1 3]\n",
            " [1 0 3]\n",
            " [3 1 2]\n",
            " [0 2 2]\n",
            " [3 1 3]]\n"
          ]
        }
      ],
      "source": [
        "A = np.random.randint(0,4,(6,3))\n",
        "print(A)\n",
        "B = np.logical_and.reduce(A[:,1:] == A[:,:-1], axis=1)\n",
        "res = A[~B]\n",
        "print(res)"
      ]
    },
    {
      "cell_type": "markdown",
      "metadata": {
        "id": "Z8Fu4G_RCAxr"
      },
      "source": [
        "#### 95. Convert a vector of ints into a matrix binary representation (★★★) \n",
        "(**hint**: np.unpackbits)"
      ]
    },
    {
      "cell_type": "code",
      "execution_count": null,
      "metadata": {
        "id": "kgScy4RACAxs",
        "colab": {
          "base_uri": "https://localhost:8080/"
        },
        "outputId": "630a05b9-d68b-4719-b28e-097e6f2d5c86"
      },
      "outputs": [
        {
          "output_type": "stream",
          "name": "stdout",
          "text": [
            "[10  4 18  9 30  6]\n",
            "[[0 1 0 1 0]\n",
            " [0 0 1 0 0]\n",
            " [1 0 0 1 0]\n",
            " [0 1 0 0 1]\n",
            " [1 1 1 1 0]\n",
            " [0 0 1 1 0]]\n"
          ]
        }
      ],
      "source": [
        "A = np.array([10, 4, 18, 9, 30, 6])\n",
        "print(A)\n",
        "B = ((A.reshape(-1,1) & (2**np.arange(5))) != 0).astype(int)\n",
        "print(B[:,::-1])"
      ]
    },
    {
      "cell_type": "markdown",
      "metadata": {
        "id": "LRXvceaHCAxs"
      },
      "source": [
        "#### 96. Given a two dimensional array, how to extract unique rows? (★★★) \n",
        "(**hint**: np.ascontiguousarray)"
      ]
    },
    {
      "cell_type": "code",
      "execution_count": null,
      "metadata": {
        "id": "SIylhqwwCAxs",
        "colab": {
          "base_uri": "https://localhost:8080/"
        },
        "outputId": "9d926031-b7ee-4da1-9aa0-630568dd234f"
      },
      "outputs": [
        {
          "output_type": "stream",
          "name": "stdout",
          "text": [
            "[[0 0 0]\n",
            " [1 1 1]\n",
            " [0 0 1]]\n",
            "Unique Rows:\n",
            "[[0 0 0]\n",
            " [0 0 1]\n",
            " [1 1 1]]\n"
          ]
        }
      ],
      "source": [
        "x = np.random.randint(0,2,(3,3))\n",
        "print(x)\n",
        "y = np.unique(x, axis = 0)\n",
        "print('Unique Rows:',y, sep = '\\n')"
      ]
    },
    {
      "cell_type": "markdown",
      "metadata": {
        "id": "WVmb0u41CAxs"
      },
      "source": [
        "#### 97. Considering 2 vectors A & B, write the einsum equivalent of inner, outer, sum, and mul function (★★★) \n",
        "(**hint**: np.einsum)"
      ]
    },
    {
      "cell_type": "code",
      "execution_count": null,
      "metadata": {
        "id": "erQ0vjlmCAxt",
        "colab": {
          "base_uri": "https://localhost:8080/"
        },
        "outputId": "143a3e8a-7c04-41b6-95f5-d4182ff0668e"
      },
      "outputs": [
        {
          "output_type": "stream",
          "name": "stdout",
          "text": [
            "[0.17025126 0.73965452 0.76284936 0.89778419 0.34589169]\n",
            "[0.62079945 0.97025551 0.25026365 0.75016322 0.40654654]\n",
            "Sum: 2.9164310171550962\n",
            "Mul: [0.10569189 0.71765387 0.19091347 0.67348468 0.14062107]\n",
            "Sum: 1.828364977832165\n",
            "Sum: [[0.10569189 0.16518722 0.0426077  0.12771623 0.06921506]\n",
            " [0.45917712 0.71765387 0.18510864 0.55486161 0.30070398]\n",
            " [0.47357647 0.7401588  0.19091347 0.57226154 0.31013377]\n",
            " [0.55734393 0.87108006 0.22468275 0.67348468 0.36499106]\n",
            " [0.21472937 0.33560332 0.08656412 0.25947522 0.14062107]]\n"
          ]
        }
      ],
      "source": [
        "A = np.random.uniform(0,1,5)\n",
        "B = np.random.uniform(0,1,5)\n",
        "print(A)\n",
        "print(B)\n",
        "sum = np.einsum('i->', A)       \n",
        "mul = np.einsum('i,i->i', A, B) \n",
        "inner = np.einsum('i,i', A, B)    \n",
        "outer = np.einsum('i,j->ij', A, B)\n",
        "print(\"Sum:\", sum)\n",
        "print(\"Mul:\", mul)\n",
        "print(\"Sum:\", inner)\n",
        "print(\"Sum:\", outer)"
      ]
    },
    {
      "cell_type": "markdown",
      "metadata": {
        "id": "TmFUe2S2CAxt"
      },
      "source": [
        "#### 98. Considering a path described by two vectors (X,Y), how to sample it using equidistant samples (★★★)? \n",
        "(**hint**: np.cumsum, np.interp)"
      ]
    },
    {
      "cell_type": "code",
      "execution_count": null,
      "metadata": {
        "collapsed": true,
        "id": "qqxBfUHICAxt"
      },
      "outputs": [],
      "source": [
        "phi = np.arange(0, 1*np.pi, 0.1)\n",
        "a = 1\n",
        "v1 = a*phi*np.cos(phi)\n",
        "v2 = a*phi*np.sin(phi)\n",
        "dr = (np.diff(v1)**2 + np.diff(v2)**2)**.5\n",
        "r = np.zeros_like(v1)\n",
        "\n",
        "r[1:] = np.cumsum(dr)\n",
        "r_int = np.linspace(0, r.max(), 200)\n",
        "\n",
        "v1_int = np.interp(r_int, r, v1)\n",
        "v2_int = np.interp(r_int, r, v2)"
      ]
    },
    {
      "cell_type": "markdown",
      "metadata": {
        "id": "iMMEy5JWCAxu"
      },
      "source": [
        "#### 99. Given an integer n and a 2D array X, select from X the rows which can be interpreted as draws from a multinomial distribution with n degrees, i.e., the rows which only contain integers and which sum to n. (★★★) \n",
        "(**hint**: np.logical\\_and.reduce, np.mod)"
      ]
    },
    {
      "cell_type": "code",
      "execution_count": null,
      "metadata": {
        "id": "mWYt6qPRCAxu",
        "colab": {
          "base_uri": "https://localhost:8080/"
        },
        "outputId": "dd39654f-c6b7-4d64-9387-6b75f07d4801"
      },
      "outputs": [
        {
          "output_type": "stream",
          "name": "stdout",
          "text": [
            "[[2. 0. 1. 1.]]\n"
          ]
        }
      ],
      "source": [
        "X = np.asarray([[1.0, 0.0, 3.0, 8.0],\n",
        "                [2.0, 0.0, 1.0, 1.0],\n",
        "                [1.5, 2.5, 1.0, 0.0]])\n",
        "n = 4\n",
        "M = np.logical_and.reduce(np.mod(X, 1) == 0, axis=-1)\n",
        "M &= (X.sum(axis=-1) == n)\n",
        "print(X[M])"
      ]
    },
    {
      "cell_type": "markdown",
      "metadata": {
        "id": "3VxSRhQ-CAxu"
      },
      "source": [
        "#### 100. Compute bootstrapped 95% confidence intervals for the mean of a 1D array X (i.e., resample the elements of an array with replacement N times, compute the mean of each sample, and then compute percentiles over the means). (★★★) \n",
        "(**hint**: np.percentile)"
      ]
    },
    {
      "cell_type": "code",
      "execution_count": null,
      "metadata": {
        "id": "k1t_NDOMCAxu",
        "colab": {
          "base_uri": "https://localhost:8080/"
        },
        "outputId": "89699374-b32f-48f3-bf97-50d828ac9528"
      },
      "outputs": [
        {
          "output_type": "stream",
          "name": "stdout",
          "text": [
            "[-0.27379066  0.12322435]\n"
          ]
        }
      ],
      "source": [
        "X = np.random.randn(100) \n",
        "N = 1000 \n",
        "idx = np.random.randint(0, X.size, (N, X.size))\n",
        "means = X[idx].mean(axis=1)\n",
        "confint = np.percentile(means, [2.5, 97.5])\n",
        "print(confint)"
      ]
    }
  ],
  "metadata": {
    "kernelspec": {
      "display_name": "Python 3",
      "language": "python",
      "name": "python3"
    },
    "language_info": {
      "codemirror_mode": {
        "name": "ipython",
        "version": 3
      },
      "file_extension": ".py",
      "mimetype": "text/x-python",
      "name": "python",
      "nbconvert_exporter": "python",
      "pygments_lexer": "ipython3",
      "version": "3.8.3"
    },
    "colab": {
      "provenance": [],
      "collapsed_sections": [
        "lHaBqQeECAww",
        "LGyC-ouQCAwx",
        "Qsi8vaFVCAwy",
        "x1Is-9E9CAwz",
        "4zCyf23LCAw0",
        "w6Dxgy5lCAw1",
        "qNdIATMlCAw2",
        "oRC-dq05CAw2",
        "aJD0FS9hCAw3",
        "S57pFBGsCAw4",
        "umbRf7G2CAw5",
        "GpIJu6tsCAw6",
        "sSt0wpJ_CAw6",
        "N2yd0EonCAw7",
        "KzJEXegpCAw8",
        "bjIPREP-CAw9",
        "5WlJqNgcCAw9",
        "nXZBfhdKCAw-",
        "sbQq7HjSCAw_",
        "KkWPO4TGCAxA",
        "qBVKoiiqCAxB",
        "5dkv-TydCAxC",
        "_1YC9JbGCAxC",
        "1QaZG24fCAxD",
        "Olxrfw4eCAxD",
        "TqwrkOf1CAxF",
        "7Wf9snxECAxF",
        "Ul1Bu_ILCAxG",
        "gzJjhALHCAxG",
        "ySUmb--MCAxH",
        "S8ynMd-DCAxI",
        "i-z4HvTuCAxI",
        "kcWZYUo_CAxJ",
        "RH9wArtECAxK",
        "zqbVVIa5CAxK",
        "E4PrVk6ICAxL",
        "6zCR2lXyCAxL",
        "LESdmBsECAxM",
        "83sc1SN2CAxN",
        "Yj5rYfZQCAxN",
        "ZhTBZOtbCAxO",
        "JpGYSX3xCAxO",
        "6OwCkONxCAxP",
        "ksY18MwKCAxQ",
        "K1gzsA7dCAxQ",
        "i_iMaTMQCAxR",
        "YhT554MbCAxR",
        "Z9uhgBkrCAxS",
        "FBzo3pXMCAxT",
        "0XCWyjqeCAxX",
        "cBE6J_KtCAxY",
        "poo7VXStCAxY",
        "VCCDXOFRCAxZ",
        "3n--7Qy6CAxZ",
        "v91rJeTaCAxa",
        "1s2Mhi81CAxb",
        "hcA3PVebCAxb",
        "ZvTcbFrdCAxc",
        "O0Vbx3-ZCAxc",
        "SlziY5RfCAxd",
        "JWYnXPsPCAxe",
        "pcItPfKVCAxe",
        "aEtlyXw0CAxf",
        "dTOQtd-dCAxf",
        "CZ4UqI4wCAxg",
        "8x5dL1bkCAxg",
        "hLyQ112wCAxh",
        "7juBQxonCAxh",
        "bPeaVuMJCAxi",
        "2nIbp7IDCAxj",
        "RiGjZnXYCAxj",
        "IX1cGwvSCAxk",
        "5Jg_GOlACAxm",
        "6gmlJ5IhCAxn",
        "il3dDUsaCAxo",
        "e8CAdEYSCAxo",
        "5PtcUREgCAxp",
        "2Z2BgBWcCAxp",
        "8rhA8U0PCAxq",
        "_p5k7LnnCAxq",
        "7NX3wLjnCAxr",
        "Z8Fu4G_RCAxr",
        "LRXvceaHCAxs",
        "WVmb0u41CAxs",
        "TmFUe2S2CAxt",
        "iMMEy5JWCAxu",
        "3VxSRhQ-CAxu"
      ],
      "include_colab_link": true
    }
  },
  "nbformat": 4,
  "nbformat_minor": 0
}